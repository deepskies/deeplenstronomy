{
 "cells": [
  {
   "cell_type": "markdown",
   "metadata": {},
   "source": [
    "# Science with `deeplenstronomy`!\n",
    "\n",
    "The notebooks up until this point have demonstrated the features of `deeplenstronomy` at their most basic level. This notebook will show how I would design a science-ready training set by putting some of those features to use.\n",
    "\n",
    "We'll be going through the configuration file `example.yaml`, which simulates a 4-class dataset consisting of galaxy-galay lensing, galaxy-galaxy lensing where the lens is a real DES galaxy, lensed quasars, and a galaxy by itself."
   ]
  },
  {
   "cell_type": "code",
   "execution_count": 1,
   "metadata": {},
   "outputs": [],
   "source": [
    "import deeplenstronomy.deeplenstronomy as dl\n",
    "from deeplenstronomy.visualize import view_image, view_image_rgb"
   ]
  },
  {
   "cell_type": "markdown",
   "metadata": {},
   "source": [
    "### Top Level Dataset Properties\n",
    "\n",
    "Like in the other examples, we start by selecting the size of our dataset and telling `deeplenstronomy` where to save the images at the end of the day."
   ]
  },
  {
   "cell_type": "code",
   "execution_count": 2,
   "metadata": {},
   "outputs": [
    {
     "name": "stdout",
     "output_type": "stream",
     "text": [
      "# A full example of using deeplenstronomy.\r\n",
      "# The science goal here will be the detection of galaxy-galaxy lensing and lensed quasars.\r\n",
      "# This file will contain all the information needed to describe the dataset.\r\n",
      "\r\n",
      "## We start at the top level with the DATASET section\r\n",
      "\r\n",
      "DATASET:\r\n",
      "    NAME: ExampleDataset # set a name, this value is only used if you request the h5 file format\r\n",
      "    PARAMETERS:\r\n",
      "        SIZE: 1000 # number of images in the full dataset, I'll keep it small for this example\r\n",
      "        OUTDIR: ExampleDataset # will be created on your system if your request to save images\r\n"
     ]
    }
   ],
   "source": [
    "! head -11 data/example.yaml"
   ]
  },
  {
   "cell_type": "markdown",
   "metadata": {},
   "source": [
    "Next up is the cosmology section. Here I could also specify $T_{cmb}$, $N_{eff}$, and other parameters of the `astropy.cosmology.FlatLambdaCDM` class, but we can get away with just specifying $H_0$ and $\\Omega_m$ since that is technically all that is needed for the cosmology calculation performed internally."
   ]
  },
  {
   "cell_type": "code",
   "execution_count": 3,
   "metadata": {},
   "outputs": [
    {
     "name": "stdout",
     "output_type": "stream",
     "text": [
      "## Next we'll specify the COSMOLOGY to use, I'll keep it simple a just use basic values\r\n",
      "\r\n",
      "COSMOLOGY:\r\n",
      "    PARAMETERS:\r\n",
      "        H0: 74.0\r\n",
      "        Om0: 0.3\r\n",
      "\r\n"
     ]
    }
   ],
   "source": [
    "! head -19 data/example.yaml | tail -7"
   ]
  },
  {
   "cell_type": "markdown",
   "metadata": {},
   "source": [
    "### Camera and Observing Conditions\n",
    "\n",
    "Now normally we would write the `IMAGE` and `SURVEY` sections next to describe the camera and observing conditions, but I will make use of `deeplenstronomy`'s built-in surveys functionality and just pass `survey='des'` when calling the `deeplenstronomy.make_dataset()` function."
   ]
  },
  {
   "cell_type": "code",
   "execution_count": 4,
   "metadata": {},
   "outputs": [
    {
     "name": "stdout",
     "output_type": "stream",
     "text": [
      "\r\n",
      "## Next we technically need the IMAGE and SURVEY sections, but I will get around this using a built-in survey mode\r\n",
      "## by specifying survey='des' in deeplenstronomy.make_dataset(), these sections will be automatically written\r\n",
      "\r\n"
     ]
    }
   ],
   "source": [
    "! head -22 data/example.yaml | tail -4"
   ]
  },
  {
   "cell_type": "markdown",
   "metadata": {},
   "source": [
    "### Describing the Objects to Simulate\n",
    "\n",
    "Time to describe the objects we want to put in our dataset. Onward to the `SPECIES` section!\n",
    "\n",
    "I'll start with a galaxy. It's name will be \"SimulatedLens\" and I'll use this name to refer to it later on. I'll add to this galaxy a \"Light Profile\" to describe how it's light will appear and a \"Mass Profile\" to tell `deeplenstronomy` how it will affect the light of objects behind it.\n",
    "\n",
    "For the Light Profile, I'm choosing to call the `lenstronomy` \"SERSIC_ELLIPSE\" model, then I set its parameters:\n",
    "\n",
    "- I'll be giving this galaxy realistic color later on, so I'm going to put a fake value in for the `magnitude`\n",
    "- `center_x` and `center_y` are set to 0 so that this object is always in the exact center of the image;\n",
    "- The 4 other parameters are all drawn from distributions of physically-motivated values to give the simulated galaxies diversity\n",
    "\n",
    "For the Mass Profile, I'm choosing to call the `lenstronomy` \"SIE\" model, then I set its parameters:\n",
    "\n",
    "- I draw `theta_E`, `e1`, and `e2` from realistic distributions;\n",
    "- `center_x` and `center_y` are set to 0 for the same reason as the Light Profile"
   ]
  },
  {
   "cell_type": "code",
   "execution_count": 5,
   "metadata": {},
   "outputs": [
    {
     "name": "stdout",
     "output_type": "stream",
     "text": [
      "SPECIES:\r\n",
      "    GALAXY_1:  # This will be the first type of lens galaxy, and it's properties will by fully simulated\r\n",
      "        NAME: SimulatedLens # name of this galaxy object\r\n",
      "        LIGHT_PROFILE_1: # we'll describe how the light of this galaxy looks\r\n",
      "            NAME: SERSIC_ELLIPSE # a good default lenstronomy light model\r\n",
      "            PARAMETERS:\r\n",
      "                magnitude: -5 # I'm setting this to a non-real value because I will overwrite it with a USERDIST later\r\n",
      "                center_x: 0.0 # set the lens galaxy to be at the center of the images\r\n",
      "                center_y: 0.0\r\n",
      "                R_sersic: # controls the angular size of the galaxy\r\n",
      "                    DISTRIBUTION: # draw from a distribution to give the dataset diversity\r\n",
      "                        NAME: normal  # use a normal distribution around 6\r\n",
      "                        PARAMETERS:\r\n",
      "                            mean: 6.0\r\n",
      "                            std: 1.5\r\n",
      "                n_sersic: # controls the slope of the light profile\r\n",
      "                    DISTRIBUTION: # draw from a distribution to give the dataset diversity\r\n",
      "                        NAME: normal  # use a normal distribution around 4\r\n",
      "                        PARAMETERS:\r\n",
      "                            mean: 4.0\r\n",
      "                            std: 0.8\r\n",
      "                e1: # controls half of the eccentricity of the galaxy\r\n",
      "                    DISTRIBUTION: # draw from a distribution to give the dataset diversity\r\n",
      "                        NAME: uniform # use a uniform distribution on (-1,1)\r\n",
      "                        PARAMETERS:\r\n",
      "                            minimum: -0.3\r\n",
      "                            maximum: 0.3\r\n",
      "                e2: # controls other half of the eccentricity of the galaxy\r\n",
      "                    DISTRIBUTION: # draw from a distribution to give the dataset diversity\r\n",
      "                        NAME: uniform # use a uniform distribution on (-1,1)\r\n",
      "                        PARAMETERS:\r\n",
      "                            minimum: -0.3\r\n",
      "                            maximum: 0.3\r\n",
      "\r\n",
      "        MASS_PROFILE_1: # now let's describe how the mass will be distributed in this galaxy\r\n",
      "            NAME: SIE # a good default lenstronomy mass model\r\n",
      "            PARAMETERS:\r\n",
      "                theta_E: # the Einstein radius of the lensing\r\n",
      "                    DISTRIBUTION: # draw from a distribution to give the dataset diversity\r\n",
      "                        NAME: uniform # use a uniform distribution from 0.5 to 10\r\n",
      "                        PARAMETERS:\r\n",
      "                            minimum: 0.5\r\n",
      "                            maximum: 3\r\n",
      "                e1: # controls half of the eccentricity of the galaxy's mass distribution\r\n",
      "                    DISTRIBUTION: # draw from a distribution to give the dataset diversity\r\n",
      "                        NAME: uniform # use a uniform distribution on (-1,1)\r\n",
      "                        PARAMETERS:\r\n",
      "                            minimum: -0.3\r\n",
      "                            maximum: 0.3\r\n",
      "                e2: # controls other half of the eccentricity of the galaxy's mass distribution\r\n",
      "                    DISTRIBUTION: # draw from a distribution to give the dataset diversity\r\n",
      "                        NAME: uniform # use a uniform distribution on (-1,1)\r\n",
      "                        PARAMETERS:\r\n",
      "                            minimum: -0.3\r\n",
      "                            maximum: 0.3\r\n",
      "                center_x: 0.0 # center the mass distribution since the light was centered as well\r\n",
      "                center_y: 0.0 \r\n",
      "\r\n"
     ]
    }
   ],
   "source": [
    "! head -83 data/example.yaml | tail -58"
   ]
  },
  {
   "cell_type": "markdown",
   "metadata": {},
   "source": [
    "Next, I'll write the properties for the galaxy I plan to use as a source galaxy in the gravitational lensing systems. I'll name it \"SimulatedSource\". I'll use a similar Light Profile, and I can get away without a Mass Profile because the source galaxy's mass will not affect the lensing.\n",
    "\n",
    "The parameters will be defined in a similar way to the Light Profile of SimulatedLens, but this time I will draw `center_x` and `center_y` from narrow distributions to account for not-exactly-alligned gravitational lensing."
   ]
  },
  {
   "cell_type": "code",
   "execution_count": 6,
   "metadata": {},
   "outputs": [
    {
     "name": "stdout",
     "output_type": "stream",
     "text": [
      "    GALAXY_2: # now we'll do a source galaxy, and no need for a mass profile since only the light matters in the lensing\r\n",
      "        NAME: SimulatedSource\r\n",
      "        LIGHT_PROFILE_1:\r\n",
      "            NAME: SERSIC_ELLIPSE\r\n",
      "            PARAMETERS:\r\n",
      "                magnitude: -5 # again, we'll overwrite this value with a USERDIST\r\n",
      "                center_x:\r\n",
      "                    DISTRIBUTION: #draw source position from a distribution to allow for small misalignments\r\n",
      "                        NAME: normal\r\n",
      "                        PARAMETERS:\r\n",
      "                            mean: 0.0\r\n",
      "                            std: 0.5\r\n",
      "                center_y:\r\n",
      "                    DISTRIBUTION: #draw source position from a distribution to allow for small misalignments\r\n",
      "                        NAME: normal\r\n",
      "                        PARAMETERS:\r\n",
      "                            mean: 0.0\r\n",
      "                            std: 0.5\r\n",
      "                R_sersic: # controls the angular size of the galaxy\r\n",
      "                    DISTRIBUTION: # draw from a distribution to give the dataset diversity\r\n",
      "                        NAME: normal  # use a normal distribution around 6\r\n",
      "                        PARAMETERS:\r\n",
      "                            mean: 6.0\r\n",
      "                            std: 1.5\r\n",
      "                n_sersic: # controls the slope of the light profile\r\n",
      "                    DISTRIBUTION: # draw from a distribution to give the dataset diversity\r\n",
      "                        NAME: normal  # use a normal distribution around 4\r\n",
      "                        PARAMETERS:\r\n",
      "                            mean: 4.0\r\n",
      "                            std: 0.8\r\n",
      "                e1: # controls half of the eccentricity of the galaxy\r\n",
      "                    DISTRIBUTION: # draw from a distribution to give the dataset diversity\r\n",
      "                        NAME: uniform # use a uniform distribution on (-1,1)\r\n",
      "                        PARAMETERS:\r\n",
      "                            minimum: -0.3\r\n",
      "                            maximum: 0.3\r\n",
      "                e2: # controls other half of the eccentricity of the galaxy\r\n",
      "                    DISTRIBUTION: # draw from a distribution to give the dataset diversity\r\n",
      "                        NAME: uniform # use a uniform distribution on (-1,1)\r\n",
      "                        PARAMETERS:\r\n",
      "                            minimum: -1.0\r\n",
      "                            maximum: 1.0\r\n"
     ]
    }
   ],
   "source": [
    "! head -126 data/example.yaml | tail -42"
   ]
  },
  {
   "cell_type": "markdown",
   "metadata": {},
   "source": [
    "To finish off the galaxies I'll define in this configuration file, I will make a third galaxy called \"DarkLens\". The reason for the name is I am going to simulate **no light at all** coming from this galaxy, and then I am going to use a real DES image of a lens galaxy in its place.\n",
    "\n",
    "The Light Profile here is very simple because I'm intending it to be meaningless. I set the magnitude to 100 so that the light will be several dozens of orders of magnitude too faint to detect, and then I add values to all the other parameters to satisfy both `deeplenstronomy` and `lenstronomy`.\n",
    "\n",
    "The Mass Profile here is important. To make the training dataset realistic, I want to make sure the the real image of a galaxy that I use has its properties encoded into the lensing calculations. Specifically, I will use the measured velocity dispersion of the DES galaxy in each image in the simulation. Thus, I am specifying `sigma_v` instead of `theta_E` in this case.\n",
    "\n",
    "- It's important when using `deeplenstronomy`'s `BACKGROUNDS` functionality to draw the parameters you are associating with the images from distributions. Internally, this is not a straightforward overwriting. Rather, the distribution is sampled first, and then the image with the closest velocity dispersion to each drawn value is utilized."
   ]
  },
  {
   "cell_type": "code",
   "execution_count": 7,
   "metadata": {},
   "outputs": [
    {
     "name": "stdout",
     "output_type": "stream",
     "text": [
      "    GALAXY_3: # I'll use this galaxy as a completely dark object so that a real image of a lens galaxy can be used\r\n",
      "        NAME: DarkLens\r\n",
      "        LIGHT_PROFILE_1:\r\n",
      "            NAME: SERSIC_ELLIPSE\r\n",
      "            PARAMETERS:\r\n",
      "                magnitude: 100 # so that the light is essentially zero\r\n",
      "                center_x: 0.0 # doesn't matter, just need a valid number\r\n",
      "                center_y: 0.0 # doesn't matter, just need a valid number\r\n",
      "                R_sersic: 1.0 # doesn't matter, just need a valid number\r\n",
      "                n_sersic: 1.0 # doesn't matter, just need a valid number\r\n",
      "                e1: 0.5 # doesn't matter, just need a valid number\r\n",
      "                e2: 0.5 # doesn't matter, just need a valid number\r\n",
      "        MASS_PROFILE_1:\r\n",
      "            NAME: SIE\r\n",
      "            PARAMETERS:\r\n",
      "                sigma_v: # velocity dispersion of the lens galaxy, this will be linked to the lens galaxy image used\r\n",
      "                    DISTRIBUTION:\r\n",
      "                        NAME: uniform\r\n",
      "                        PARAMETERS:\r\n",
      "                            minimum: 150\r\n",
      "                            maximum: 400\r\n",
      "                e1: # controls half of the eccentricity of the galaxy's mass distribution\r\n",
      "                    DISTRIBUTION: # draw from a distribution to give the dataset diversity\r\n",
      "                        NAME: uniform # use a uniform distribution on (-1,1)\r\n",
      "                        PARAMETERS:\r\n",
      "                            minimum: -0.3\r\n",
      "                            maximum: 0.3\r\n",
      "                e2: # controls other half of the eccentricity of the galaxy's mass distribution\r\n",
      "                    DISTRIBUTION: # draw from a distribution to give the dataset diversity\r\n",
      "                        NAME: uniform # use a uniform distribution on (-1,1)\r\n",
      "                        PARAMETERS:\r\n",
      "                            minimum: -0.3\r\n",
      "                            maximum: 0.3\r\n",
      "                center_x: 0.0 # center the mass distribution since the light was centered as well\r\n",
      "                center_y: 0.0 \r\n",
      "\r\n"
     ]
    }
   ],
   "source": [
    "! head -163 data/example.yaml | tail -36"
   ]
  },
  {
   "cell_type": "markdown",
   "metadata": {},
   "source": [
    "Closing out the `SPECIES` section, I'll include a quasar so that we can simulated lensed quasars along with the other cases of galaxy-galaxy lensing.\n",
    "\n",
    "I'll name this object \"Quasar\" and specify that I want the `POINTSOURCE` to be located within the galaxy that I named SimulatedSource earlier. Since a quasar is always at the center of a galaxy, I will leave off the `sep`, `sep_unit` and `angle` parameters, in which case `deeplenstronomy` will place the `POINTSOURCE` at the center of its `HOST`. Lastly, I'll plan to overwrite the magnitude with a realistic, color-dependent, distribution using `deeplenstronomy`'s `USERDIST` functionality."
   ]
  },
  {
   "cell_type": "code",
   "execution_count": 8,
   "metadata": {},
   "outputs": [
    {
     "name": "stdout",
     "output_type": "stream",
     "text": [
      "    \r\n",
      "    POINTSOURCE_1: # add a point source for a quasar\r\n",
      "        NAME: Quasar\r\n",
      "        HOST: SimulatedSource # put the quasar in the simulated source galaxy\r\n",
      "        PARAMETERS: # no need for sep, angle, or sep_unit parameters since the point source will be at the center of the host\r\n",
      "            magnitude: -5 # We'll overwrite this with a realistic quasar color distribution as a USERDIST\r\n",
      "        \r\n",
      "\r\n"
     ]
    }
   ],
   "source": [
    "! head -171 data/example.yaml | tail -8"
   ]
  },
  {
   "cell_type": "markdown",
   "metadata": {},
   "source": [
    "### Object Placements\n",
    "\n",
    "Now I'll fill in the `GEOMETRY` section to tell `deeplenstronomy` how I want the objects oriented. Let's start with a straightforward galaxy-galaxy lensing system. Each system I choose to create will be called a `CONFIGURATION`. I've named this one \"GalaxyGalaxySimulated\" so I can keep track that I'm doing galaxy-galaxy lensing and using all simulated light. I also specify `FRACTION: 0.25` so that this type of system will make up 1/4 of the total images that get produced.\n",
    "\n",
    "Because I want to put one galaxy behind another one, I need two `PLANE`s, in each plane I write the name of the objects I want and I set the redshift."
   ]
  },
  {
   "cell_type": "code",
   "execution_count": 9,
   "metadata": {},
   "outputs": [
    {
     "name": "stdout",
     "output_type": "stream",
     "text": [
      "## Lastly, we'll specify how we want the GEOMETRY of the systems simulated\r\n",
      "\r\n",
      "GEOMETRY:\r\n",
      "    CONFIGURATION_1: \r\n",
      "        NAME: GalaxyGalaxySimulated # describe what's in this configuration\r\n",
      "        FRACTION: 0.25 # images from this configuration will make up 1/4 of the dataset\r\n",
      "        PLANE_1: # add all objects in the first plane\r\n",
      "            OBJECT_1: SimulatedLens # name of the object to put in this plane\r\n",
      "            PARAMETERS:\r\n",
      "                REDSHIFT:\r\n",
      "                    DISTRIBUTION:\r\n",
      "                        NAME: uniform\r\n",
      "                        PARAMETERS:\r\n",
      "                            minimum: 0.05\r\n",
      "                            maximum: 0.3\r\n",
      "        PLANE_2: # add all objects in the second plane\r\n",
      "            OBJECT_1: SimulatedSource\r\n",
      "            PARAMETERS:\r\n",
      "                REDSHIFT:\r\n",
      "                    DISTRIBUTION:\r\n",
      "                        NAME: uniform\r\n",
      "                        PARAMETERS:\r\n",
      "                            minimum: 0.5\r\n",
      "                            maximum: 1.0\r\n",
      "\r\n"
     ]
    }
   ],
   "source": [
    "! head -228 data/example.yaml | tail -25"
   ]
  },
  {
   "cell_type": "markdown",
   "metadata": {},
   "source": [
    "Next let's put in a second configuration where I keep everything the same, except I'll switch out \"SimulatedLens\" for \"DarkLens\". This will be the configuration where I put in the real DES images later on. This one I'll name \"GalaxyGalaxyReal\" to indicate the use of real images while still doing galax-galaxy lensing."
   ]
  },
  {
   "cell_type": "code",
   "execution_count": 10,
   "metadata": {},
   "outputs": [
    {
     "name": "stdout",
     "output_type": "stream",
     "text": [
      "    CONFIGURATION_2:\r\n",
      "        NAME: GalaxyGalaxyReal # describe what's in this configuration\r\n",
      "        FRACTION: 0.25 # images from this configuration will make up 1/4 of the dataset\r\n",
      "        PLANE_1: # add all objects in the first plane\r\n",
      "            OBJECT_1: DarkLens # name of the object to put in this plane\r\n",
      "            PARAMETERS:\r\n",
      "                REDSHIFT:\r\n",
      "                    DISTRIBUTION:\r\n",
      "                        NAME: uniform\r\n",
      "                        PARAMETERS:\r\n",
      "                            minimum: 0.05\r\n",
      "                            maximum: 0.3\r\n",
      "        PLANE_2: # add all objects in the second plane\r\n",
      "            OBJECT_1: SimulatedSource\r\n",
      "            PARAMETERS:\r\n",
      "                REDSHIFT:\r\n",
      "                    DISTRIBUTION:\r\n",
      "                        NAME: uniform\r\n",
      "                        PARAMETERS:\r\n",
      "                            minimum: 0.5\r\n",
      "                            maximum: 1.0\r\n",
      "\r\n"
     ]
    }
   ],
   "source": [
    "! head -250 data/example.yaml | tail -22"
   ]
  },
  {
   "cell_type": "markdown",
   "metadata": {},
   "source": [
    "Next let's make the dataset a little more fun and put in a lensed quasar system. I'll call this configuration \"GalaxyQuasarSimulated\". Everything is the same as `CONFIGURATION_1`, but I have added `OBJECT_2: Quasar` to `PLANE_2`. This line tells `deeplenstronomy` to include the object in it the `SPECIES` section named \"Quasar\". Recall that \"Quasar\" has a `HOST` of \"SimulatedSource\", so `deeplenstronomy` is already prepared to put this object in that galaxy."
   ]
  },
  {
   "cell_type": "code",
   "execution_count": 11,
   "metadata": {},
   "outputs": [
    {
     "name": "stdout",
     "output_type": "stream",
     "text": [
      "    CONFIGURATION_3:\r\n",
      "        NAME: GalaxyQuasarSimulated # describe what's in this configuration\r\n",
      "        FRACTION: 0.25 # images from this configuration will make up 1/4 of the dataset\r\n",
      "        PLANE_1: # add all objects in the first plane\r\n",
      "            OBJECT_1: SimulatedLens # name of the object to put in this plane\r\n",
      "            PARAMETERS:\r\n",
      "                REDSHIFT:\r\n",
      "                    DISTRIBUTION:\r\n",
      "                        NAME: uniform\r\n",
      "                        PARAMETERS:\r\n",
      "                            minimum: 0.05\r\n",
      "                            maximum: 0.3\r\n",
      "        PLANE_2: # add all objects in the second plane\r\n",
      "            OBJECT_1: SimulatedSource\r\n",
      "            OBJECT_2: Quasar # now we add the quasar on top of the source galaxy\r\n",
      "            PARAMETERS:\r\n",
      "                REDSHIFT:\r\n",
      "                    DISTRIBUTION:\r\n",
      "                        NAME: uniform\r\n",
      "                        PARAMETERS:\r\n",
      "                            minimum: 0.5\r\n",
      "                            maximum: 1.0\r\n"
     ]
    }
   ],
   "source": [
    "! head -272 data/example.yaml | tail -22"
   ]
  },
  {
   "cell_type": "markdown",
   "metadata": {},
   "source": [
    "Lastly, I'll include a configuration where I only simulate a single galaxy. The motivation here is to simulate a background class for a neural network to train on. Presumably the largest background you'll face will be individual galaxies, but you can get as detailed as you want. To make \"JustAGalaxy\" I will copy `CONFIGURATION_1`, but I will remove the second plane that contained the background galaxy."
   ]
  },
  {
   "cell_type": "code",
   "execution_count": 12,
   "metadata": {},
   "outputs": [
    {
     "name": "stdout",
     "output_type": "stream",
     "text": [
      "    CONFIGURATION_4:\r\n",
      "        NAME: JustAGalaxy # describe what's in this configuration\r\n",
      "        FRACTION: 0.25 # images from this configuration will make up 1/4 of the dataset\r\n",
      "        PLANE_1: # add all objects in the first plane\r\n",
      "            OBJECT_1: SimulatedLens # name of the object to put in this plane\r\n",
      "            PARAMETERS:\r\n",
      "                REDSHIFT:\r\n",
      "                    DISTRIBUTION:\r\n",
      "                        NAME: uniform\r\n",
      "                        PARAMETERS:\r\n",
      "                            minimum: 0.05\r\n",
      "                            maximum: 0.3\r\n"
     ]
    }
   ],
   "source": [
    "! head -285 data/example.yaml | tail -12"
   ]
  },
  {
   "cell_type": "markdown",
   "metadata": {},
   "source": [
    "### Including the real galaxy images\n",
    "\n",
    "Recall that in `CONFIGURATION_2` I've utilized the object we aptly named \"DarkLens\" and that we effectively gave this object zero apparent luminosity. The reasoning here is that we wanted to have a mass profile, but utilize the light from a real image. To do that, I'll use the `BACKGROUNDS` feature of `deeplenstronomy`."
   ]
  },
  {
   "cell_type": "code",
   "execution_count": 13,
   "metadata": {},
   "outputs": [
    {
     "name": "stdout",
     "output_type": "stream",
     "text": [
      "## Now we'll point toward the background images we want to use, which contain DES galaxies at z < 0.3\r\n",
      "\r\n",
      "BACKGROUNDS: \r\n",
      "    PATH: data/example_background_images\r\n",
      "    CONFIGURATIONS: ['CONFIGURATION_2']\r\n",
      "\r\n"
     ]
    }
   ],
   "source": [
    "! head -203 data/example.yaml | tail -6"
   ]
  },
  {
   "cell_type": "markdown",
   "metadata": {},
   "source": [
    "The `CONFIGURATIONS` argument is a list containing only `CONFIGURATION_2` which specifies that I only want these background images to be utilized for `CONFIGURATION_2`."
   ]
  },
  {
   "cell_type": "code",
   "execution_count": 14,
   "metadata": {},
   "outputs": [
    {
     "name": "stdout",
     "output_type": "stream",
     "text": [
      "Y.fits  g.fits  i.fits  map.txt r.fits  z.fits\r\n"
     ]
    }
   ],
   "source": [
    "! ls data/example_background_images"
   ]
  },
  {
   "cell_type": "markdown",
   "metadata": {},
   "source": [
    "I've supplied a directory `example_background_images` of 46 DES images of galaxies (and the galaxies also overlap with SDSS) split into each band that I'm simulating in this dataset. I also give a `map.txt` file, which tells `deeplenstronomy` the properties of the galaxies in the images."
   ]
  },
  {
   "cell_type": "code",
   "execution_count": 15,
   "metadata": {},
   "outputs": [
    {
     "name": "stdout",
     "output_type": "stream",
     "text": [
      "CONFIGURATION_2-PLANE_1-OBJECT_1-MASS_PROFILE_1-sigma_v-g CONFIGURATION_2-PLANE_1-OBJECT_1-MASS_PROFILE_1-sigma_v-r CONFIGURATION_2-PLANE_1-OBJECT_1-MASS_PROFILE_1-sigma_v-i CONFIGURATION_2-PLANE_1-OBJECT_1-MASS_PROFILE_1-sigma_v-z CONFIGURATION_2-PLANE_1-OBJECT_1-MASS_PROFILE_1-sigma_v-Y\r\n",
      "196.737 196.737 196.737 196.737 196.737\r\n",
      "255.839 255.839 255.839 255.839 255.839\r\n",
      "211.848 211.848 211.848 211.848 211.848\r\n",
      "241.311 241.311 241.311 241.311 241.311\r\n",
      "193.026 193.026 193.026 193.026 193.026\r\n",
      "241.299 241.299 241.299 241.299 241.299\r\n",
      "183.588 183.588 183.588 183.588 183.588\r\n",
      "271.999 271.999 271.999 271.999 271.999\r\n",
      "235.621 235.621 235.621 235.621 235.621\r\n"
     ]
    }
   ],
   "source": [
    "! head data/example_background_images/map.txt"
   ]
  },
  {
   "cell_type": "markdown",
   "metadata": {},
   "source": [
    "Each of the galaxies here have a measure velocity dispersion, so in the `map.txt` file I am telling `deeplenstronomy` about the velocity dispersion of each galaxy (each galaxy is one row and the rows are aligned with the index of the image in the FITS files). \n",
    "\n",
    "Then, with the header row, I am telling `deeplenstronomy` which properties these velocity dispersions map to in the simualtions. Since the configuration with \"DarkLens\" is `CONFIGURATION_2` and \"DarkLens\" is `OBJECT_1` in `PLANE_1`, and since the velocity dispersion is characterized by the `sigma_v` parameter of \"DarkLens\"'s `MASS_PROFILE_1`, we can create a header string of:\n",
    "\n",
    "`CONFIGURATION_2-PLANE_1-OBJECT_1-MASS_PROFILE_1-sigma_v-`\n",
    "\n",
    "and finally since the velocity dispersion is not a color-dependent quantity, we make the velocity dispersion the same for each band."
   ]
  },
  {
   "cell_type": "markdown",
   "metadata": {},
   "source": [
    "### Including Realistic Object Colors\n",
    "\n",
    "In the same vein of simulating a dark galaxy knowing we would include real images, recall that we also left flag values of -5 in the `LIGHT_PROFILE_1-magnitude` parameter for \"SimulatedLens\", \"SimulatedSource\", and \"Quasar\". In this section we will finally give these objects physically meaningful brightnesses and colors.\n",
    "\n",
    "I'll do this by utilizing `USERDIST`s. In total there are 7 `USERDIST`s that I am utilizing. For each one I specify it's filename and the mode I will be using. In this case I've chosen to use the `sample` mode, which draws from the raw points in the file rather than interpolate a grid of points. This mode is **much** more efficient when correlating more than a couple parameters."
   ]
  },
  {
   "cell_type": "code",
   "execution_count": 16,
   "metadata": {},
   "outputs": [
    {
     "name": "stdout",
     "output_type": "stream",
     "text": [
      "DISTRIBUTIONS:\r\n",
      "    USERDIST_1:\r\n",
      "        FILENAME: data/low_z_galaxy_colors_config_1.txt  # contains redshift and g,r,i,z,y mag for DES galaxies at z < 0.3\r\n",
      "        MODE: sample # sample from all the rows specified in the file\r\n",
      "    USERDIST_2:\r\n",
      "        FILENAME: data/low_z_galaxy_colors_config_3.txt  # redshift and g,r,i,z,y mag for DES galaxies at z<0.3\r\n",
      "        MODE: sample # sample from all the rows specified in the file\r\n",
      "    USERDIST_3:\r\n",
      "        FILENAME: data/low_z_galaxy_colors_config_4.txt  # redshift and g,r,i,z,y mag for DES galaxies at z<0.3\r\n",
      "        MODE: sample # sample from all the rows specified in the file\r\n",
      "    USERDIST_4:\r\n",
      "        FILENAME: data/quasar_colors.txt # contains fake quasar colors to make them blueish\r\n",
      "        MODE: sample   \r\n",
      "    USERDIST_5: \r\n",
      "        FILENAME: data/high_z_galaxy_colors_config_1.txt # redshift and g,r,i,z,y for DES galaxies at 0.5<z<1.0\r\n",
      "        MODE: sample\r\n",
      "    USERDIST_6: \r\n",
      "        FILENAME: data/high_z_galaxy_colors_config_2.txt # redshift and g,r,i,z,y for DES galaxies at 0.5<z<1.0\r\n",
      "        MODE: sample\r\n",
      "    USERDIST_7: \r\n",
      "        FILENAME: data/high_z_galaxy_colors_config_3.txt # redshift and g,r,i,z,y for DES galaxies at 0.5<z<1.0\r\n",
      "        MODE: sample\r\n",
      "   \r\n"
     ]
    }
   ],
   "source": [
    "! head -196 data/example.yaml | tail -23"
   ]
  },
  {
   "cell_type": "markdown",
   "metadata": {},
   "source": [
    "Let's start with the first 3 `USERDIST`s: filenames `low_z_galaxy_colors_config_*.txt`. These three files are identical with the exception of the header row, which I will cover next. The columns in the files weree produced with the following query:\n",
    "\n",
    "```python\n",
    "SELECT DNF_ZMEAN_SOF, MAG_PSF_G, MAG_PSF_R, MAG_PSF_I, MAG_PSF_Z, MAG_PSF_Y \n",
    "FROM Y3_GOLD_2_2 \n",
    "WHERE EXTENDED_CLASS_COADD = 3 and DEC > -44 and DEC < -40 and DNF_ZMEAN_SOF < 0.3 and ROWNUM < 101;\n",
    "```\n",
    "\n",
    "Ignoring some of the DES-specific column and table names, what I've done is select the magnitude in each band and the redshift of 100 galaxies in a random patch of sky for low redshift galaxies. I've then put the query results directly into the `USERDIST` files with updated column names:"
   ]
  },
  {
   "cell_type": "code",
   "execution_count": 17,
   "metadata": {},
   "outputs": [
    {
     "name": "stdout",
     "output_type": "stream",
     "text": [
      "CONFIGURATION_1-PLANE_1-OBJECT_1-REDSHIFT CONFIGURATION_1-PLANE_1-OBJECT_1-LIGHT_PROFILE_1-magnitude-g CONFIGURATION_1-PLANE_1-OBJECT_1-LIGHT_PROFILE_1-magnitude-r CONFIGURATION_1-PLANE_1-OBJECT_1-LIGHT_PROFILE_1-magnitude-i CONFIGURATION_1-PLANE_1-OBJECT_1-LIGHT_PROFILE_1-magnitude-z CONFIGURATION_1-PLANE_1-OBJECT_1-LIGHT_PROFILE_1-magnitude-Y WEIGHT\r\n",
      "0.12649094 19.87325859 19.09209251 18.70531082 18.48275948 18.42626953 1.0\r\n",
      "0.25748792 21.79298973 21.43421555 21.26678276 21.34543800 21.33299065 1.0\r\n",
      "0.21782839 21.72157860 21.09894562 20.83550835 20.69699860 20.75214195 1.0\r\n",
      "0.17391822 22.20806122 21.85676384 21.70260429 21.67228889 21.56722069 1.0\r\n"
     ]
    }
   ],
   "source": [
    "! head -5 data/low_z_galaxy_colors_config_1.txt"
   ]
  },
  {
   "cell_type": "markdown",
   "metadata": {},
   "source": [
    "The column names match how `deeplenstronomy` will track the object. It can take some getting used to. I've also added a `WEIGHT` column. These weights represent the frequency at which each row is used. They are defined relative to each other, so it's not necessary thaty they sum to one.\n",
    "\n",
    "As I mentioned earlier, the only difference between `low_z_galaxy_colors_config_1.txt`, `low_z_galaxy_colors_config_3.txt`, and `low_z_galaxy_colors_config_4.txt` is the header row. In these other files `CONFIGURATION_1` has been replaced with `CONFIGURATION_3` and `CONFIGURATION_4` respectively. Thus, I am still using the same galaxy colors and redshfits, but I attributing it to different object in the simulation. These files are used for `CONFIGURATION_1`, `CONFIGURATION_3`, and `CONFIGURATION_4` because they target \"SimulatedLens\" in each case.\n",
    "\n",
    "Similarly, the files `high_z_galaxy_colors_config_1.txt`, `high_z_galaxy_colors_config_2.txt`, and `high_z_galaxy_colors_config_3.txt` were produced with the query:\n",
    "\n",
    "```python\n",
    "SELECT DNF_ZMEAN_SOF, MAG_PSF_G, MAG_PSF_R, MAG_PSF_I, MAG_PSF_Z, MAG_PSF_Y \n",
    "FROM Y3_GOLD_2_2 \n",
    "WHERE EXTENDED_CLASS_COADD = 3 and DEC > -44 and DEC < -40 and DNF_ZMEAN_SOF > 0.5 and ROWNUM < 101;\n",
    "```\n",
    "\n",
    "and these files target the redshift and magnitude of \"SimulatedSource\" everywhere it appears in the simulation."
   ]
  },
  {
   "cell_type": "markdown",
   "metadata": {},
   "source": [
    "Lastly, I use the file `quasar_colors.txt` to put in **fake** quasar colors where I have created the distribution of magnitudes to make the objects appear blue and to be bright at the redshifts they will be place at in the simulation. I would recommed using real AGN observations if you are working with lensed quasars."
   ]
  },
  {
   "cell_type": "code",
   "execution_count": 18,
   "metadata": {},
   "outputs": [
    {
     "name": "stdout",
     "output_type": "stream",
     "text": [
      "CONFIGURATION_3-PLANE_2-OBJECT_2-magnitude-g CONFIGURATION_3-PLANE_2-OBJECT_2-magnitude-r CONFIGURATION_3-PLANE_2-OBJECT_2-magnitude-i CONFIGURATION_3-PLANE_2-OBJECT_2-magnitude-z CONFIGURATION_3-PLANE_2-OBJECT_2-magnitude-Y WEIGHT\r\n",
      "21.88 22.04 22.35 22.52 22.55 0.05\r\n",
      "21.93 22.32 22.33 22.34 22.35 0.05\r\n",
      "21.88 22.21 22.28 22.31 22.70 0.05\r\n",
      "21.40 21.61 21.66 21.75 21.76 0.05\r\n",
      "21.40 21.62 22.01 22.08 22.48 0.05\r\n",
      "21.96 22.06 22.30 22.49 22.71 0.05\r\n",
      "21.51 21.70 22.05 22.18 22.37 0.05\r\n",
      "21.51 21.58 21.97 22.29 22.45 0.05\r\n",
      "21.68 21.95 22.07 22.39 22.68 0.05\r\n"
     ]
    }
   ],
   "source": [
    "! head data/quasar_colors.txt"
   ]
  },
  {
   "cell_type": "markdown",
   "metadata": {},
   "source": [
    "### Summary\n",
    "\n",
    "That is all the information in the file `example.yaml`. We have utilized built-in astronomical surveys, realistic galaxy colors, real images of galaxies, and physically motivated distributions of all parameters to give us a rich training set ready for a neural network. At this point, we're ready to call `deeplenstronomy.make_dataset()` and simualted our images.\n",
    "\n",
    "### The Simulated Dataset"
   ]
  },
  {
   "cell_type": "code",
   "execution_count": 19,
   "metadata": {},
   "outputs": [
    {
     "name": "stdout",
     "output_type": "stream",
     "text": [
      "Entering main organization loop\n",
      "Organizing CONFIGURATION_1\n",
      "Organizing CONFIGURATION_2\n",
      "Organizing CONFIGURATION_3\n",
      "Organizing CONFIGURATION_4\n",
      "Generating images for CONFIGURATION_1\n",
      "\tProgress: 100.0 %  ---  Elapsed Time: 0 H 0 M 9 S\n",
      "Generating images for CONFIGURATION_2\n",
      "\tProgress: 100.0 %  ---  Elapsed Time: 0 H 0 M 9 S\n",
      "Generating images for CONFIGURATION_3\n",
      "\tProgress: 100.0 %  ---  Elapsed Time: 0 H 0 M 44 S\n",
      "Generating images for CONFIGURATION_4\n",
      "\tProgress: 100.0 %  ---  Elapsed Time: 0 H 0 M 6 S\n"
     ]
    }
   ],
   "source": [
    "dataset = dl.make_dataset('data/example.yaml', survey='des', verbose=True)"
   ]
  },
  {
   "cell_type": "markdown",
   "metadata": {},
   "source": [
    "We can inspect the images using the `deeplenstronomy` visualization features.\n",
    "\n",
    "Here's `CONFIGURATION_1`, which was galaxy-galaxy lensing with both the source and lens being simulated:"
   ]
  },
  {
   "cell_type": "code",
   "execution_count": 20,
   "metadata": {},
   "outputs": [
    {
     "data": {
      "image/png": "[encoded data removed]",
      "text/plain": [
       "<Figure size 432x288 with 5 Axes>"
      ]
     },
     "metadata": {},
     "output_type": "display_data"
    },
    {
     "data": {
      "image/png": "[encoded data removed]",
      "text/plain": [
       "<Figure size 432x288 with 5 Axes>"
      ]
     },
     "metadata": {},
     "output_type": "display_data"
    },
    {
     "data": {
      "image/png": "[encoded data removed]",
      "text/plain": [
       "<Figure size 432x288 with 5 Axes>"
      ]
     },
     "metadata": {},
     "output_type": "display_data"
    },
    {
     "data": {
      "image/png": "[encoded data removed]",
      "text/plain": [
       "<Figure size 432x288 with 5 Axes>"
      ]
     },
     "metadata": {},
     "output_type": "display_data"
    },
    {
     "data": {
      "image/png": "[encoded data removed]",
      "text/plain": [
       "<Figure size 432x288 with 5 Axes>"
      ]
     },
     "metadata": {},
     "output_type": "display_data"
    }
   ],
   "source": [
    "for i in range(5):\n",
    "    view_image(dataset.CONFIGURATION_1_images[i])"
   ]
  },
  {
   "cell_type": "markdown",
   "metadata": {},
   "source": [
    "All the metadata for these images is stored here:"
   ]
  },
  {
   "cell_type": "code",
   "execution_count": 21,
   "metadata": {},
   "outputs": [
    {
     "data": {
      "text/html": [
       "<div>\n",
       "<style scoped>\n",
       "    .dataframe tbody tr th:only-of-type {\n",
       "        vertical-align: middle;\n",
       "    }\n",
       "\n",
       "    .dataframe tbody tr th {\n",
       "        vertical-align: top;\n",
       "    }\n",
       "\n",
       "    .dataframe thead th {\n",
       "        text-align: right;\n",
       "    }\n",
       "</style>\n",
       "<table border=\"1\" class=\"dataframe\">\n",
       "  <thead>\n",
       "    <tr style=\"text-align: right;\">\n",
       "      <th></th>\n",
       "      <th>OBJID-g</th>\n",
       "      <th>H0-g</th>\n",
       "      <th>Om0-g</th>\n",
       "      <th>exposure_time-g</th>\n",
       "      <th>numPix-g</th>\n",
       "      <th>pixel_scale-g</th>\n",
       "      <th>psf_type-g</th>\n",
       "      <th>read_noise-g</th>\n",
       "      <th>ccd_gain-g</th>\n",
       "      <th>seeing-g</th>\n",
       "      <th>...</th>\n",
       "      <th>PLANE_1-REDSHIFT-g</th>\n",
       "      <th>PLANE_2-REDSHIFT-g</th>\n",
       "      <th>PLANE_1-REDSHIFT-r</th>\n",
       "      <th>PLANE_2-REDSHIFT-r</th>\n",
       "      <th>PLANE_1-REDSHIFT-i</th>\n",
       "      <th>PLANE_2-REDSHIFT-i</th>\n",
       "      <th>PLANE_1-REDSHIFT-z</th>\n",
       "      <th>PLANE_2-REDSHIFT-z</th>\n",
       "      <th>PLANE_1-REDSHIFT-Y</th>\n",
       "      <th>PLANE_2-REDSHIFT-Y</th>\n",
       "    </tr>\n",
       "  </thead>\n",
       "  <tbody>\n",
       "    <tr>\n",
       "      <th>0</th>\n",
       "      <td>0</td>\n",
       "      <td>74.0</td>\n",
       "      <td>0.3</td>\n",
       "      <td>90.0</td>\n",
       "      <td>100</td>\n",
       "      <td>0.263</td>\n",
       "      <td>GAUSSIAN</td>\n",
       "      <td>7</td>\n",
       "      <td>6.083</td>\n",
       "      <td>0.921</td>\n",
       "      <td>...</td>\n",
       "      <td>NaN</td>\n",
       "      <td>NaN</td>\n",
       "      <td>NaN</td>\n",
       "      <td>NaN</td>\n",
       "      <td>NaN</td>\n",
       "      <td>NaN</td>\n",
       "      <td>NaN</td>\n",
       "      <td>NaN</td>\n",
       "      <td>NaN</td>\n",
       "      <td>NaN</td>\n",
       "    </tr>\n",
       "    <tr>\n",
       "      <th>1</th>\n",
       "      <td>1</td>\n",
       "      <td>74.0</td>\n",
       "      <td>0.3</td>\n",
       "      <td>90.0</td>\n",
       "      <td>100</td>\n",
       "      <td>0.263</td>\n",
       "      <td>GAUSSIAN</td>\n",
       "      <td>7</td>\n",
       "      <td>6.083</td>\n",
       "      <td>1.719</td>\n",
       "      <td>...</td>\n",
       "      <td>0.165344</td>\n",
       "      <td>0.541347</td>\n",
       "      <td>0.165344</td>\n",
       "      <td>0.541347</td>\n",
       "      <td>0.165344</td>\n",
       "      <td>0.541347</td>\n",
       "      <td>0.165344</td>\n",
       "      <td>0.541347</td>\n",
       "      <td>0.165344</td>\n",
       "      <td>0.541347</td>\n",
       "    </tr>\n",
       "    <tr>\n",
       "      <th>2</th>\n",
       "      <td>2</td>\n",
       "      <td>74.0</td>\n",
       "      <td>0.3</td>\n",
       "      <td>90.0</td>\n",
       "      <td>100</td>\n",
       "      <td>0.263</td>\n",
       "      <td>GAUSSIAN</td>\n",
       "      <td>7</td>\n",
       "      <td>6.083</td>\n",
       "      <td>1.040</td>\n",
       "      <td>...</td>\n",
       "      <td>0.237946</td>\n",
       "      <td>0.961559</td>\n",
       "      <td>0.237946</td>\n",
       "      <td>0.961559</td>\n",
       "      <td>0.237946</td>\n",
       "      <td>0.961559</td>\n",
       "      <td>0.237946</td>\n",
       "      <td>0.961559</td>\n",
       "      <td>0.237946</td>\n",
       "      <td>0.961559</td>\n",
       "    </tr>\n",
       "    <tr>\n",
       "      <th>3</th>\n",
       "      <td>3</td>\n",
       "      <td>74.0</td>\n",
       "      <td>0.3</td>\n",
       "      <td>90.0</td>\n",
       "      <td>100</td>\n",
       "      <td>0.263</td>\n",
       "      <td>GAUSSIAN</td>\n",
       "      <td>7</td>\n",
       "      <td>6.083</td>\n",
       "      <td>0.902</td>\n",
       "      <td>...</td>\n",
       "      <td>0.195374</td>\n",
       "      <td>0.799212</td>\n",
       "      <td>0.195374</td>\n",
       "      <td>0.799212</td>\n",
       "      <td>0.195374</td>\n",
       "      <td>0.799212</td>\n",
       "      <td>0.195374</td>\n",
       "      <td>0.799212</td>\n",
       "      <td>0.195374</td>\n",
       "      <td>0.799212</td>\n",
       "    </tr>\n",
       "    <tr>\n",
       "      <th>4</th>\n",
       "      <td>4</td>\n",
       "      <td>74.0</td>\n",
       "      <td>0.3</td>\n",
       "      <td>90.0</td>\n",
       "      <td>100</td>\n",
       "      <td>0.263</td>\n",
       "      <td>GAUSSIAN</td>\n",
       "      <td>7</td>\n",
       "      <td>6.083</td>\n",
       "      <td>0.962</td>\n",
       "      <td>...</td>\n",
       "      <td>0.254798</td>\n",
       "      <td>0.861982</td>\n",
       "      <td>0.254798</td>\n",
       "      <td>0.861982</td>\n",
       "      <td>0.254798</td>\n",
       "      <td>0.861982</td>\n",
       "      <td>0.254798</td>\n",
       "      <td>0.861982</td>\n",
       "      <td>0.254798</td>\n",
       "      <td>0.861982</td>\n",
       "    </tr>\n",
       "  </tbody>\n",
       "</table>\n",
       "<p>5 rows × 280 columns</p>\n",
       "</div>"
      ],
      "text/plain": [
       "   OBJID-g  H0-g  Om0-g  exposure_time-g  numPix-g  pixel_scale-g psf_type-g  \\\n",
       "0        0  74.0    0.3             90.0       100          0.263   GAUSSIAN   \n",
       "1        1  74.0    0.3             90.0       100          0.263   GAUSSIAN   \n",
       "2        2  74.0    0.3             90.0       100          0.263   GAUSSIAN   \n",
       "3        3  74.0    0.3             90.0       100          0.263   GAUSSIAN   \n",
       "4        4  74.0    0.3             90.0       100          0.263   GAUSSIAN   \n",
       "\n",
       "   read_noise-g  ccd_gain-g  seeing-g  ...  PLANE_1-REDSHIFT-g  \\\n",
       "0             7       6.083     0.921  ...                 NaN   \n",
       "1             7       6.083     1.719  ...            0.165344   \n",
       "2             7       6.083     1.040  ...            0.237946   \n",
       "3             7       6.083     0.902  ...            0.195374   \n",
       "4             7       6.083     0.962  ...            0.254798   \n",
       "\n",
       "   PLANE_2-REDSHIFT-g  PLANE_1-REDSHIFT-r  PLANE_2-REDSHIFT-r  \\\n",
       "0                 NaN                 NaN                 NaN   \n",
       "1            0.541347            0.165344            0.541347   \n",
       "2            0.961559            0.237946            0.961559   \n",
       "3            0.799212            0.195374            0.799212   \n",
       "4            0.861982            0.254798            0.861982   \n",
       "\n",
       "  PLANE_1-REDSHIFT-i PLANE_2-REDSHIFT-i  PLANE_1-REDSHIFT-z  \\\n",
       "0                NaN                NaN                 NaN   \n",
       "1           0.165344           0.541347            0.165344   \n",
       "2           0.237946           0.961559            0.237946   \n",
       "3           0.195374           0.799212            0.195374   \n",
       "4           0.254798           0.861982            0.254798   \n",
       "\n",
       "   PLANE_2-REDSHIFT-z PLANE_1-REDSHIFT-Y  PLANE_2-REDSHIFT-Y  \n",
       "0                 NaN                NaN                 NaN  \n",
       "1            0.541347           0.165344            0.541347  \n",
       "2            0.961559           0.237946            0.961559  \n",
       "3            0.799212           0.195374            0.799212  \n",
       "4            0.861982           0.254798            0.861982  \n",
       "\n",
       "[5 rows x 280 columns]"
      ]
     },
     "execution_count": 21,
     "metadata": {},
     "output_type": "execute_result"
    }
   ],
   "source": [
    "dataset.CONFIGURATION_1_metadata.head()"
   ]
  },
  {
   "cell_type": "markdown",
   "metadata": {},
   "source": [
    "Here's `CONFIGURATION_2` which was real DES images of the lens galaxy and a simulated source behind it:"
   ]
  },
  {
   "cell_type": "code",
   "execution_count": 22,
   "metadata": {},
   "outputs": [
    {
     "data": {
      "image/png": "[encoded data removed]",
      "text/plain": [
       "<Figure size 432x288 with 5 Axes>"
      ]
     },
     "metadata": {},
     "output_type": "display_data"
    },
    {
     "data": {
      "image/png": "[encoded data removed]",
      "text/plain": [
       "<Figure size 432x288 with 5 Axes>"
      ]
     },
     "metadata": {},
     "output_type": "display_data"
    },
    {
     "data": {
      "image/png": "[encoded data removed]",
      "text/plain": [
       "<Figure size 432x288 with 5 Axes>"
      ]
     },
     "metadata": {},
     "output_type": "display_data"
    },
    {
     "data": {
      "image/png": "[encoded data removed]",
      "text/plain": [
       "<Figure size 432x288 with 5 Axes>"
      ]
     },
     "metadata": {},
     "output_type": "display_data"
    },
    {
     "data": {
      "image/png": "[encoded data removed]",
      "text/plain": [
       "<Figure size 432x288 with 5 Axes>"
      ]
     },
     "metadata": {},
     "output_type": "display_data"
    }
   ],
   "source": [
    "for i in range(5):\n",
    "    view_image(dataset.CONFIGURATION_2_images[i])"
   ]
  },
  {
   "cell_type": "markdown",
   "metadata": {},
   "source": [
    "Here is `CONFIGURATION_3` which was the same as `CONFIGURATION_1` but with a quasar in the source galaxy:"
   ]
  },
  {
   "cell_type": "code",
   "execution_count": 23,
   "metadata": {},
   "outputs": [
    {
     "data": {
      "image/png": "[encoded data removed]",
      "text/plain": [
       "<Figure size 432x288 with 5 Axes>"
      ]
     },
     "metadata": {},
     "output_type": "display_data"
    },
    {
     "data": {
      "image/png": "[encoded data removed]",
      "text/plain": [
       "<Figure size 432x288 with 5 Axes>"
      ]
     },
     "metadata": {},
     "output_type": "display_data"
    },
    {
     "data": {
      "image/png": "[encoded data removed]",
      "text/plain": [
       "<Figure size 432x288 with 5 Axes>"
      ]
     },
     "metadata": {},
     "output_type": "display_data"
    },
    {
     "data": {
      "image/png": "[encoded data removed]",
      "text/plain": [
       "<Figure size 432x288 with 5 Axes>"
      ]
     },
     "metadata": {},
     "output_type": "display_data"
    },
    {
     "data": {
      "image/png": "[encoded data removed]",
      "text/plain": [
       "<Figure size 432x288 with 5 Axes>"
      ]
     },
     "metadata": {},
     "output_type": "display_data"
    }
   ],
   "source": [
    "for i in range(5):\n",
    "    view_image(dataset.CONFIGURATION_3_images[i])"
   ]
  },
  {
   "cell_type": "markdown",
   "metadata": {},
   "source": [
    "And finally here is `CONFIGURATION_4` which is just a galaxy by itself."
   ]
  },
  {
   "cell_type": "code",
   "execution_count": 24,
   "metadata": {},
   "outputs": [
    {
     "data": {
      "image/png": "[encoded data removed]",
      "text/plain": [
       "<Figure size 432x288 with 5 Axes>"
      ]
     },
     "metadata": {},
     "output_type": "display_data"
    },
    {
     "data": {
      "image/png": "[encoded data removed]",
      "text/plain": [
       "<Figure size 432x288 with 5 Axes>"
      ]
     },
     "metadata": {},
     "output_type": "display_data"
    },
    {
     "data": {
      "image/png": "[encoded data removed]",
      "text/plain": [
       "<Figure size 432x288 with 5 Axes>"
      ]
     },
     "metadata": {},
     "output_type": "display_data"
    },
    {
     "data": {
      "image/png": "[encoded data removed]",
      "text/plain": [
       "<Figure size 432x288 with 5 Axes>"
      ]
     },
     "metadata": {},
     "output_type": "display_data"
    },
    {
     "data": {
      "image/png": "[encoded data removed]",
      "text/plain": [
       "<Figure size 432x288 with 5 Axes>"
      ]
     },
     "metadata": {},
     "output_type": "display_data"
    }
   ],
   "source": [
    "for i in range(5):\n",
    "    view_image(dataset.CONFIGURATION_4_images[i])"
   ]
  },
  {
   "cell_type": "code",
   "execution_count": null,
   "metadata": {},
   "outputs": [],
   "source": []
  }
 ],
 "metadata": {
  "kernelspec": {
   "display_name": "Python 3",
   "language": "python",
   "name": "python3"
  },
  "language_info": {
   "codemirror_mode": {
    "name": "ipython",
    "version": 3
   },
   "file_extension": ".py",
   "mimetype": "text/x-python",
   "name": "python",
   "nbconvert_exporter": "python",
   "pygments_lexer": "ipython3",
   "version": "3.7.8"
  }
 },
 "nbformat": 4,
 "nbformat_minor": 2
}
