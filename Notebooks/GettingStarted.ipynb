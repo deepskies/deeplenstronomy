{
 "cells": [
  {
   "cell_type": "markdown",
   "metadata": {},
   "source": [
    "# Getting Started with `deeplenstronomy`\n",
    "\n",
    "The purpose of `deeplenstronomy` is to provide the functionality for users to generate entire datasets using a single input file. The use of this framework separates the programmer from the astronomer when creating datasets, and will hopefully enable the creation of easily-reproducible datasets across the field."
   ]
  },
  {
   "cell_type": "markdown",
   "metadata": {},
   "source": [
    "## The Backbone of `deeplenstronomy`\n",
    "\n",
    "When using `deeplenstronomy`, the vast majority of your time will be spent construcitng the \"**configuration file**\" that will tell `deeplenstronomy` how to make your dataset. This configuration file is a `yaml` file where you will set the attributes of different objects in your dataset. As an example, you define the properties of the camera used to collect the images with a section like this:\n",
    "\n",
    "```\n",
    "IMAGE:\n",
    "    PARAMETERS:\n",
    "        exposure_time: 90\n",
    "        numPix: 100\n",
    "        pixel_scale: 0.263\n",
    "        psf_type: 'GAUSSIAN'\n",
    "        read_noise: 7\n",
    "        ccd_gain: 6.083\n",
    "```\n",
    "\n",
    "For a full introduction to the different parts of a `deeplenstronomy` configuration file, please read the [Creating `deeplenstronomy` Configuration Files](https://github.com/deepskies/deeplenstronomy/blob/master/Notebooks/ConfigFiles.md) documentation."
   ]
  },
  {
   "cell_type": "markdown",
   "metadata": {},
   "source": [
    "## Creating a Dataset\n",
    "\n",
    "Once you have your configuration prepared, all you need to do is import `deeplenstronomy` and call the `deeplenstronomy.make_dataset()` function on your configuration file. This code will look something like this:\n",
    "\n",
    "```python\n",
    "import deeplenstronomy.deeplenstronomy as dl\n",
    "\n",
    "config_file_name = 'demo.yaml' # name of your file\n",
    "dataset = dl.make_dataset(config_file_name)\n",
    "```\n",
    "\n",
    "The [Generating Datasets](https://github.com/deepskies/deeplenstronomy/blob/master/Notebooks/DeepLenstronomyDemo.ipynb) documentation will introduce you to the options that exist when using the `deeplenstronomy.make_dataset()` function."
   ]
  },
  {
   "cell_type": "markdown",
   "metadata": {},
   "source": [
    "## Making `deeplenstronomy` Work for You\n",
    "\n",
    "`deeplenstronomy` has several features for creating a dataset to match various science goals. These features include:\n",
    "\n",
    "- drawing parameters from a probability distribtuion,\n",
    "- making images with the specifications of real astronomical surveys,\n",
    "- visualizing images,\n",
    "- specifying your own probability distributions,\n",
    "- and several others.\n",
    "\n",
    "These features were designed to enable users to create datasets usable in deep learning problems. The example notebooks in this repository will introduce you to each of `deeplenstronomy`'s capabilities. Enjoy!"
   ]
  },
  {
   "cell_type": "markdown",
   "metadata": {},
   "source": [
    "## A Note on Reproducibility\n",
    "\n",
    "One of the main guiding principles of `deeplenstronomy` is the ability for you to send a configuration file and associated text files to a collaborator and they would be able to completely recreate your dataset. To make your work fully reproducible, you can (and should) specify a random seed.\n",
    "\n",
    "You can specify a random seed in your configuration file like this:\n",
    "```\n",
    "DATASET:\n",
    "    NAME: test_dataset\n",
    "    PARAMETERS:\n",
    "        SIZE: 10 # number of images in your dataset\n",
    "        OUTDIR: temp_dir # directory to save your simulations\n",
    "        SEED: 6 # your favorite random seed (a positive integer)\n",
    "```"
   ]
  },
  {
   "cell_type": "markdown",
   "metadata": {},
   "source": [
    "## When Errors Arise\n",
    "\n",
    "Before beginning the dataset generation step, `deeplenstronomy` checks your configuration file for things it cannot understand. It will alert you of everything it finds and then return control to you to fix the configuration file. These error strings will look like this:\n",
    "\n",
    "```\n",
    "SURVEY.PARAMETERS.magnitude_zero_point is missing from the Config File\n",
    "SURVEY.PARAMETERS.num_exposures is missing from the Config File\n",
    "SURVEY.PARAMETERS.seeing is missing from the Config File\n",
    "SURVEY.PARAMETERS.BANDS is missing from the Config File\n",
    "SURVEY.PARAMETERS.sky_brightness is missing from the Config File\n",
    "COSMOLOGY.PARAMETERS.H0 is missing from the Config File\n",
    "IMAGE.PARAMETERS.numPix cannot be drawn from a distribution\n",
    "Missing SURVEY section from config file\n",
    "Fatal error(s) detected in config file. Please edit and rerun.\n",
    "```\n",
    "\n",
    "These checks are as exhaustive as possible, and will catch most of the things that would cause crashes when generating the dataset. That being said, if you do manage to produce a real crash, please open an issue in the `deeplenstronomy` GitHub repository."
   ]
  },
  {
   "cell_type": "code",
   "execution_count": null,
   "metadata": {},
   "outputs": [],
   "source": []
  }
 ],
 "metadata": {
  "kernelspec": {
   "display_name": "Python 3",
   "language": "python",
   "name": "python3"
  },
  "language_info": {
   "codemirror_mode": {
    "name": "ipython",
    "version": 3
   },
   "file_extension": ".py",
   "mimetype": "text/x-python",
   "name": "python",
   "nbconvert_exporter": "python",
   "pygments_lexer": "ipython3",
   "version": "3.7.8"
  }
 },
 "nbformat": 4,
 "nbformat_minor": 2
}
