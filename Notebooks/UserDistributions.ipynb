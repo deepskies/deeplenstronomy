{
 "cells": [
  {
   "cell_type": "markdown",
   "metadata": {},
   "source": [
    "# Working with Probability Distributions\n",
    "\n",
    "`deeplenstronomy` has several built-in probability distributions directly callable from the configuration file. Sometimes these are enough, and sometimes not. If you find you need more flexibility than the built-in distributions, you can supply any distribution you want as a text file. This notebook will review the standard way of using the built-in distributions and then demonstrate the text file method.\n",
    "\n",
    "## Using built-in probability distributions"
   ]
  },
  {
   "cell_type": "code",
   "execution_count": 1,
   "metadata": {},
   "outputs": [],
   "source": [
    "from deeplenstronomy import distributions"
   ]
  },
  {
   "cell_type": "code",
   "execution_count": 2,
   "metadata": {},
   "outputs": [
    {
     "data": {
      "text/plain": [
       "['delta_function',\n",
       " 'delve_exposure_time',\n",
       " 'delve_magnitude_zero_point',\n",
       " 'delve_seeing',\n",
       " 'delve_sky_brightness',\n",
       " 'des_ccd_gain',\n",
       " 'des_exposure_time',\n",
       " 'des_magnitude_zero_point',\n",
       " 'des_num_exposures',\n",
       " 'des_seeing',\n",
       " 'des_sky_brightness',\n",
       " 'lognormal',\n",
       " 'lsst_exposure_time',\n",
       " 'lsst_magnitude_zero_point',\n",
       " 'lsst_num_exposures',\n",
       " 'lsst_seeing',\n",
       " 'lsst_sky_brightness',\n",
       " 'normal',\n",
       " 'np',\n",
       " 'poisson',\n",
       " 'poisson_noise',\n",
       " 'random',\n",
       " 'symmetric_uniform_annulus',\n",
       " 'uniform',\n",
       " 'uniform_int',\n",
       " 'ztf_magnitude_zero_point',\n",
       " 'ztf_seeing',\n",
       " 'ztf_sky_brightness']"
      ]
     },
     "execution_count": 2,
     "metadata": {},
     "output_type": "execute_result"
    }
   ],
   "source": [
    "[x for x in dir(distributions) if not x.startswith('_')]"
   ]
  },
  {
   "cell_type": "markdown",
   "metadata": {},
   "source": [
    "The standard way of using one of these distributions is to use the `DISTRIBUTION` keyword within the configuration file. Let's look at a quick example."
   ]
  },
  {
   "cell_type": "code",
   "execution_count": 3,
   "metadata": {},
   "outputs": [],
   "source": [
    "import deeplenstronomy.deeplenstronomy as dl"
   ]
  },
  {
   "cell_type": "code",
   "execution_count": 4,
   "metadata": {},
   "outputs": [
    {
     "name": "stdout",
     "output_type": "stream",
     "text": [
      "DATASET:\r\n",
      "    NAME: MyDeeplenstronomyDataset\r\n",
      "    PARAMETERS:\r\n",
      "        SIZE: 100\r\n",
      "        OUTDIR: MySimulationResults\r\n",
      "\r\n",
      "COSMOLOGY:\r\n",
      "    PARAMETERS:\r\n",
      "        H0: 70\r\n",
      "        Om0: 0.3\r\n",
      "\r\n",
      "IMAGE:\r\n",
      "    PARAMETERS:\r\n",
      "        exposure_time: 90\r\n",
      "        numPix: 100\r\n",
      "        pixel_scale: 0.263\r\n",
      "        psf_type: 'GAUSSIAN'\r\n",
      "        read_noise: 7\r\n",
      "        ccd_gain: 6.083\r\n",
      "\r\n",
      "SURVEY:\r\n",
      "    PARAMETERS:\r\n",
      "        BANDS: g,r,i,z,Y\r\n",
      "        seeing: 0.9\r\n",
      "        magnitude_zero_point: 30.0\r\n",
      "        sky_brightness: 23.5\r\n",
      "        num_exposures: 10\r\n",
      "\r\n",
      "SPECIES:\r\n",
      "    GALAXY_1:\r\n",
      "        NAME: LENS\r\n",
      "        LIGHT_PROFILE_1:\r\n",
      "            NAME: SERSIC_ELLIPSE\r\n",
      "            PARAMETERS:\r\n",
      "                magnitude: 19.5\r\n",
      "                center_x: 0.0\r\n",
      "                center_y: 0.0\r\n",
      "                R_sersic: 10\r\n",
      "                n_sersic: 4\r\n",
      "                e1: 0.2\r\n",
      "                e2: -0.1\r\n",
      "        LIGHT_PROFILE_2:\r\n",
      "            NAME: SERSIC_ELLIPSE\r\n",
      "            PARAMETERS:\r\n",
      "                magnitude: 18.0\r\n",
      "                center_x: 0.0\r\n",
      "                center_y: 0.0\r\n",
      "                R_sersic: 3\r\n",
      "                n_sersic: 8\r\n",
      "                e1: 0.05\r\n",
      "                e2: -0.05\r\n",
      "        MASS_PROFILE_1:\r\n",
      "            NAME: SIE \r\n",
      "            PARAMETERS:\r\n",
      "                theta_E: 1.0\r\n",
      "                e1: 0.1\r\n",
      "                e2: -0.1\r\n",
      "                center_x: 0.0\r\n",
      "                center_y: 0.0\r\n",
      "        SHEAR_PROFILE_1:\r\n",
      "            NAME: SHEAR\r\n",
      "            PARAMETERS:\r\n",
      "                gamma1: 0.08\r\n",
      "                gamma2: 0.01\r\n",
      "    GALAXY_2:\r\n",
      "        NAME: SOURCE\r\n",
      "        LIGHT_PROFILE_1:\r\n",
      "            NAME: SERSIC_ELLIPSE\r\n",
      "            PARAMETERS:\r\n",
      "                magnitude: 21.5\r\n",
      "                center_x: 0.0\r\n",
      "                center_y: 0.0\r\n",
      "                R_sersic: 6\r\n",
      "                n_sersic: 5\r\n",
      "                e1: 0.2\r\n",
      "                e2: -0.1 \r\n",
      "        SHEAR_PROFILE_1:\r\n",
      "            NAME: SHEAR\r\n",
      "            PARAMETERS:\r\n",
      "                gamma1: 0.08\r\n",
      "                gamma2: 0.01               \r\n",
      "    POINTSOURCE_1:\r\n",
      "        NAME: AGN\r\n",
      "        HOST: SOURCE\r\n",
      "        PARAMETERS:\r\n",
      "            magnitude: 16\r\n",
      "    POINTSOURCE_2:\r\n",
      "        NAME: SUPERNOVA\r\n",
      "        HOST: SOURCE\r\n",
      "        PARAMETERS:\r\n",
      "            magnitude: 21.0\r\n",
      "            sep: 2.0\r\n",
      "            sep_unit: arcsec\r\n",
      "    POINTSOURCE_3:\r\n",
      "        NAME: STAR\r\n",
      "        HOST: Foreground\r\n",
      "        PARAMETERS:\r\n",
      "            magnitude: 14.0\r\n",
      "    NOISE_1:\r\n",
      "        NAME: POISSON_NOISE\r\n",
      "        PARAMETERS:\r\n",
      "            mean: 2.0\r\n",
      "\r\n",
      "\r\n",
      "GEOMETRY:\r\n",
      "    CONFIGURATION_1:\r\n",
      "        NAME: GALAXY_AGN\r\n",
      "        FRACTION: 0.25\r\n",
      "        PLANE_1:\r\n",
      "            OBJECT_1: LENS\r\n",
      "            PARAMETERS:\r\n",
      "                REDSHIFT: 0.2                    \r\n",
      "        PLANE_2:\r\n",
      "            OBJECT_1: SOURCE\r\n",
      "            OBJECT_2: AGN\r\n",
      "            PARAMETERS:\r\n",
      "                REDSHIFT: 0.7                  \r\n",
      "        NOISE_SOURCE_1: POISSON_NOISE\r\n",
      "\r\n",
      "\r\n",
      "    CONFIGURATION_2:\r\n",
      "        NAME: GALAXY_AGN_NOISELESS\r\n",
      "        FRACTION: 0.25\r\n",
      "        PLANE_1:\r\n",
      "            OBJECT_1: LENS\r\n",
      "            PARAMETERS:\r\n",
      "                REDSHIFT: 0.2                    \r\n",
      "        PLANE_2:\r\n",
      "            OBJECT_1: SOURCE\r\n",
      "            OBJECT_2: AGN\r\n",
      "            PARAMETERS:\r\n",
      "                REDSHIFT: 0.7         \r\n",
      "\r\n",
      "    CONFIGURATION_3:\r\n",
      "        NAME: LENSED_SNE\r\n",
      "        FRACTION: 0.25\r\n",
      "        PLANE_1:\r\n",
      "            OBJECT_1: LENS\r\n",
      "            PARAMETERS:\r\n",
      "                REDSHIFT: 0.2                    \r\n",
      "        PLANE_2:\r\n",
      "            OBJECT_1: SOURCE\r\n",
      "            OBJECT_2: SUPERNOVA\r\n",
      "            PARAMETERS:\r\n",
      "                REDSHIFT: 0.7      \r\n",
      "        NOISE_SOURCE_1: POISSON_NOISE   \r\n",
      "\r\n",
      "    CONFIGURATION_4:\r\n",
      "        NAME: SPICY_LIFE\r\n",
      "        FRACTION: 0.25\r\n",
      "        PLANE_1:\r\n",
      "            OBJECT_1: LENS\r\n",
      "            OBJECT_2: STAR\r\n",
      "            OBJECT_3: STAR\r\n",
      "            PARAMETERS:\r\n",
      "                REDSHIFT: 0.2                    \r\n",
      "        PLANE_2:\r\n",
      "            OBJECT_1: LENS\r\n",
      "            PARAMETERS:\r\n",
      "                REDSHIFT: 0.7\r\n",
      "        PLANE_3:\r\n",
      "            OBJECT_1: SOURCE\r\n",
      "            OBJECT_2: SUPERNOVA\r\n",
      "            OBJECT_3: AGN\r\n",
      "            PARAMETERS:\r\n",
      "                REDSHIFT: 1.3      \r\n",
      "        NOISE_SOURCE_1: POISSON_NOISE     "
     ]
    }
   ],
   "source": [
    "! cat data/demo.yaml"
   ]
  },
  {
   "cell_type": "markdown",
   "metadata": {},
   "source": [
    "At present, all of the parameters are set to constant values. This configuration file offers no variance in the resulting dataset. As an example, let's play with drawing the `exposure_time` and `magnitude` of `GALAXY_2` from distributions.\n",
    "\n",
    "We'll replace `exposure_time: 90` with\n",
    "```\n",
    "exposure_time:\n",
    "    DISTRIBUTION:\n",
    "        NAME: uniform\n",
    "        PARAMETERS:\n",
    "            minimum: 30.0\n",
    "            maximum: 300.0\n",
    "```\n",
    "to draw the `exposure_time` from a uniform distribution on the interval [30.0, 300.0]. Similarly, we can replace `magnitude: 21.5` with \n",
    "```\n",
    "magnitude:\n",
    "    DISTRIBUTION:\n",
    "        NAME: normal\n",
    "        PARAMETERS:\n",
    "            mean: 20.0\n",
    "            std: 1.0\n",
    "```\n",
    "to draw the `magnitude` of `GALAXY_2` from a normal distribution with mean 20.0 and standard deviation 1.0."
   ]
  },
  {
   "cell_type": "markdown",
   "metadata": {},
   "source": [
    "I have put these update in a new config file called \"demo_distributions.yaml\", removed configurations 2-4 for efficiency, and increased the number of images to simualte to better characterize the distributions."
   ]
  },
  {
   "cell_type": "code",
   "execution_count": 5,
   "metadata": {},
   "outputs": [
    {
     "name": "stdout",
     "output_type": "stream",
     "text": [
      "DATASET:\r\n",
      "    NAME: MyDeeplenstronomyDataset\r\n",
      "    PARAMETERS:\r\n",
      "        SIZE: 1000\r\n",
      "        OUTDIR: MySimulationResults\r\n",
      "\r\n",
      "COSMOLOGY:\r\n",
      "    PARAMETERS:\r\n",
      "        H0: 70\r\n",
      "        Om0: 0.3\r\n",
      "\r\n",
      "IMAGE:\r\n",
      "    PARAMETERS:\r\n",
      "        exposure_time:\r\n",
      "            DISTRIBUTION:\r\n",
      "                NAME: uniform\r\n",
      "                PARAMETERS:\r\n",
      "                    minimum: 30.0\r\n",
      "                    maximum: 300.0\r\n",
      "        numPix: 100\r\n",
      "        pixel_scale: 0.263\r\n",
      "        psf_type: 'GAUSSIAN'\r\n",
      "        read_noise: 7\r\n",
      "        ccd_gain: 6.083\r\n",
      "\r\n",
      "SURVEY:\r\n",
      "    PARAMETERS:\r\n",
      "        BANDS: g,r,i,z,Y\r\n",
      "        seeing: 0.9\r\n",
      "        magnitude_zero_point: 30.0\r\n",
      "        sky_brightness: 23.5\r\n",
      "        num_exposures: 10\r\n",
      "\r\n",
      "SPECIES:\r\n",
      "    GALAXY_1:\r\n",
      "        NAME: LENS\r\n",
      "        LIGHT_PROFILE_1:\r\n",
      "            NAME: SERSIC_ELLIPSE\r\n",
      "            PARAMETERS:\r\n",
      "                magnitude: 19.5\r\n",
      "                center_x: 0.0\r\n",
      "                center_y: 0.0\r\n",
      "                R_sersic: 10\r\n",
      "                n_sersic: 4\r\n",
      "                e1: 0.2\r\n",
      "                e2: -0.1\r\n",
      "        LIGHT_PROFILE_2:\r\n",
      "            NAME: SERSIC_ELLIPSE\r\n",
      "            PARAMETERS:\r\n",
      "                magnitude: 18.0\r\n",
      "                center_x: 0.0\r\n",
      "                center_y: 0.0\r\n",
      "                R_sersic: 3\r\n",
      "                n_sersic: 8\r\n",
      "                e1: 0.05\r\n",
      "                e2: -0.05\r\n",
      "        MASS_PROFILE_1:\r\n",
      "            NAME: SIE \r\n",
      "            PARAMETERS:\r\n",
      "                theta_E: 2.0\r\n",
      "                e1: 0.1\r\n",
      "                e2: -0.1\r\n",
      "                center_x: 0.0\r\n",
      "                center_y: 0.0\r\n",
      "        SHEAR_PROFILE_1:\r\n",
      "            NAME: SHEAR\r\n",
      "            PARAMETERS:\r\n",
      "                gamma1: 0.08\r\n",
      "                gamma2: 0.01\r\n",
      "    GALAXY_2:\r\n",
      "        NAME: SOURCE\r\n",
      "        LIGHT_PROFILE_1:\r\n",
      "            NAME: SERSIC_ELLIPSE\r\n",
      "            PARAMETERS:\r\n",
      "                magnitude:\r\n",
      "                    DISTRIBUTION:\r\n",
      "                        NAME: normal\r\n",
      "                        PARAMETERS:\r\n",
      "                            mean: 20.0\r\n",
      "                            std: 1.0\r\n",
      "                center_x: 0.0\r\n",
      "                center_y: 0.0\r\n",
      "                R_sersic: 6\r\n",
      "                n_sersic: 5\r\n",
      "                e1: 0.2\r\n",
      "                e2: -0.1 \r\n",
      "        SHEAR_PROFILE_1:\r\n",
      "            NAME: SHEAR\r\n",
      "            PARAMETERS:\r\n",
      "                gamma1: 0.08\r\n",
      "                gamma2: 0.01               \r\n",
      "    POINTSOURCE_1:\r\n",
      "        NAME: AGN\r\n",
      "        HOST: SOURCE\r\n",
      "        PARAMETERS:\r\n",
      "            magnitude: 16\r\n",
      "    POINTSOURCE_2:\r\n",
      "        NAME: SUPERNOVA\r\n",
      "        HOST: SOURCE\r\n",
      "        PARAMETERS:\r\n",
      "            magnitude: 21.0\r\n",
      "            sep: 2.0\r\n",
      "            sep_unit: arcsec\r\n",
      "    POINTSOURCE_3:\r\n",
      "        NAME: STAR\r\n",
      "        HOST: Foreground\r\n",
      "        PARAMETERS:\r\n",
      "            magnitude: 14.0\r\n",
      "    NOISE_1:\r\n",
      "        NAME: POISSON_NOISE\r\n",
      "        PARAMETERS:\r\n",
      "            mean: 2.0\r\n",
      "\r\n",
      "DISTRIBUTIONS:\r\n",
      "    USERDIST_1:\r\n",
      "        FILENAME: data/seeing.txt\r\n",
      "        MODE: interpolate\r\n",
      "        STEP: 20\r\n",
      "    USERDIST_2:\r\n",
      "        FILENAME: data/Rsersic_magnitude.txt\r\n",
      "        MODE: sample\r\n",
      "\r\n",
      "\r\n",
      "GEOMETRY:\r\n",
      "    CONFIGURATION_1:\r\n",
      "        NAME: GALAXY_AGN\r\n",
      "        FRACTION: 0.25\r\n",
      "        PLANE_1:\r\n",
      "            OBJECT_1: LENS\r\n",
      "            PARAMETERS:\r\n",
      "                REDSHIFT: 0.2                    \r\n",
      "        PLANE_2:\r\n",
      "            OBJECT_1: SOURCE\r\n",
      "            OBJECT_2: AGN\r\n",
      "            PARAMETERS:\r\n",
      "                REDSHIFT: 0.7                  \r\n",
      "        NOISE_SOURCE_1: POISSON_NOISE\r\n",
      "\r\n",
      "\r\n"
     ]
    }
   ],
   "source": [
    "! cat data/demo_distributions.yaml"
   ]
  },
  {
   "cell_type": "code",
   "execution_count": 6,
   "metadata": {},
   "outputs": [
    {
     "name": "stdout",
     "output_type": "stream",
     "text": [
      "Entering main organization loop\n",
      "Organizing CONFIGURATION_1\n",
      "Generating images for CONFIGURATION_1\n",
      "\tProgress: 100.0 %  ---  Elapsed Time: 0 H 1 M 6 S\n"
     ]
    }
   ],
   "source": [
    "dataset = dl.make_dataset(\"data/demo_distributions.yaml\", verbose=True)"
   ]
  },
  {
   "cell_type": "markdown",
   "metadata": {},
   "source": [
    "We can verify that the distributions were used in the data set by inspecting the metadata:"
   ]
  },
  {
   "cell_type": "code",
   "execution_count": 7,
   "metadata": {},
   "outputs": [],
   "source": [
    "exp_times = dataset.CONFIGURATION_1_metadata['exposure_time-g'].values\n",
    "magnitudes = dataset.CONFIGURATION_1_metadata['PLANE_2-OBJECT_1-LIGHT_PROFILE_1-magnitude-g'].values"
   ]
  },
  {
   "cell_type": "code",
   "execution_count": 8,
   "metadata": {},
   "outputs": [],
   "source": [
    "import matplotlib.pyplot as plt"
   ]
  },
  {
   "cell_type": "code",
   "execution_count": 9,
   "metadata": {},
   "outputs": [
    {
     "data": {
      "image/png": "[encoded data removed]",
      "text/plain": [
       "<Figure size 432x288 with 2 Axes>"
      ]
     },
     "metadata": {
      "needs_background": "light"
     },
     "output_type": "display_data"
    }
   ],
   "source": [
    "fig, (ax1, ax2) = plt.subplots(1, 2)\n",
    "\n",
    "ax1.hist(exp_times)\n",
    "ax1.set_xlabel(\"Exposure Time (s)\")\n",
    "\n",
    "ax2.hist(magnitudes)\n",
    "ax2.set_xlabel(\"GALAXY_2 Magnitude\")\n",
    "\n",
    "plt.show()\n"
   ]
  },
  {
   "cell_type": "markdown",
   "metadata": {},
   "source": [
    "And we can see the uniform distribution of exposure time and the normal distribution of magnitude have been recovereed. With the exception of a few safe-guarded parameters, any single parameter can be sampled from an underlying built-in distribution using the method above."
   ]
  },
  {
   "cell_type": "markdown",
   "metadata": {},
   "source": [
    "## Correlations and Non-Standard Distributions\n",
    "\n",
    "If you would like to create correlations between parameters or utilize your own empriical distribution in the construction of your dataset, you can make use of `deeplenstronomy`'s `USERDIST` feature. To use this feature, you add an entry to the configuration file that looks like this:\n",
    "\n",
    "```\n",
    "DISTRIBUTIONS:\n",
    "    USERDIST_1:\n",
    "        FILENAME: data/seeing.txt\n",
    "        MODE: interpolate\n",
    "        STEP: 20\n",
    "    USERDIST_2:\n",
    "        FILENAME: data/Rsersic_magnitude.txt\n",
    "        MODE: sample\n",
    "```\n",
    "\n",
    "The `DISTRIBUTIONS` section goes a the same level of the yaml file as the `DATASET`, `COSMOLOGY`, `IMAGE` etc. sections. Let's dive into what each of the parts of that entry mean.\n",
    "\n",
    "`USERDIST_#`\n",
    "\n",
    "- Each `USERDIST` entry represents an independent probability distribution you want to add into your dataset. They must be indexed as 1, 2, 3, ... for `deeplenstronomy` to track them properly.\n",
    "\n",
    "`FILENAME`\n",
    "\n",
    "- This parameter specifies the text file that contains an empirical version of the probability distribution. More details on the structure of this file is available in the next subsection.\n",
    "\n",
    "`MODE`\n",
    "\n",
    "- This tells `deeplenstronomy` how you want to use the probability distribution you supplied. The options are `interpolate` and `sample`.\n",
    "\n",
    "    - `interpolate` will use the points in your distribution to form the basis of a grid that will be sampled during dataset generation.\n",
    "    \n",
    "        - `STEP` is only used if you use the `interpolate` mode, and it is the number of points in each dimension of the grid that is sampled. The number of elements in the grid is the value of `STEP` raised to the power of the number of dimensions in your distribution. This can easily exceed the available memory in your computer if you have high-dimensional distributions and a large `STEP` value. If `STEP` is not specified, the default of 10 will be used.\n",
    "        \n",
    "    - `sample` will draw only from the raw points specified and not perform any interpolation. This mode is recommended if you have a highly-dimensional distribution with a lot of structure in each dimension for memory considerations."
   ]
  },
  {
   "cell_type": "markdown",
   "metadata": {},
   "source": [
    "### Writing probability distribution files\n",
    "\n",
    "Let's inspect \"seeing.txt\" to learn how to work with a one-dimensional distribution."
   ]
  },
  {
   "cell_type": "code",
   "execution_count": 10,
   "metadata": {},
   "outputs": [
    {
     "name": "stdout",
     "output_type": "stream",
     "text": [
      "seeing WEIGHT\r\n",
      "0.5 0.1\r\n",
      "0.6 0.2\r\n",
      "0.7 0.25\r\n",
      "0.8 0.3\r\n",
      "0.9 0.3\r\n",
      "1.0 0.25\r\n",
      "1.1 0.6\r\n",
      "1.2 0.9\r\n",
      "1.3 0.2\r\n",
      "1.4 0.1\r\n"
     ]
    }
   ],
   "source": [
    "! cat data/seeing.txt"
   ]
  },
  {
   "cell_type": "markdown",
   "metadata": {},
   "source": [
    "These files are whitespace-separated, use the paramater name as a column header, and specify the probability weight associated with each point in parameter space. The weights are defined relative to each other and do not need to sum to one. There is also no requirement of regular spacing in the distributions, though it may lead to more accurate interpolations.\n",
    "\n",
    "At present, the supplied seeing distribution will be applied to all bands and all configurations in the dataset. If, for example, we only wanted the distribution to apply to the $g$-band seeing, the column name would be changed to `seeing-g`. If we wanted the distribution to only apply to `CONFIGURATION_1`, then we could use `CONFIGURATION_1-seeing` as the column name. And if we only want to target the $g$ -band seeing in `CONFIGURATION_1`, then we would use `CONFIGURATION_1-seeing-g`."
   ]
  },
  {
   "cell_type": "markdown",
   "metadata": {},
   "source": [
    "We can verify this distribution was put into the dataset by plotting the raw text file distribution over the simulated seeing values:"
   ]
  },
  {
   "cell_type": "code",
   "execution_count": 11,
   "metadata": {},
   "outputs": [],
   "source": [
    "import numpy as np\n",
    "import pandas as pd"
   ]
  },
  {
   "cell_type": "code",
   "execution_count": 12,
   "metadata": {},
   "outputs": [
    {
     "data": {
      "image/png": "[encoded data removed]",
      "text/plain": [
       "<Figure size 432x288 with 1 Axes>"
      ]
     },
     "metadata": {
      "needs_background": "light"
     },
     "output_type": "display_data"
    }
   ],
   "source": [
    "df = pd.read_csv('data/seeing.txt', delim_whitespace=True)\n",
    "# just normalizing weights to an AUC of 1.0 using a rectangular sum\n",
    "norm_const = sum((df['seeing'].values.max() - df['seeing'].values.min()) / len(df) * df['WEIGHT'].values.mean() * df['seeing'].values)\n",
    "\n",
    "plt.figure()\n",
    "plt.scatter(df['seeing'].values, df['WEIGHT'].values / norm_const, color='black', label='Raw Distribution Points')\n",
    "plt.hist(dataset.CONFIGURATION_1_metadata['seeing-g'].values, density=True, histtype='step', lw=3, color='red', label=\"Simulated Values\")\n",
    "plt.xlabel(\"Seeing (arcsec)\")\n",
    "plt.legend(loc='upper left')\n",
    "plt.show()"
   ]
  },
  {
   "cell_type": "markdown",
   "metadata": {},
   "source": [
    "Let's now use this feature to input a correlation, and let's plan to use the `sample` mode instead of the `interpolate` mode."
   ]
  },
  {
   "cell_type": "code",
   "execution_count": 13,
   "metadata": {},
   "outputs": [
    {
     "name": "stdout",
     "output_type": "stream",
     "text": [
      "PLANE_1-OBJECT_1-LIGHT_PROFILE_1-R_sersic-i PLANE_1-OBJECT_1-LIGHT_PROFILE_1-magnitude WEIGHT\r\n",
      "0.56 19.25 0.63\r\n",
      "1.34 17.26 0.89\r\n",
      "1.29 17.65 0.73\r\n",
      "2.10 17.02 0.01\r\n",
      "0.83 18.33 0.60\r\n",
      "2.61 16.00 0.10\r\n",
      "0.73 18.84 0.88\r\n",
      "0.77 18.79 0.10\r\n",
      "0.69 14.78 0.09\r\n"
     ]
    }
   ],
   "source": [
    "! head data/Rsersic_magnitude.txt"
   ]
  },
  {
   "cell_type": "markdown",
   "metadata": {},
   "source": [
    "Here we're using a distribution in the text file to draw the size of the galaxy measured in the $i$-band (`PLANE_1-OBJECT_1-LIGHT_PROFILE_1-R_sersic-i`) with the magnitude measured in all bands (`PLANE_1-OBJECT_1-LIGHT_PROFILE_1-magnitude`). We'll compare the raw distribution from the text file to the simulated metadata parameters:"
   ]
  },
  {
   "cell_type": "code",
   "execution_count": 14,
   "metadata": {},
   "outputs": [],
   "source": [
    "df = pd.read_csv('data/Rsersic_magnitude.txt', delim_whitespace=True)"
   ]
  },
  {
   "cell_type": "code",
   "execution_count": 15,
   "metadata": {},
   "outputs": [
    {
     "data": {
      "image/png": "[encoded data removed]",
      "text/plain": [
       "<Figure size 432x288 with 2 Axes>"
      ]
     },
     "metadata": {
      "needs_background": "light"
     },
     "output_type": "display_data"
    }
   ],
   "source": [
    "r_sersic = dataset.CONFIGURATION_1_metadata['PLANE_1-OBJECT_1-LIGHT_PROFILE_1-R_sersic-i'].values\n",
    "magnitudes = dataset.CONFIGURATION_1_metadata['PLANE_1-OBJECT_1-LIGHT_PROFILE_1-magnitude-g'].values\n",
    "\n",
    "fig, (ax1, ax2) = plt.subplots(1, 2)\n",
    "\n",
    "ax1.scatter(df['PLANE_1-OBJECT_1-LIGHT_PROFILE_1-R_sersic-i'].values,\n",
    "            df['PLANE_1-OBJECT_1-LIGHT_PROFILE_1-magnitude'].values,\n",
    "           c=df['WEIGHT'].values)\n",
    "ax1.set_xlabel(\"GALAXY_1 R_sersic i-band (arcsec)\")\n",
    "ax1.set_ylabel(\"GALAXY_1 magnitude g-band\")\n",
    "ax1.set_title(\"Raw Distribution\")\n",
    "\n",
    "ax2.hist2d(r_sersic, magnitudes,\n",
    "           bins=[np.linspace(r_sersic.min(), r_sersic.max(), 10),\n",
    "                 np.linspace(magnitudes.min(), magnitudes.max(), 10)])\n",
    "ax2.set_xlabel(\"GALAXY_1 R_sersic i-band (arcsec)\")\n",
    "ax2.set_ylabel(\"GALAXY_1 magnitude g-band\")\n",
    "ax2.set_title(\"Simulated Dataset\")\n",
    "\n",
    "fig.tight_layout()\n",
    "fig.show()"
   ]
  },
  {
   "cell_type": "markdown",
   "metadata": {},
   "source": [
    "Notice that in the left plot, points are assigned a color based on the weight in the text file, while in the right plot we have a histogram counting the number of simulated images with a particular parameter value combination."
   ]
  },
  {
   "cell_type": "markdown",
   "metadata": {},
   "source": [
    "### How am I supposed to know what to put as the column names in my text files?\n",
    "\n",
    "Good question. \n",
    "\n",
    "The column names are certianly scary to look at, but `deeplenstronomy` has a functionality to help you out. Let's revisit the example of trying to correlate the $g$-band `magnitude` of a galaxy with the $i$-band `R_sersic`. Now that we've simualted a dataset, we can `search` for USERDIST column names:"
   ]
  },
  {
   "cell_type": "code",
   "execution_count": 16,
   "metadata": {},
   "outputs": [
    {
     "data": {
      "text/plain": [
       "{'LENS': ['CONFIGURATION_1-PLANE_1-OBJECT_1-LIGHT_PROFILE_1-magnitude-g',\n",
       "  'CONFIGURATION_1-PLANE_1-OBJECT_1-LIGHT_PROFILE_1-magnitude-r',\n",
       "  'CONFIGURATION_1-PLANE_1-OBJECT_1-LIGHT_PROFILE_1-magnitude-i',\n",
       "  'CONFIGURATION_1-PLANE_1-OBJECT_1-LIGHT_PROFILE_1-magnitude-z',\n",
       "  'CONFIGURATION_1-PLANE_1-OBJECT_1-LIGHT_PROFILE_1-magnitude-Y',\n",
       "  'CONFIGURATION_1-PLANE_1-OBJECT_1-LIGHT_PROFILE_2-magnitude-g',\n",
       "  'CONFIGURATION_1-PLANE_1-OBJECT_1-LIGHT_PROFILE_2-magnitude-r',\n",
       "  'CONFIGURATION_1-PLANE_1-OBJECT_1-LIGHT_PROFILE_2-magnitude-i',\n",
       "  'CONFIGURATION_1-PLANE_1-OBJECT_1-LIGHT_PROFILE_2-magnitude-z',\n",
       "  'CONFIGURATION_1-PLANE_1-OBJECT_1-LIGHT_PROFILE_2-magnitude-Y'],\n",
       " 'SOURCE': ['CONFIGURATION_1-PLANE_2-OBJECT_1-LIGHT_PROFILE_1-magnitude-g',\n",
       "  'CONFIGURATION_1-PLANE_2-OBJECT_1-LIGHT_PROFILE_1-magnitude-r',\n",
       "  'CONFIGURATION_1-PLANE_2-OBJECT_1-LIGHT_PROFILE_1-magnitude-i',\n",
       "  'CONFIGURATION_1-PLANE_2-OBJECT_1-LIGHT_PROFILE_1-magnitude-z',\n",
       "  'CONFIGURATION_1-PLANE_2-OBJECT_1-LIGHT_PROFILE_1-magnitude-Y'],\n",
       " 'AGN': ['CONFIGURATION_1-PLANE_2-OBJECT_2-magnitude-g',\n",
       "  'CONFIGURATION_1-PLANE_2-OBJECT_2-magnitude-r',\n",
       "  'CONFIGURATION_1-PLANE_2-OBJECT_2-magnitude-i',\n",
       "  'CONFIGURATION_1-PLANE_2-OBJECT_2-magnitude-z',\n",
       "  'CONFIGURATION_1-PLANE_2-OBJECT_2-magnitude-Y']}"
      ]
     },
     "execution_count": 16,
     "metadata": {},
     "output_type": "execute_result"
    }
   ],
   "source": [
    "dataset.search('magnitude')"
   ]
  },
  {
   "cell_type": "markdown",
   "metadata": {},
   "source": [
    "The `dataset.search()` function returns all possible USERDIST column names containing the parameter of interest. The returned object is a dictionary where the keys are the object names in the `SPECIES` section and the values are the possible USERDIST column names.\n",
    "\n",
    "Looking at the output, and knowing you are concerned with the object named `LENS` would point you directly to the column name `CONFIGURATION_1-PLANE_1-OBJECT_1-LIGHT_PROFILE_1-magnitude-g`, where we could leave off the `CONFIGURATION_1` part to apply the USERDIST to all configurations. In this case, there is only one CONFIGURATION, so the prefix doesn't matter.\n",
    "\n",
    "We can repeat the process for `R_sersic`:"
   ]
  },
  {
   "cell_type": "code",
   "execution_count": 17,
   "metadata": {},
   "outputs": [
    {
     "data": {
      "text/plain": [
       "{'LENS': ['CONFIGURATION_1-PLANE_1-OBJECT_1-LIGHT_PROFILE_1-R_sersic-g',\n",
       "  'CONFIGURATION_1-PLANE_1-OBJECT_1-LIGHT_PROFILE_1-R_sersic-r',\n",
       "  'CONFIGURATION_1-PLANE_1-OBJECT_1-LIGHT_PROFILE_1-R_sersic-i',\n",
       "  'CONFIGURATION_1-PLANE_1-OBJECT_1-LIGHT_PROFILE_1-R_sersic-z',\n",
       "  'CONFIGURATION_1-PLANE_1-OBJECT_1-LIGHT_PROFILE_1-R_sersic-Y',\n",
       "  'CONFIGURATION_1-PLANE_1-OBJECT_1-LIGHT_PROFILE_2-R_sersic-g',\n",
       "  'CONFIGURATION_1-PLANE_1-OBJECT_1-LIGHT_PROFILE_2-R_sersic-r',\n",
       "  'CONFIGURATION_1-PLANE_1-OBJECT_1-LIGHT_PROFILE_2-R_sersic-i',\n",
       "  'CONFIGURATION_1-PLANE_1-OBJECT_1-LIGHT_PROFILE_2-R_sersic-z',\n",
       "  'CONFIGURATION_1-PLANE_1-OBJECT_1-LIGHT_PROFILE_2-R_sersic-Y'],\n",
       " 'SOURCE': ['CONFIGURATION_1-PLANE_2-OBJECT_1-LIGHT_PROFILE_1-R_sersic-g',\n",
       "  'CONFIGURATION_1-PLANE_2-OBJECT_1-LIGHT_PROFILE_1-R_sersic-r',\n",
       "  'CONFIGURATION_1-PLANE_2-OBJECT_1-LIGHT_PROFILE_1-R_sersic-i',\n",
       "  'CONFIGURATION_1-PLANE_2-OBJECT_1-LIGHT_PROFILE_1-R_sersic-z',\n",
       "  'CONFIGURATION_1-PLANE_2-OBJECT_1-LIGHT_PROFILE_1-R_sersic-Y']}"
      ]
     },
     "execution_count": 17,
     "metadata": {},
     "output_type": "execute_result"
    }
   ],
   "source": [
    "dataset.search('R_sersic')"
   ]
  },
  {
   "cell_type": "code",
   "execution_count": null,
   "metadata": {},
   "outputs": [],
   "source": []
  }
 ],
 "metadata": {
  "kernelspec": {
   "display_name": "Python 3",
   "language": "python",
   "name": "python3"
  },
  "language_info": {
   "codemirror_mode": {
    "name": "ipython",
    "version": 3
   },
   "file_extension": ".py",
   "mimetype": "text/x-python",
   "name": "python",
   "nbconvert_exporter": "python",
   "pygments_lexer": "ipython3",
   "version": "3.7.8"
  }
 },
 "nbformat": 4,
 "nbformat_minor": 2
}
