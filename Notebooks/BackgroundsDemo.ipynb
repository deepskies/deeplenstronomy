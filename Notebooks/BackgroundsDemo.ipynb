{
 "cells": [
  {
   "cell_type": "markdown",
   "metadata": {},
   "source": [
    "# Incorporating Your Own Images\n",
    "\n"
   ]
  },
  {
   "cell_type": "markdown",
   "metadata": {},
   "source": [
    "A common strategy for making training data reflective of the data collected by real astronomical surveys is to utilize real images in your training data. Two specific strategies might be\n",
    "\n",
    "- using images of empty sky as realizations of the sky background and detector noise\n",
    "- using images of galaxies expected to serve as the lenses in strong-lensing systems\n",
    "\n",
    "In both situations, you can use `deeplenstronomy`'s `BACKGROUNDS`. In the configuration file, you specify the use of background images with an entry at the same level as the `DATASET`, `COSMOLOGY`, `GEOMETRY`, etc. keys:\n",
    "\n",
    "```\n",
    "BACKGROUNDS: \n",
    "    PATH: <path/to/image_directory_name> #(no trailing '/')\n",
    "    CONFIGURATIONS: <configuration list, e.g. ['CONFIGURATION_1'] or ['CONFIGURATION_1', 'CONFIGURATION_3']>\n",
    "```\n",
    "\n",
    "## Image directory structure\n",
    "\n",
    "The image directory should have a structure that looks like this:\n",
    "\n",
    "```\n",
    "image_directory_name\n",
    "├── map.txt\n",
    "├── g.fits\n",
    "├── i.fits\n",
    "├── r.fits\n",
    "└── z.fits\n",
    "```\n",
    "\n",
    "You will need a FITS file for each band you choose to simulate named `<band>.fits` and an optional `map.txt` file for incorporating the properties of the objects in your images to your simulations.\n",
    "\n",
    "### FITS file layout\n",
    "\n",
    "Each FITS file should contain all the images of a single band, stacked in a single array, and the index of each image in the array should line up across all the FITS files. So for example if you are using 20 100px by 100px cutouts, then the following code:\n",
    "\n",
    "```python\n",
    "from astropy.io import fits\n",
    "hdu = fits.open('g.fits')\n",
    "print(hdu[0].data.shape)\n",
    "```\n",
    "should print `(20,100,100)`.\n",
    "\n",
    "### Automatic resizing\n",
    "\n",
    "If your supplied images are bigger (smaller) than the specified value of `IMAGE.numPix` in the configuration file, then `deeplenstronomy` will automatically crop (pad with zeros) your images. In either situation, the images are modified equally on each side, so the centeral pixels will remain the center of the resized image.\n",
    "\n",
    "### The optional `map.txt` file\n",
    "\n",
    "If there are properties of the image that you would like to incorporate into the simulations, the `map.txt` file is what you need. **If you do not provide a `map.txt` file, then your images are used at random in your simulation.**\n",
    "\n",
    "The `map.txt` file should have one row per image (plus a header row). So in the example above the map file would need a header and 20 rows. The (whitespace-delimited) columns are `deeplenstronomy parameters`: such as 'PLANE_1-OBJECT_1-REDSHIFT_g' and the like. The rows should be the properties of the galaxy in your real image.\n",
    "\n",
    "For example, a `map.txt` file that looks like this:\n",
    "```\n",
    "exposure_time_g exposure_time_r exposure_time_i exposure_time_z\n",
    "120 90 90 30\n",
    "60 60 60 60\n",
    "... 18 more rows \n",
    "```\n",
    "would tell `deeplenstronomy` the exposure time used in each band when collecting each real image. This way, when you put your real images into your simulations, you will be forcing the simulations to have the same exposure time distribution as your images."
   ]
  },
  {
   "cell_type": "markdown",
   "metadata": {},
   "source": [
    "## Example"
   ]
  },
  {
   "cell_type": "markdown",
   "metadata": {},
   "source": [
    "For a full walkthrough of this feature, check out the \"Using Real Lens Galaxies in Your Simulations\" notebook."
   ]
  },
  {
   "cell_type": "markdown",
   "metadata": {},
   "source": [
    "## Appendix - The DES Cutout Tool\n",
    "\n",
    "If you happen to be using the Dark Energy Sruvey Cutout Tool (or a similar tool), the following script can be used or adapted to take a directory or images and stack them into the \"one-band-per-file\" style of `deeplenstronomy`.\n",
    "\n",
    "```python\n",
    "# Format des bulk cutout images for deeplenstronomy\n",
    "\n",
    "import json\n",
    "import sys\n",
    "\n",
    "from astropy.io import fits\n",
    "import pandas as pd\n",
    "\n",
    "assert len(sys.argv) > 2, \"Need image_dir and json_list as command-line args\"\n",
    "image_dir = sys.argv[1]\n",
    "json_file = image_dir + '/' + sys.argv[2]\n",
    "\n",
    "with open(json_file) as stream:\n",
    "    json_data = stream.read()\n",
    "\n",
    "cutout_info = json.loads(json_data)\n",
    "\n",
    "bands = [x.lower() if x != 'Y' else x for x in cutout_info['bands'].split(',')]\n",
    "files = cutout_info['files']\n",
    "\n",
    "images = {b: [] for b in bands}\n",
    "\n",
    "for file_path in files:\n",
    "    for band in bands:\n",
    "        filename = image_dir + '/' + file_path + '_' + band + '.fits'\n",
    "\n",
    "        hdu = fits.open(filename)\n",
    "        images[band].append(hdu[0].data)\n",
    "        hdu.close()\n",
    "\n",
    "# save images in fits format\n",
    "for band in bands:\n",
    "    hdu = fits.PrimaryHDU(images[band])\n",
    "    hdu.writeto(band + '.fits')\n",
    "\n",
    "# save a csv with the filenames\n",
    "files = [[f] for f in files]\n",
    "pd.DataFrame(data=files, columns=['FILENAME']).to_csv('test_files.csv')\n",
    "```"
   ]
  },
  {
   "cell_type": "code",
   "execution_count": null,
   "metadata": {},
   "outputs": [],
   "source": []
  }
 ],
 "metadata": {
  "kernelspec": {
   "display_name": "Python 3",
   "language": "python",
   "name": "python3"
  },
  "language_info": {
   "codemirror_mode": {
    "name": "ipython",
    "version": 3
   },
   "file_extension": ".py",
   "mimetype": "text/x-python",
   "name": "python",
   "nbconvert_exporter": "python",
   "pygments_lexer": "ipython3",
   "version": "3.7.8"
  }
 },
 "nbformat": 4,
 "nbformat_minor": 2
}
