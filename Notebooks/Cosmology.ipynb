{
 "cells": [
  {
   "cell_type": "code",
   "execution_count": 1,
   "metadata": {
    "tags": []
   },
   "outputs": [],
   "source": [
    "import sys\n",
    "sys.path.insert(1, '../../deeplenstronomy')"
   ]
  },
  {
   "cell_type": "code",
   "execution_count": 2,
   "metadata": {
    "tags": []
   },
   "outputs": [
    {
     "name": "stderr",
     "output_type": "stream",
     "text": [
      "/home/jarugula/.conda/envs/bison/lib/python3.11/site-packages/numba/core/decorators.py:262: NumbaDeprecationWarning: \u001b[1mnumba.generated_jit is deprecated. Please see the documentation at: https://numba.readthedocs.io/en/stable/reference/deprecation.html#deprecation-of-generated-jit for more information and advice on a suitable replacement.\u001b[0m\n",
      "  warnings.warn(msg, NumbaDeprecationWarning)\n"
     ]
    }
   ],
   "source": [
    "import deeplenstronomy.deeplenstronomy as dl\n",
    "from deeplenstronomy.visualize import view_image"
   ]
  },
  {
   "cell_type": "code",
   "execution_count": 3,
   "metadata": {
    "tags": []
   },
   "outputs": [
    {
     "name": "stdout",
     "output_type": "stream",
     "text": [
      "DATASET:\n",
      "    NAME: MyDeeplenstronomyDataset\n",
      "    PARAMETERS:\n",
      "        SIZE: 10\n",
      "        OUTDIR: MySimulationResults\n",
      "\n",
      "COSMOLOGY:\n",
      "    # NAME: 'FlatLambdaCDM'\n",
      "    PARAMETERS:\n",
      "        H0: 70\n",
      "        Om0: 0.3\n",
      "\n",
      "IMAGE:\n",
      "    PARAMETERS:\n",
      "        exposure_time: 90\n",
      "        numPix: 100\n",
      "        pixel_scale: 0.263\n",
      "        psf_type: 'GAUSSIAN'\n",
      "        read_noise: 7\n",
      "        ccd_gain: 6.083\n",
      "\n",
      "SURVEY:\n",
      "    PARAMETERS:\n",
      "        BANDS: g,r,i,z,Y\n",
      "        seeing: 0.9\n",
      "        magnitude_zero_point: 30.0\n",
      "        sky_brightness: 23.5\n",
      "        num_exposures: 10\n",
      "\n",
      "SPECIES:\n",
      "    GALAXY_1:\n",
      "        NAME: LENS\n",
      "        LIGHT_PROFILE_1:\n",
      "            NAME: SERSIC_ELLIPSE\n",
      "            PARAMETERS:\n",
      "                magnitude: 19.5\n",
      "                center_x: 0.0\n",
      "                center_y: 0.0\n",
      "                R_sersic: 10\n",
      "                n_sersic: 4\n",
      "                e1: 0.2\n",
      "                e2: -0.1\n",
      "        LIGHT_PROFILE_2:\n",
      "            NAME: SERSIC_ELLIPSE\n",
      "            PARAMETERS:\n",
      "                magnitude: 18.0\n",
      "                center_x: 0.0\n",
      "                center_y: 0.0\n",
      "                R_sersic: 3\n",
      "                n_sersic: 8\n",
      "                e1: 0.05\n",
      "                e2: -0.05\n",
      "        MASS_PROFILE_1:\n",
      "            NAME: SIE \n",
      "            PARAMETERS:\n",
      "                theta_E: 1.0\n",
      "                e1: 0.1\n",
      "                e2: -0.1\n",
      "                center_x: 0.0\n",
      "                center_y: 0.0\n",
      "        SHEAR_PROFILE_1:\n",
      "            NAME: SHEAR\n",
      "            PARAMETERS:\n",
      "                gamma1: 0.08\n",
      "                gamma2: 0.01\n",
      "    GALAXY_2:\n",
      "        NAME: SOURCE\n",
      "        LIGHT_PROFILE_1:\n",
      "            NAME: SERSIC_ELLIPSE\n",
      "            PARAMETERS:\n",
      "                magnitude: 21.5\n",
      "                center_x: 0.0\n",
      "                center_y: 0.0\n",
      "                R_sersic: 6\n",
      "                n_sersic: 5\n",
      "                e1: 0.2\n",
      "                e2: -0.1 \n",
      "        MASS_PROFILE_1:\n",
      "            NAME: SIE\n",
      "            PARAMETERS:\n",
      "                theta_E: 1.0\n",
      "                e1: 0.1\n",
      "                e2: -0.1\n",
      "                center_x: 0.0\n",
      "                center_y: 0.0\n",
      "        SHEAR_PROFILE_1:\n",
      "            NAME: SHEAR\n",
      "            PARAMETERS:\n",
      "                gamma1: 0.08\n",
      "                gamma2: 0.01               \n",
      "    POINTSOURCE_1:\n",
      "        NAME: AGN\n",
      "        HOST: SOURCE\n",
      "        PARAMETERS:\n",
      "            magnitude: 16\n",
      "    POINTSOURCE_2:\n",
      "        NAME: SUPERNOVA\n",
      "        HOST: SOURCE\n",
      "        PARAMETERS:\n",
      "            magnitude: 21.0\n",
      "            sep: 2.0\n",
      "            sep_unit: arcsec\n",
      "    POINTSOURCE_3:\n",
      "        NAME: STAR\n",
      "        HOST: Foreground\n",
      "        PARAMETERS:\n",
      "            magnitude: 14.0\n",
      "    NOISE_1:\n",
      "        NAME: POISSON_NOISE\n",
      "        PARAMETERS:\n",
      "            mean: 2.0\n",
      "\n",
      "\n",
      "GEOMETRY:\n",
      "    CONFIGURATION_1:\n",
      "        NAME: GALAXY_AGN\n",
      "        FRACTION: 0.25\n",
      "        PLANE_1:\n",
      "            OBJECT_1: LENS\n",
      "            PARAMETERS:\n",
      "                REDSHIFT: 0.2                    \n",
      "        PLANE_2:\n",
      "            OBJECT_1: SOURCE\n",
      "            OBJECT_2: AGN\n",
      "            PARAMETERS:\n",
      "                REDSHIFT: 0.7                  \n",
      "        NOISE_SOURCE_1: POISSON_NOISE\n",
      "\n",
      "\n",
      "    CONFIGURATION_2:\n",
      "        NAME: GALAXY_AGN_NOISELESS\n",
      "        FRACTION: 0.25\n",
      "        PLANE_1:\n",
      "            OBJECT_1: LENS\n",
      "            PARAMETERS:\n",
      "                REDSHIFT: 0.2                    \n",
      "        PLANE_2:\n",
      "            OBJECT_1: SOURCE\n",
      "            OBJECT_2: AGN\n",
      "            PARAMETERS:\n",
      "                REDSHIFT: 0.7         \n",
      "\n",
      "    CONFIGURATION_3:\n",
      "        NAME: LENSED_SNE\n",
      "        FRACTION: 0.25\n",
      "        PLANE_1:\n",
      "            OBJECT_1: LENS\n",
      "            PARAMETERS:\n",
      "                REDSHIFT: 0.2                    \n",
      "        PLANE_2:\n",
      "            OBJECT_1: SOURCE\n",
      "            OBJECT_2: SUPERNOVA\n",
      "            PARAMETERS:\n",
      "                REDSHIFT: 0.7      \n",
      "        NOISE_SOURCE_1: POISSON_NOISE   \n",
      "\n",
      "    CONFIGURATION_4:\n",
      "        NAME: SPICY_LIFE\n",
      "        FRACTION: 0.25\n",
      "        PLANE_1:\n",
      "            OBJECT_1: LENS\n",
      "            OBJECT_2: STAR\n",
      "            OBJECT_3: STAR\n",
      "            PARAMETERS:\n",
      "                REDSHIFT: 0.2                    \n",
      "        PLANE_2:\n",
      "            OBJECT_1: LENS\n",
      "            PARAMETERS:\n",
      "                REDSHIFT: 0.7\n",
      "        PLANE_3:\n",
      "            OBJECT_1: SOURCE\n",
      "            OBJECT_2: SUPERNOVA\n",
      "            OBJECT_3: AGN\n",
      "            PARAMETERS:\n",
      "                REDSHIFT: 1.3      \n",
      "        NOISE_SOURCE_1: POISSON_NOISE     "
     ]
    }
   ],
   "source": [
    "! cat data/demo.yaml"
   ]
  },
  {
   "cell_type": "code",
   "execution_count": 4,
   "metadata": {
    "tags": []
   },
   "outputs": [
    {
     "name": "stdout",
     "output_type": "stream",
     "text": [
      "Entering main organization loop\n",
      "Organizing CONFIGURATION_1\n",
      "Organizing CONFIGURATION_2\n",
      "Organizing CONFIGURATION_3\n",
      "Organizing CONFIGURATION_4\n",
      "Generating images for CONFIGURATION_1\n",
      "\tProgress: 100.0 %  ---  Elapsed Time: 0 H 0 M 0 S         \n",
      "Generating images for CONFIGURATION_2\n",
      "\tProgress: 100.0 %  ---  Elapsed Time: 0 H 0 M 0 S         \n",
      "Generating images for CONFIGURATION_3\n",
      "\tProgress: 100.0 %  ---  Elapsed Time: 0 H 0 M 0 S         \n",
      "Generating images for CONFIGURATION_4\n",
      "\tProgress: 100.0 %  ---  Elapsed Time: 0 H 0 M 0 S         \n"
     ]
    }
   ],
   "source": [
    "dataset_demo = dl.make_dataset('data/demo.yaml',verbose=True)"
   ]
  },
  {
   "cell_type": "code",
   "execution_count": 5,
   "metadata": {
    "tags": []
   },
   "outputs": [
    {
     "data": {
      "image/png": "[encoded data removed]",
      "text/plain": [
       "<Figure size 640x480 with 1 Axes>"
      ]
     },
     "metadata": {},
     "output_type": "display_data"
    }
   ],
   "source": [
    "view_image(dataset_demo.CONFIGURATION_1_images[0][0])"
   ]
  },
  {
   "cell_type": "markdown",
   "metadata": {},
   "source": [
    "## Defining Cosmology in the yaml file\n",
    "\n",
    "The available cosmologies in Deeplenstronomy are 'FlatLambdaCDM', 'LambdaCDM', 'FlatwCDM', and 'wCDM'.\n",
    "\n",
    "These options can be given through 'NAME' under 'COSMOLOGY' in the yaml file. If 'NAME' is not specified, the default option is 'FlatLambdaCDM'\n",
    "\n",
    "The input parameters to be given for each cosmology is detailed in astropy cosmology classes https://docs.astropy.org/en/stable/cosmology/index.html#module-astropy.cosmology\n",
    "\n",
    "For example:\n",
    "\n",
    "- The yaml file should have H0, Om0 for 'FlatLambdaCDM' either as constants or as distributions and the other parameters are optional\n",
    "- The yaml file should have H0, Om0, Ode0 for 'wCDM'\n",
    "\n",
    "\n",
    "H0 and Om0 have to be specified for 'FlatLambdaCDM'. The other parameters that this cosmology takes are :\n",
    "\n",
    "cosmology_info = [H0, Om0, Tcmb0, Neff, m_nu, Ob0]\n",
    "\n",
    "For 'wCDM', cosmology_info = ['H0', 'Om0', 'Ode0', 'w0', 'Tcmb0', 'Neff', 'm_nu', 'Ob0']\n",
    "\n",
    "These parameters can either be fixed as shown in the above example or they can be drawn from a distribution as shown in the example below.\n",
    "\n",
    "Note that, for 'wCDM', if either of Ode0 or Om0 is to be drawn from a distribution, always set Om0 to be drawn from the dsitribution and set Ode0 to any value. This will be overwritten to make sure Ode0 + Om0 = 1"
   ]
  },
  {
   "cell_type": "code",
   "execution_count": 6,
   "metadata": {
    "tags": []
   },
   "outputs": [
    {
     "name": "stdout",
     "output_type": "stream",
     "text": [
      "DATASET:\n",
      "    NAME: MyDeeplenstronomyDataset\n",
      "    PARAMETERS:\n",
      "        SIZE: 10\n",
      "        OUTDIR: MySimulationResults\n",
      "\n",
      "COSMOLOGY:\n",
      "    NAME: 'wCDM'\n",
      "    # NAME: 'FlatLambdaCDM'\n",
      "    PARAMETERS:\n",
      "        H0: \n",
      "          DISTRIBUTION:\n",
      "                  NAME: uniform\n",
      "                  PARAMETERS:\n",
      "                      minimum: 69.0\n",
      "                      maximum: 72.0\n",
      "        w0: \n",
      "          DISTRIBUTION:\n",
      "                  NAME: uniform\n",
      "                  PARAMETERS:\n",
      "                      minimum: -1.0\n",
      "                      maximum: -0.8\n",
      "        Ode0: 0.7\n",
      "        Om0: \n",
      "            DISTRIBUTION:\n",
      "                      NAME: uniform\n",
      "                      PARAMETERS:\n",
      "                          minimum: 0.0\n",
      "                          maximum: 0.5\n",
      "\n",
      "IMAGE:\n",
      "    PARAMETERS:\n",
      "        exposure_time: 90\n",
      "        numPix: 100\n",
      "        pixel_scale: 0.263\n",
      "        psf_type: 'GAUSSIAN'\n",
      "        read_noise: 7\n",
      "        ccd_gain: 6.083\n",
      "\n",
      "SURVEY:\n",
      "    PARAMETERS:\n",
      "        BANDS: g\n",
      "        seeing: 0.9\n",
      "        magnitude_zero_point: 30.0\n",
      "        sky_brightness: 23.5\n",
      "        num_exposures: 10\n",
      "\n",
      "SPECIES:\n",
      "    GALAXY_1:\n",
      "        NAME: LENS\n",
      "        LIGHT_PROFILE_1:\n",
      "            NAME: SERSIC_ELLIPSE\n",
      "            PARAMETERS:\n",
      "                magnitude: 19.5\n",
      "                center_x: 0.0\n",
      "                center_y: 0.0\n",
      "                R_sersic: 10\n",
      "                n_sersic: 4\n",
      "                e1: 0.2\n",
      "                e2: -0.1\n",
      "        LIGHT_PROFILE_2:\n",
      "            NAME: SERSIC_ELLIPSE\n",
      "            PARAMETERS:\n",
      "                magnitude: 18.0\n",
      "                center_x: 0.0\n",
      "                center_y: 0.0\n",
      "                R_sersic: 3\n",
      "                n_sersic: 8\n",
      "                e1: 0.05\n",
      "                e2: -0.05\n",
      "        MASS_PROFILE_1:\n",
      "            NAME: SIE \n",
      "            PARAMETERS:\n",
      "                theta_E: 1.0\n",
      "                e1: 0.1\n",
      "                e2: -0.1\n",
      "                center_x: 0.0\n",
      "                center_y: 0.0\n",
      "        SHEAR_PROFILE_1:\n",
      "            NAME: SHEAR\n",
      "            PARAMETERS:\n",
      "                gamma1: 0.08\n",
      "                gamma2: 0.01\n",
      "    GALAXY_2:\n",
      "        NAME: SOURCE\n",
      "        LIGHT_PROFILE_1:\n",
      "            NAME: SERSIC_ELLIPSE\n",
      "            PARAMETERS:\n",
      "                magnitude: 21.5\n",
      "                center_x: 0.0\n",
      "                center_y: 0.0\n",
      "                R_sersic: 6\n",
      "                n_sersic: 5\n",
      "                e1: 0.2\n",
      "                e2: -0.1 \n",
      "        MASS_PROFILE_1:\n",
      "            NAME: SIE\n",
      "            PARAMETERS:\n",
      "                theta_E: 1.0\n",
      "                e1: 0.1\n",
      "                e2: -0.1\n",
      "                center_x: 0.0\n",
      "                center_y: 0.0\n",
      "        SHEAR_PROFILE_1:\n",
      "            NAME: SHEAR\n",
      "            PARAMETERS:\n",
      "                gamma1: 0.08\n",
      "                gamma2: 0.01               \n",
      "    POINTSOURCE_1:\n",
      "        NAME: AGN\n",
      "        HOST: SOURCE\n",
      "        PARAMETERS:\n",
      "            magnitude: 16\n",
      "    POINTSOURCE_2:\n",
      "        NAME: SUPERNOVA\n",
      "        HOST: SOURCE\n",
      "        PARAMETERS:\n",
      "            magnitude: 21.0\n",
      "            sep: 2.0\n",
      "            sep_unit: arcsec\n",
      "    POINTSOURCE_3:\n",
      "        NAME: STAR\n",
      "        HOST: Foreground\n",
      "        PARAMETERS:\n",
      "            magnitude: 14.0\n",
      "    NOISE_1:\n",
      "        NAME: POISSON_NOISE\n",
      "        PARAMETERS:\n",
      "            mean: 2.0\n",
      "\n",
      "\n",
      "GEOMETRY:\n",
      "    CONFIGURATION_1:\n",
      "        NAME: GALAXY_AGN\n",
      "        FRACTION: 1.0\n",
      "        PLANE_1:\n",
      "            OBJECT_1: LENS\n",
      "            PARAMETERS:\n",
      "                REDSHIFT: 0.2                    \n",
      "        PLANE_2:\n",
      "            OBJECT_1: SOURCE\n",
      "            OBJECT_2: AGN\n",
      "            PARAMETERS:\n",
      "                REDSHIFT: 0.7                  \n",
      "        NOISE_SOURCE_1: POISSON_NOISE  "
     ]
    }
   ],
   "source": [
    "! cat data/demo_cosmology.yaml"
   ]
  },
  {
   "cell_type": "markdown",
   "metadata": {},
   "source": [
    "In this config file, all the parameters except the comsology is drawn from a distribution for simplicity. \n",
    "\n",
    "The available cosmologies in Deeplenstronomy are 'FlatLambdaCDM', 'LambdaCDM', 'FlatwCDM', and 'wCDM'. \n",
    "\n",
    "These options can be given through 'NAME' under 'COSMOLOGY' in the yaml file. If 'NAME' is not specified, the default option is 'FlatLambdaCDM'\n",
    "\n",
    "The input parameters to be given for each cosmology is detailed in astropy cosmology classes https://docs.astropy.org/en/stable/cosmology/index.html#module-astropy.cosmology\n",
    "\n",
    "For example:\n",
    "\n",
    "- The yaml file should have H0, Om0 for 'FlatLambdaCDM' either as constants or as distributions and the other parametrs are optional\n",
    "- The yaml file should have H0, Om0, Ode0 for 'wCDM'\n",
    "\n"
   ]
  },
  {
   "cell_type": "code",
   "execution_count": 10,
   "metadata": {
    "tags": []
   },
   "outputs": [
    {
     "name": "stdout",
     "output_type": "stream",
     "text": [
      "Entering main organization loop\n",
      "Organizing CONFIGURATION_1\n",
      "cosmology:  wCDM\n",
      "cosmology:  wCDM\n",
      "cosmology:  wCDM\n",
      "cosmology:  wCDM\n",
      "cosmology:  wCDM\n",
      "cosmology:  wCDM\n",
      "cosmology:  wCDM\n",
      "cosmology:  wCDM\n",
      "cosmology:  wCDM\n",
      "cosmology:  wCDM\n",
      "Generating images for CONFIGURATION_1\n",
      "wCDM(H0=70.14306206998731 km / (Mpc s), Om0=0.0830183621570676, Ode0=0.9169816378429324, w0=-0.953856162737905, Tcmb0=0.0 K, Neff=3.04, m_nu=None, Ob0=None)\n",
      "wCDM(H0=71.74150030431814 km / (Mpc s), Om0=0.3450663286576336, Ode0=0.6549336713423664, w0=-0.8844121949428136, Tcmb0=0.0 K, Neff=3.04, m_nu=None, Ob0=None)\n",
      "wCDM(H0=70.65917842708795 km / (Mpc s), Om0=0.3658121033134064, Ode0=0.6341878966865936, w0=-0.9232911872089454, Tcmb0=0.0 K, Neff=3.04, m_nu=None, Ob0=None)\n",
      "wCDM(H0=70.72928387692559 km / (Mpc s), Om0=0.3307904861787108, Ode0=0.6692095138212892, w0=-0.8437580864890355, Tcmb0=0.0 K, Neff=3.04, m_nu=None, Ob0=None)\n",
      "wCDM(H0=71.51789405237884 km / (Mpc s), Om0=0.0775247103969201, Ode0=0.9224752896030799, w0=-0.9121210978197986, Tcmb0=0.0 K, Neff=3.04, m_nu=None, Ob0=None)\n",
      "wCDM(H0=69.4495051722222 km / (Mpc s), Om0=0.08375538981524527, Ode0=0.9162446101847548, w0=-0.8553660656230389, Tcmb0=0.0 K, Neff=3.04, m_nu=None, Ob0=None)\n",
      "wCDM(H0=70.96396560276754 km / (Mpc s), Om0=0.029749572723428597, Ode0=0.9702504272765714, w0=-0.8758453122022937, Tcmb0=0.0 K, Neff=3.04, m_nu=None, Ob0=None)\n",
      "wCDM(H0=71.3529429045563 km / (Mpc s), Om0=0.4334458495744915, Ode0=0.5665541504255085, w0=-0.9933987551441827, Tcmb0=0.0 K, Neff=3.04, m_nu=None, Ob0=None)\n",
      "wCDM(H0=71.52313760820397 km / (Mpc s), Om0=0.3631189925976309, Ode0=0.6368810074023691, w0=-0.9568253307451048, Tcmb0=0.0 K, Neff=3.04, m_nu=None, Ob0=None)\n",
      "wCDM(H0=71.19702034760681 km / (Mpc s), Om0=0.3349761516546376, Ode0=0.6650238483453623, w0=-0.9749992421936394, Tcmb0=0.0 K, Neff=3.04, m_nu=None, Ob0=None)\n",
      "\tProgress: 100.0 %  ---  Elapsed Time: 0 H 0 M 0 S         \n"
     ]
    }
   ],
   "source": [
    "dataset = dl.make_dataset('data/demo_cosmology.yaml',verbose=True)"
   ]
  },
  {
   "cell_type": "code",
   "execution_count": 11,
   "metadata": {
    "tags": []
   },
   "outputs": [
    {
     "data": {
      "image/png": "[encoded data removed]",
      "text/plain": [
       "<Figure size 640x480 with 1 Axes>"
      ]
     },
     "metadata": {},
     "output_type": "display_data"
    }
   ],
   "source": [
    "view_image(dataset.CONFIGURATION_1_images[0][0])"
   ]
  },
  {
   "cell_type": "code",
   "execution_count": null,
   "metadata": {},
   "outputs": [],
   "source": []
  }
 ],
 "metadata": {
  "kernelspec": {
   "display_name": "Python [conda env:.conda-bison]",
   "language": "python",
   "name": "conda-env-.conda-bison-py"
  },
  "language_info": {
   "codemirror_mode": {
    "name": "ipython",
    "version": 3
   },
   "file_extension": ".py",
   "mimetype": "text/x-python",
   "name": "python",
   "nbconvert_exporter": "python",
   "pygments_lexer": "ipython3",
   "version": "3.11.4"
  },
  "vscode": {
   "interpreter": {
    "hash": "1f8e6c097b2fd3aa92942e2f09090a60d14bd573948ba0d2cfac6287ab5bd57b"
   }
  }
 },
 "nbformat": 4,
 "nbformat_minor": 4
}
