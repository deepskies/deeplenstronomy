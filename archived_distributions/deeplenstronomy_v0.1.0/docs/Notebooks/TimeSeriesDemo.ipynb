{
 "cells": [
  {
   "cell_type": "markdown",
   "metadata": {},
   "source": [
    "# Time Series Demo\n",
    "\n",
    "Written by Robert Morgan\n",
    "\n",
    "This notebook will demonstrate the use of `deeplenstronomy` to create a time series of images."
   ]
  },
  {
   "cell_type": "code",
   "execution_count": 1,
   "metadata": {},
   "outputs": [],
   "source": [
    "import deeplenstronomy.deeplenstronomy as dl"
   ]
  },
  {
   "cell_type": "markdown",
   "metadata": {},
   "source": [
    "For this example, we'll use the `demo_timeseries.yaml` config file, which already has timeseries functionality built in. It is the same demo file we have been using, but we have updated the entries for `SPECIES.POINTSOURCE_2` and `CONFIGURATION_3` to include the temporal evolution of the supernova in that system."
   ]
  },
  {
   "cell_type": "code",
   "execution_count": 2,
   "metadata": {},
   "outputs": [],
   "source": [
    "config_file = 'data/demo_timeseries.yaml'"
   ]
  },
  {
   "cell_type": "code",
   "execution_count": 3,
   "metadata": {},
   "outputs": [
    {
     "name": "stdout",
     "output_type": "stream",
     "text": [
      "DATASET:\r\n",
      "    NAME: MyDeeplenstronomyDataset\r\n",
      "    PARAMETERS:\r\n",
      "        SIZE: 100\r\n",
      "        OUTDIR: MySimulationResultsTimeSeries\r\n",
      "\r\n",
      "COSMOLOGY:\r\n",
      "    PARAMETERS:\r\n",
      "        H0: 70\r\n",
      "        Om0: 0.3\r\n",
      "\r\n",
      "IMAGE:\r\n",
      "    PARAMETERS:\r\n",
      "        exposure_time: \r\n",
      "            DISTRIBUTION:\r\n",
      "                NAME: uniform\r\n",
      "                PARAMETERS:\r\n",
      "                    minimum: 60\r\n",
      "                    maximum: 120\r\n",
      "        numPix: 100\r\n",
      "        pixel_scale: 0.263\r\n",
      "        psf_type: 'GAUSSIAN'\r\n",
      "        read_noise: 7\r\n",
      "        ccd_gain: 6.083\r\n",
      "\r\n",
      "SURVEY:\r\n",
      "    PARAMETERS:\r\n",
      "        BANDS: g,r,i,z,Y\r\n",
      "        seeing: 0.9\r\n",
      "        magnitude_zero_point: 30.0\r\n",
      "        sky_brightness: 23.5\r\n",
      "        num_exposures: 1\r\n",
      "\r\n",
      "SPECIES:\r\n",
      "    GALAXY_1:\r\n",
      "        NAME: LENS\r\n",
      "        LIGHT_PROFILE_1:\r\n",
      "            NAME: SERSIC_ELLIPSE\r\n",
      "            PARAMETERS:\r\n",
      "                magnitude: 19.5\r\n",
      "                center_x: 0.0\r\n",
      "                center_y: 0.0\r\n",
      "                R_sersic: 10\r\n",
      "                n_sersic: 4\r\n",
      "                e1: 0.2\r\n",
      "                e2: -0.1\r\n",
      "        LIGHT_PROFILE_2:\r\n",
      "            NAME: SERSIC_ELLIPSE\r\n",
      "            PARAMETERS:\r\n",
      "                magnitude: 18.0\r\n",
      "                center_x: 0.0\r\n",
      "                center_y: 0.0\r\n",
      "                R_sersic: 3\r\n",
      "                n_sersic: 8\r\n",
      "                e1: 0.05\r\n",
      "                e2: -0.05\r\n",
      "        MASS_PROFILE_1:\r\n",
      "            NAME: SIE \r\n",
      "            PARAMETERS:\r\n",
      "                theta_E: 2.0\r\n",
      "                e1: 0.1\r\n",
      "                e2: -0.1\r\n",
      "                center_x: 0.0\r\n",
      "                center_y: 0.0\r\n",
      "        SHEAR_PROFILE_1:\r\n",
      "            NAME: SHEAR\r\n",
      "            PARAMETERS:\r\n",
      "                gamma1: 0.08\r\n",
      "                gamma2: 0.01\r\n",
      "    GALAXY_2:\r\n",
      "        NAME: SOURCE\r\n",
      "        LIGHT_PROFILE_1:\r\n",
      "            NAME: SERSIC_ELLIPSE\r\n",
      "            PARAMETERS:\r\n",
      "                magnitude: 21.5\r\n",
      "                center_x: 0.0\r\n",
      "                center_y: 0.0\r\n",
      "                R_sersic: 6\r\n",
      "                n_sersic: 5\r\n",
      "                e1: 0.2\r\n",
      "                e2: -0.1 \r\n",
      "        SHEAR_PROFILE_1:\r\n",
      "            NAME: SHEAR\r\n",
      "            PARAMETERS:\r\n",
      "                gamma1: 0.08\r\n",
      "                gamma2: 0.01               \r\n",
      "    POINTSOURCE_1:\r\n",
      "        NAME: AGN\r\n",
      "        HOST: SOURCE\r\n",
      "        PARAMETERS:\r\n",
      "            magnitude: 16\r\n",
      "    POINTSOURCE_2:\r\n",
      "        NAME: SUPERNOVA\r\n",
      "        HOST: SOURCE\r\n",
      "        MODEL: ia_random\r\n",
      "        PARAMETERS:\r\n",
      "            magnitude: 21.0\r\n",
      "            sep: 2.0\r\n",
      "            sep_unit: arcsec\r\n",
      "    POINTSOURCE_3:\r\n",
      "        NAME: STAR\r\n",
      "        HOST: Foreground\r\n",
      "        PARAMETERS:\r\n",
      "            magnitude: 14.0\r\n",
      "    NOISE_1:\r\n",
      "        NAME: POISSON_NOISE\r\n",
      "        PARAMETERS:\r\n",
      "            mean: 2.0\r\n",
      "\r\n",
      "\r\n",
      "GEOMETRY:\r\n",
      "    CONFIGURATION_1:\r\n",
      "        NAME: GALAXY_AGN\r\n",
      "        FRACTION: 0.25\r\n",
      "        PLANE_1:\r\n",
      "            OBJECT_1: LENS\r\n",
      "            PARAMETERS:\r\n",
      "                REDSHIFT: 0.2                    \r\n",
      "        PLANE_2:\r\n",
      "            OBJECT_1: SOURCE\r\n",
      "            OBJECT_2: AGN\r\n",
      "            PARAMETERS:\r\n",
      "                REDSHIFT: 0.7                  \r\n",
      "        NOISE_SOURCE_1: POISSON_NOISE\r\n",
      "\r\n",
      "\r\n",
      "    CONFIGURATION_2:\r\n",
      "        NAME: GALAXY_AGN_NOISELESS\r\n",
      "        FRACTION: 0.25\r\n",
      "        PLANE_1:\r\n",
      "            OBJECT_1: LENS\r\n",
      "            PARAMETERS:\r\n",
      "                REDSHIFT: 0.2                    \r\n",
      "        PLANE_2:\r\n",
      "            OBJECT_1: SOURCE\r\n",
      "            OBJECT_2: AGN\r\n",
      "            PARAMETERS:\r\n",
      "                REDSHIFT: 0.7         \r\n",
      "\r\n",
      "    CONFIGURATION_3:\r\n",
      "        NAME: LENSED_SNE\r\n",
      "        FRACTION: 0.25\r\n",
      "        PLANE_1:\r\n",
      "            OBJECT_1: LENS\r\n",
      "            PARAMETERS:\r\n",
      "                REDSHIFT: 0.2                    \r\n",
      "        PLANE_2:\r\n",
      "            OBJECT_1: SOURCE\r\n",
      "            OBJECT_2: SUPERNOVA\r\n",
      "            PARAMETERS:\r\n",
      "                REDSHIFT: 0.7      \r\n",
      "        NOISE_SOURCE_1: POISSON_NOISE   \r\n",
      "        TIMESERIES:\r\n",
      "            NITES: [-10, -5, 0, 5, 10]\r\n",
      "            OBJECTS: ['SUPERNOVA']\r\n",
      "\r\n",
      "    CONFIGURATION_4:\r\n",
      "        NAME: SPICY_LIFE\r\n",
      "        FRACTION: 0.25\r\n",
      "        PLANE_1:\r\n",
      "            OBJECT_1: LENS\r\n",
      "            OBJECT_2: STAR\r\n",
      "            OBJECT_3: STAR\r\n",
      "            PARAMETERS:\r\n",
      "                REDSHIFT: 0.2                    \r\n",
      "        PLANE_2:\r\n",
      "            OBJECT_1: LENS\r\n",
      "            PARAMETERS:\r\n",
      "                REDSHIFT: 0.7\r\n",
      "        PLANE_3:\r\n",
      "            OBJECT_1: SOURCE\r\n",
      "            OBJECT_2: SUPERNOVA\r\n",
      "            OBJECT_3: AGN\r\n",
      "            PARAMETERS:\r\n",
      "                REDSHIFT: 1.3      \r\n",
      "        NOISE_SOURCE_1: POISSON_NOISE     "
     ]
    }
   ],
   "source": [
    "! cat data/demo_timeseries.yaml"
   ]
  },
  {
   "cell_type": "markdown",
   "metadata": {},
   "source": [
    "_Note_: `SURVEY.num_exposures` must be set to 1 (to better reflect real time-series data) and cannot be drawn from a distribution if you are using any time-series features."
   ]
  },
  {
   "cell_type": "markdown",
   "metadata": {},
   "source": [
    "## Configuration File Keywords - MODEL\n",
    "\n",
    "Check out the information in the `SPECIES` section for `POINTSOURCE_2`. You will notice the `MODEL` keyword is new and has not been used in other examples. Next, take a look at `CONFIGURATION_3`; you should see an entry for `TIMESERIES`. These two additions to the config file are all you need to utilize the time series features of `deeplenstronomy`.\n",
    "\n",
    "Let's start with the `MODEL` keyword in the `SPECIES` section. The `MODEL` points `deeplenstronomy` to the type of temporal behavior you want to add to the object.\n",
    "\n",
    "### Time series toy models\n",
    "\n",
    " The basic options for time series models are:\n",
    "\n",
    "- `MODEL: flat` for no evolution of brightness in time, but `deeplenstronomy` will still simulate the image under different observing conditions in each of the nites requested\n",
    "- `MODEL: flatnoise` for no real evolution of brightness in time, but a small amount of noise is added to the measured brightness of the object on each nite requested\n",
    "- `MODEL: variable` a central magnitude is chosen from the range 13-23 mag, a small color is intruduced between the different bands, and the magnitudee each nite is chosen from a $\\pm$ 1 mag interval around the central magnitude\n",
    "- `MODEL: variablenoise` the variable model is used, but a small amount of noise is added to the measured brightness on top of the variation.\n",
    "\n",
    "### Time series spectral models\n",
    "\n",
    "Aside from these toy time-series models, `deeplenstronomy` has real objects built in as well. You also have the ability to simulate supernova and kilonova light curves. Under the hood, `deeplenstronomy` has a time series spectral energy distribution (SED) for type-Ia supernovae, core-collapse supernovae, and the kilonova counterpart to GW170817. When these models are called, `deeplenstronomy` redshifts the spectra, integrates the spectra through the bands of the survey, and produces a magnitude in each band on each nite.\n",
    "\n",
    "Specifically, these SEDs are automatically downloaded when you request time-series data for the first time. They are:"
   ]
  },
  {
   "cell_type": "code",
   "execution_count": 4,
   "metadata": {},
   "outputs": [
    {
     "name": "stdout",
     "output_type": "stream",
     "text": [
      "SNe-CC SED filenames\\n\r\n",
      "# CC templates from Kessler & Jha in 2010 Classification challenge:\r\n",
      "#   http://adsabs.harvard.edu/abs/2010PASP..122.1415K\r\n",
      "#\r\n",
      "NON1A:  002  IIL     Nugent+Scolnic_IIL.SED\r\n",
      "NON1A:  021  Ibc     SNLS-04D1la.SED\r\n",
      "NON1A:  022  Ic      SNLS-04D4jv.SED\r\n",
      "NON1A:  101  Ic      CSP-2004fe.SED\r\n",
      "NON1A:  102  Ic      CSP-2004gq.SED\r\n",
      "NON1A:  103  Ib      CSP-2004gv.SED\r\n",
      "NON1A:  104  Ib      CSP-2006ep.SED\r\n",
      "NON1A:  105  Ib      CSP-2007Y.SED\r\n",
      "NON1A:  201  IIP     SDSS-000018.SED\r\n",
      "NON1A:  202  Ib      SDSS-000020.SED\r\n",
      "NON1A:  203  Ib      SDSS-002744.SED\r\n",
      "NON1A:  204  IIP     SDSS-003818.SED\r\n",
      "NON1A:  205  Ic      SDSS-004012.SED\r\n",
      "NON1A:  206  IIN     SDSS-012842.SED\r\n",
      "NON1A:  207  Ic      SDSS-013195.SED\r\n",
      "NON1A:  208  IIP     SDSS-013376.SED\r\n",
      "NON1A:  209  IIN     SDSS-013449.SED\r\n",
      "NON1A:  210  IIP     SDSS-014450.SED\r\n",
      "NON1A:  211  Ic      SDSS-014475.SED\r\n",
      "NON1A:  212  Ib      SDSS-014492.SED\r\n",
      "NON1A:  213  IIP     SDSS-014599.SED\r\n",
      "NON1A:  214  IIP     SDSS-015031.SED\r\n",
      "NON1A:  215  IIP     SDSS-015320.SED\r\n",
      "NON1A:  216  IIP     SDSS-015339.SED\r\n",
      "NON1A:  217  Ic      SDSS-015475.SED\r\n",
      "NON1A:  218  Ic      SDSS-017548.SED\r\n",
      "NON1A:  219  IIP     SDSS-017564.SED\r\n",
      "NON1A:  220  IIP     SDSS-017862.SED\r\n",
      "NON1A:  221  IIP     SDSS-018109.SED\r\n",
      "NON1A:  222  IIP     SDSS-018297.SED\r\n",
      "NON1A:  223  IIP     SDSS-018408.SED\r\n",
      "NON1A:  224  IIP     SDSS-018441.SED\r\n",
      "NON1A:  225  IIP     SDSS-018457.SED\r\n",
      "NON1A:  226  IIP     SDSS-018590.SED\r\n",
      "NON1A:  227  IIP     SDSS-018596.SED\r\n",
      "NON1A:  228  IIP     SDSS-018700.SED\r\n",
      "NON1A:  229  IIP     SDSS-018713.SED\r\n",
      "NON1A:  230  IIP     SDSS-018734.SED\r\n",
      "NON1A:  231  IIP     SDSS-018793.SED\r\n",
      "NON1A:  232  IIP     SDSS-018834.SED\r\n",
      "NON1A:  233  IIP     SDSS-018892.SED\r\n",
      "NON1A:  234  Ib      SDSS-019323.SED\r\n",
      "NON1A:  235  IIP     SDSS-020038.SED\r\n",
      "\r\n"
     ]
    }
   ],
   "source": [
    "! echo \"SNe-CC SED filenames\\n\" & cat seds/cc/NON1A.LIST"
   ]
  },
  {
   "cell_type": "code",
   "execution_count": 5,
   "metadata": {},
   "outputs": [
    {
     "name": "stdout",
     "output_type": "stream",
     "text": [
      "SNe-Ia SED filename\\n\r\n",
      "salt2_template_0.dat     snflux_1a_Nugent2002.dat\r\n"
     ]
    }
   ],
   "source": [
    "! echo \"SNe-Ia SED filename\\n\" & ls seds/ia"
   ]
  },
  {
   "cell_type": "markdown",
   "metadata": {},
   "source": [
    "The GW170817 model is just a single file located in `seds/kn/kn.SED`"
   ]
  },
  {
   "cell_type": "markdown",
   "metadata": {},
   "source": [
    "The reason for diving into the raw files is that `deeplenstronomy` allows you to either choose randomly from all the available SEDs for a given object, or allows you to specify the particular file of interest.\n",
    "\n",
    "- `MODEL: ia_random` will choose a single SED file at random from the available SNe-Ia SEDs and use it\n",
    "- `MODEL: cc_random` will choose a single SED file at random from the available SNe-CC SEDs and use it\n",
    "\n",
    "To use a specific SNe-CC or SNe-Ia model, you replace `random` with the filename you want:\n",
    "\n",
    "- `MODEL: ia_salt2-template-0.dat` for the well-established SALT2 SN-Ia model,\n",
    "- `MODEL: cc_SDSS-003818.SED` for a particular SN-IIP observed by SDSS, etc.\n",
    "\n",
    "The GW170817 kilonova model is targeted by `MODEL: kn_kn.SED` to match the syntax of the other models, even though there is currently only one model."
   ]
  },
  {
   "cell_type": "markdown",
   "metadata": {},
   "source": [
    "### User-specified time series models\n",
    "\n",
    "Like other features in `deeplenstronomy` (image background, probability distributions, etc.) the user has the ability to incorporate their own data into the simulations. To use your own file, format a SED file like the built-in `deeplenstronomy` files:"
   ]
  },
  {
   "cell_type": "code",
   "execution_count": 6,
   "metadata": {},
   "outputs": [
    {
     "name": "stdout",
     "output_type": "stream",
     "text": [
      "head: seds/ia/salt2-template-0.dat: No such file or directory\r\n"
     ]
    }
   ],
   "source": [
    "! head seds/ia/salt2-template-0.dat"
   ]
  },
  {
   "cell_type": "markdown",
   "metadata": {},
   "source": [
    "The columns (from left to right) are days relative to the date of peak flux, the wavelength in angstroms, and the flux in erg / cm$^2$ / sec.\n",
    "\n",
    "If you are not simulating data using Dark Energy Survey bands, you will need to also supply transmission curevs for all filters in your survey in the `filters/` directory while following all formatting of the provided transmission curves.\n",
    "\n",
    "To target your model from the `deeplenstronomy` configuration file, you use the `MODEL` keyword as follows:\n",
    "\n",
    "- `MODEL: user_<name of file containing your sed>`"
   ]
  },
  {
   "cell_type": "markdown",
   "metadata": {},
   "source": [
    "## Configuration File Keywords - TIMESERIES\n",
    "\n",
    "The final step in including time series behavior in your dataset is to specify which object in which configuration you want to \"time-series-ify\", and the temporal spacing of the observations.\n",
    "\n",
    "In the `demo_timeseries.yaml` file, we have done:\n",
    "\n",
    "```\n",
    "    CONFIGURATION_3:\n",
    "        NAME: LENSED_SNE\n",
    "        FRACTION: 0.25\n",
    "        PLANE_1:\n",
    "            OBJECT_1: LENS\n",
    "            PARAMETERS:\n",
    "                REDSHIFT: 0.2                    \n",
    "        PLANE_2:\n",
    "            OBJECT_1: SOURCE\n",
    "            OBJECT_2: SUPERNOVA\n",
    "            PARAMETERS:\n",
    "                REDSHIFT: 0.7      \n",
    "        NOISE_SOURCE_1: POISSON_NOISE   \n",
    "        TIMESERIES:\n",
    "            NITES: [-10, -5, 0, 5, 10]\n",
    "            OBJECTS: ['SUPERNOVA']\n",
    "```\n",
    "\n",
    "The name `SUPERNOVA` is the `NAME` of `POINTSOURCE_2` in the `SPECIES` section, and listed as `OBJECT_2` in `PLANE_2` of `CONFIGURATION_3`. `deeplenstronomy` uses this `NAME` value to connect the properties of the object to its temporal behavior. Making sure the `NAME` value is connected across these sections is essential for `deeplenstronomy` to work properly.\n",
    "\n",
    "The remaining `TIMESERIES` attributes have the following meanings:\n",
    "\n",
    "- `NITES` Suppy a list of times (in units of days relative to the date of peak flux) to define the temporal spacing of the observations\n",
    "- `OBJECTS` Supply a list of names (as strings) of entries in the `SPECIES` section for which the `MODEL` key has already been specified"
   ]
  },
  {
   "cell_type": "markdown",
   "metadata": {},
   "source": [
    "## What About Quasars???\n",
    "\n",
    "Searching for lensed quasars is a popular science case at the interface of time-series data and strong lensing. However, `deeplenstronomy`'s time-series functionality is mainly built to simulate explosive objects, not persistent variable objects, so the use of time-series functionality to simulate lensed quasars is discouraged.\n",
    "\n",
    "That being said, detections of lens quasars from images are usually made by detecting the system in a single image and then obtaining further observations to characterize the light curve of the potential quasar images, as opposed to detecting them only through a time-series set of images. For this purpose, `deeplenstronomy`'s `USERDIST` functionality is exactly what you're looking for!\n",
    "\n",
    "Through specifying a `USERDIST` you can readily put quasar color distributions into your distributions to get realistic single images of lensed quasars."
   ]
  },
  {
   "cell_type": "markdown",
   "metadata": {},
   "source": [
    "## Generating the Dataset\n",
    "\n",
    "If this is your first time simulating a particular class of time series object, `deeplenstronomy` will need to quickly download some data. It will automatically get what it needs from my GitHub, and it will target my [deeplenstronomy_data](https://github.com/rmorgan10/deeplenstronomy_data) repo.\n",
    "\n",
    "The data it will download are time-series spectra and the transmission curves for whichever filters you specified.\n",
    "\n",
    "When you run in time series mode, `deeplenstronomy` will build up a light curve bank while processing your configuration file and before it begins simulating images. This extra step may take a few minutes to run, but will only need to occur at the beginning of the simulation. "
   ]
  },
  {
   "cell_type": "code",
   "execution_count": 7,
   "metadata": {},
   "outputs": [
    {
     "name": "stdout",
     "output_type": "stream",
     "text": [
      "Generating time series data for CONFIGURATION_3\n",
      "Entering main organization loop\n",
      "Organizing CONFIGURATION_1\n",
      "Organizing CONFIGURATION_2\n",
      "Organizing CONFIGURATION_3\n",
      "Organizing CONFIGURATION_4\n",
      "Generating images for CONFIGURATION_1\n",
      "\tProgress: 100.0 %  ---  Elapsed Time: 0 H 0 M 5 S\n",
      "Generating images for CONFIGURATION_2\n",
      "\tProgress: 100.0 %  ---  Elapsed Time: 0 H 0 M 4 S\n",
      "Generating images for CONFIGURATION_3\n",
      "\tProgress: 100.0 %  ---  Elapsed Time: 0 H 0 M 26 S\n",
      "Generating images for CONFIGURATION_4\n",
      "\tProgress: 100.0 %  ---  Elapsed Time: 0 H 0 M 34 S\n"
     ]
    }
   ],
   "source": [
    "dataset = dl.make_dataset(config_file, verbose=True)"
   ]
  },
  {
   "cell_type": "markdown",
   "metadata": {},
   "source": [
    "In the config file, the time series objects were placed in `CONFIGURATION_3`, so let's focus there for this example. \n",
    "\n",
    "The images for the entire configuration will all be stacked in the `dataset.CONFIGURATION_3_images`, so therefore it is a good idea to use the `OBJID` columns in `dataset.CONFIGURATION_3_metadata` to track the images that are part of the same time series."
   ]
  },
  {
   "cell_type": "code",
   "execution_count": 8,
   "metadata": {},
   "outputs": [
    {
     "name": "stdout",
     "output_type": "stream",
     "text": [
      "[ 0  0  0  0  0  1  1  1  1  1  2  2  2  2  2  3  3  3  3  3  4  4  4  4\n",
      "  4  5  5  5  5  5  6  6  6  6  6  7  7  7  7  7  8  8  8  8  8  9  9  9\n",
      "  9  9 10 10 10 10 10 11 11 11 11 11 12 12 12 12 12 13 13 13 13 13 14 14\n",
      " 14 14 14 15 15 15 15 15 16 16 16 16 16 17 17 17 17 17 18 18 18 18 18 19\n",
      " 19 19 19 19 20 20 20 20 20 21 21 21 21 21 22 22 22 22 22 23 23 23 23 23\n",
      " 24 24 24 24 24]\n"
     ]
    }
   ],
   "source": [
    "print(dataset.CONFIGURATION_3_metadata['OBJID-g'].values)"
   ]
  },
  {
   "cell_type": "code",
   "execution_count": 9,
   "metadata": {},
   "outputs": [],
   "source": [
    "import numpy as np"
   ]
  },
  {
   "cell_type": "code",
   "execution_count": 10,
   "metadata": {},
   "outputs": [
    {
     "name": "stdout",
     "output_type": "stream",
     "text": [
      "[50 51 52 53 54]\n"
     ]
    }
   ],
   "source": [
    "# Get the indices of all the images corresponding to OBJID = 10\n",
    "obj_indices = (dataset.CONFIGURATION_3_metadata['OBJID-g'].values == 10).nonzero()[0]\n",
    "print(obj_indices)"
   ]
  },
  {
   "cell_type": "markdown",
   "metadata": {},
   "source": [
    "Now let's visualize the time-evolution of the object"
   ]
  },
  {
   "cell_type": "code",
   "execution_count": 11,
   "metadata": {},
   "outputs": [],
   "source": [
    "from deeplenstronomy.visualize import view_image"
   ]
  },
  {
   "cell_type": "code",
   "execution_count": 12,
   "metadata": {},
   "outputs": [
    {
     "name": "stdout",
     "output_type": "stream",
     "text": [
      "NITE:  -10\n",
      "     g         r         i         z         Y\n"
     ]
    },
    {
     "data": {
      "image/png": "[encoded data removed]",
      "text/plain": [
       "<Figure size 432x288 with 5 Axes>"
      ]
     },
     "metadata": {},
     "output_type": "display_data"
    },
    {
     "name": "stdout",
     "output_type": "stream",
     "text": [
      "NITE:  -5\n",
      "     g         r         i         z         Y\n"
     ]
    },
    {
     "data": {
      "image/png": "[encoded data removed]",
      "text/plain": [
       "<Figure size 432x288 with 5 Axes>"
      ]
     },
     "metadata": {},
     "output_type": "display_data"
    },
    {
     "name": "stdout",
     "output_type": "stream",
     "text": [
      "NITE:  0\n",
      "     g         r         i         z         Y\n"
     ]
    },
    {
     "data": {
      "image/png": "[encoded data removed]",
      "text/plain": [
       "<Figure size 432x288 with 5 Axes>"
      ]
     },
     "metadata": {},
     "output_type": "display_data"
    },
    {
     "name": "stdout",
     "output_type": "stream",
     "text": [
      "NITE:  5\n",
      "     g         r         i         z         Y\n"
     ]
    },
    {
     "data": {
      "image/png": "[encoded data removed]",
      "text/plain": [
       "<Figure size 432x288 with 5 Axes>"
      ]
     },
     "metadata": {},
     "output_type": "display_data"
    },
    {
     "name": "stdout",
     "output_type": "stream",
     "text": [
      "NITE:  10\n",
      "     g         r         i         z         Y\n"
     ]
    },
    {
     "data": {
      "image/png": "[encoded data removed]",
      "text/plain": [
       "<Figure size 432x288 with 5 Axes>"
      ]
     },
     "metadata": {},
     "output_type": "display_data"
    }
   ],
   "source": [
    "for idx in obj_indices:\n",
    "    print(\"NITE: \", dataset.CONFIGURATION_3_metadata['PLANE_2-OBJECT_2-nite-g'].values[idx])\n",
    "    print(\"     g         r         i         z         Y\")\n",
    "    view_image(dataset.CONFIGURATION_3_images[idx])"
   ]
  },
  {
   "cell_type": "markdown",
   "metadata": {},
   "source": [
    "We can also access and plot the light curve of the point source like this:"
   ]
  },
  {
   "cell_type": "code",
   "execution_count": 13,
   "metadata": {},
   "outputs": [],
   "source": [
    "import matplotlib.pyplot as plt"
   ]
  },
  {
   "cell_type": "code",
   "execution_count": 14,
   "metadata": {
    "scrolled": true
   },
   "outputs": [
    {
     "data": {
      "image/png": "[encoded data removed]",
      "text/plain": [
       "<Figure size 432x288 with 1 Axes>"
      ]
     },
     "metadata": {
      "needs_background": "light"
     },
     "output_type": "display_data"
    }
   ],
   "source": [
    "plt.figure()\n",
    "\n",
    "color_dict = {'g': '#984ea3', 'r': '#377eb8', 'i': '#4daf4a', 'z': '#ff7f00', 'Y': '#e41a1c'}\n",
    "\n",
    "for band in ['g', 'r', 'i', 'z', 'Y']:\n",
    "    times = dataset.CONFIGURATION_3_metadata['PLANE_2-OBJECT_2-nite-{0}'.format(band)].values[obj_indices]\n",
    "    mags = dataset.CONFIGURATION_3_metadata['PLANE_2-OBJECT_2-magnitude-{0}'.format(band)].values[obj_indices]\n",
    "    \n",
    "    plt.plot(times, mags, color=color_dict[band], label=band)\n",
    "    \n",
    "plt.legend(fontsize=12, ncol=5)\n",
    "plt.ylim(22, 16)\n",
    "plt.xticks(fontsize=14)\n",
    "plt.yticks(fontsize=14)\n",
    "plt.xlabel(\"Days relative to peak flux\", fontsize=14)\n",
    "plt.ylabel(\"Magnitude\", fontsize=14)\n",
    "plt.show()"
   ]
  },
  {
   "cell_type": "code",
   "execution_count": null,
   "metadata": {},
   "outputs": [],
   "source": []
  }
 ],
 "metadata": {
  "kernelspec": {
   "display_name": "Python 3",
   "language": "python",
   "name": "python3"
  },
  "language_info": {
   "codemirror_mode": {
    "name": "ipython",
    "version": 3
   },
   "file_extension": ".py",
   "mimetype": "text/x-python",
   "name": "python",
   "nbconvert_exporter": "python",
   "pygments_lexer": "ipython3",
   "version": "3.7.8"
  }
 },
 "nbformat": 4,
 "nbformat_minor": 2
}
