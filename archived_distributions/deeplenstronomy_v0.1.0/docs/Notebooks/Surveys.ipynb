{
 "cells": [
  {
   "cell_type": "markdown",
   "metadata": {},
   "source": [
    "# Astronomical Survey Conditions\n",
    "\n",
    "If you are trying to build a set of simulated data with the same characteristics as astronomical survey experiments, then look no further than the `deeplenstronomy.surveys` functionality."
   ]
  },
  {
   "cell_type": "code",
   "execution_count": 1,
   "metadata": {},
   "outputs": [],
   "source": [
    "from deeplenstronomy import surveys"
   ]
  },
  {
   "cell_type": "markdown",
   "metadata": {},
   "source": [
    "The available surveys are:"
   ]
  },
  {
   "cell_type": "code",
   "execution_count": 2,
   "metadata": {},
   "outputs": [
    {
     "data": {
      "text/plain": [
       "['delve', 'des', 'euclid', 'hst', 'lsst', 'ztf']"
      ]
     },
     "execution_count": 2,
     "metadata": {},
     "output_type": "execute_result"
    }
   ],
   "source": [
    "[x for x in dir(surveys) if not x.startswith('__')]"
   ]
  },
  {
   "cell_type": "markdown",
   "metadata": {},
   "source": [
    "If you operate in one of these modes, the `IMAGE` and `SURVEY` sections of your configuration file will be overwritten with the characteristics of the specified astronomical survey. These characteristics are found in the `surveys` module.\n",
    "\n",
    "For example, we can look at the Hubble Space Telescope (`hst`):"
   ]
  },
  {
   "cell_type": "code",
   "execution_count": 3,
   "metadata": {},
   "outputs": [
    {
     "name": "stdout",
     "output_type": "stream",
     "text": [
      "def hst():\n",
      "    info = \"\"\"\n",
      "IMAGE:\n",
      "    PARAMETERS:\n",
      "        exposure_time: 5400.0\n",
      "        numPix: 100\n",
      "        pixel_scale: 0.08\n",
      "        psf_type: 'GAUSSIAN'\n",
      "        read_noise: 4\n",
      "        ccd_gain: 2.5\n",
      "SURVEY:\n",
      "    PARAMETERS:\n",
      "        BANDS: F160W\n",
      "        seeing: 0.08\n",
      "        magnitude_zero_point: 25.96\n",
      "        sky_brightness: 22.3\n",
      "        num_exposures: 1\n",
      "\"\"\"\n",
      "    return info\n",
      "\n"
     ]
    }
   ],
   "source": [
    "from inspect import getsource\n",
    "print(getsource(surveys.hst))"
   ]
  },
  {
   "cell_type": "markdown",
   "metadata": {},
   "source": [
    "These are the `IMAGE` and `SURVEY` conditions needed to produce Hubble Space Telescope-like images."
   ]
  },
  {
   "cell_type": "markdown",
   "metadata": {},
   "source": [
    "## Simulating a dataset with survey conditions\n",
    "\n",
    "`deeplenstronomy` offers a simple way of introducing these pre-written sections into your configuration file through its `make_dataset()` function. Just set `survey` to the desired survey from the list above."
   ]
  },
  {
   "cell_type": "code",
   "execution_count": 4,
   "metadata": {},
   "outputs": [],
   "source": [
    "import deeplenstronomy.deeplenstronomy as dl\n",
    "from deeplenstronomy.visualize import view_image"
   ]
  },
  {
   "cell_type": "code",
   "execution_count": 5,
   "metadata": {},
   "outputs": [
    {
     "name": "stdout",
     "output_type": "stream",
     "text": [
      "Entering main organization loop\n",
      "Organizing CONFIGURATION_1\n",
      "Organizing CONFIGURATION_2\n",
      "Organizing CONFIGURATION_3\n",
      "Organizing CONFIGURATION_4\n",
      "Generating images for CONFIGURATION_1\n",
      "\tProgress: 100.0 %  ---  Elapsed Time: 0 H 0 M 0 S\n",
      "Generating images for CONFIGURATION_2\n",
      "\tProgress: 100.0 %  ---  Elapsed Time: 0 H 0 M 0 S\n",
      "Generating images for CONFIGURATION_3\n",
      "\tProgress: 100.0 %  ---  Elapsed Time: 0 H 0 M 0 S\n",
      "Generating images for CONFIGURATION_4\n",
      "\tProgress: 100.0 %  ---  Elapsed Time: 0 H 0 M 3 S\n"
     ]
    }
   ],
   "source": [
    "dataset = dl.make_dataset('data/demo.yaml', survey='hst', store_in_memory=False, store_sample=True, verbose=True)"
   ]
  },
  {
   "cell_type": "markdown",
   "metadata": {},
   "source": [
    "We can inspect the image using `deeplenstornomy`'s built-in visualization functions."
   ]
  },
  {
   "cell_type": "code",
   "execution_count": 6,
   "metadata": {},
   "outputs": [
    {
     "data": {
      "image/png": "[encoded data removed]",
      "text/plain": [
       "<Figure size 432x288 with 1 Axes>"
      ]
     },
     "metadata": {},
     "output_type": "display_data"
    }
   ],
   "source": [
    "view_image(dataset.CONFIGURATION_4_images[4][0])"
   ]
  },
  {
   "cell_type": "markdown",
   "metadata": {},
   "source": [
    "We can compare to a different survey, with noticeable different image quality:"
   ]
  },
  {
   "cell_type": "code",
   "execution_count": 7,
   "metadata": {},
   "outputs": [
    {
     "name": "stdout",
     "output_type": "stream",
     "text": [
      "Entering main organization loop\n",
      "Organizing CONFIGURATION_1\n",
      "Organizing CONFIGURATION_2\n",
      "Organizing CONFIGURATION_3\n",
      "Organizing CONFIGURATION_4\n",
      "Generating images for CONFIGURATION_1\n",
      "\tProgress: 100.0 %  ---  Elapsed Time: 0 H 0 M 1 S\n",
      "Generating images for CONFIGURATION_2\n",
      "\tProgress: 100.0 %  ---  Elapsed Time: 0 H 0 M 1 S\n",
      "Generating images for CONFIGURATION_3\n",
      "\tProgress: 100.0 %  ---  Elapsed Time: 0 H 0 M 1 S\n",
      "Generating images for CONFIGURATION_4\n",
      "\tProgress: 100.0 %  ---  Elapsed Time: 0 H 0 M 6 S\n"
     ]
    }
   ],
   "source": [
    "new_dataset = dl.make_dataset('data/demo.yaml', survey='ztf', store_in_memory=False, store_sample=True, verbose=True)"
   ]
  },
  {
   "cell_type": "code",
   "execution_count": 8,
   "metadata": {},
   "outputs": [
    {
     "data": {
      "image/png": "[encoded data removed]",
      "text/plain": [
       "<Figure size 432x288 with 1 Axes>"
      ]
     },
     "metadata": {},
     "output_type": "display_data"
    }
   ],
   "source": [
    "view_image(new_dataset.CONFIGURATION_4_images[2][0])"
   ]
  },
  {
   "cell_type": "markdown",
   "metadata": {},
   "source": [
    "In `new_dataset` we are not simulating exactly the same system, since new parameters are drawn from specified distributions each time `make_dataset()` is called. However, the difference in `seeing` and `pixel_scale` between the Zwicky Transient Facility and the Hubble Space Telescope are certainly observable."
   ]
  },
  {
   "cell_type": "code",
   "execution_count": null,
   "metadata": {},
   "outputs": [],
   "source": []
  }
 ],
 "metadata": {
  "kernelspec": {
   "display_name": "Python 3",
   "language": "python",
   "name": "python3"
  },
  "language_info": {
   "codemirror_mode": {
    "name": "ipython",
    "version": 3
   },
   "file_extension": ".py",
   "mimetype": "text/x-python",
   "name": "python",
   "nbconvert_exporter": "python",
   "pygments_lexer": "ipython3",
   "version": "3.7.8"
  }
 },
 "nbformat": 4,
 "nbformat_minor": 2
}
