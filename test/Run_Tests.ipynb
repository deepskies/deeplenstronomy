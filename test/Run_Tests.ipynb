{
 "cells": [
  {
   "cell_type": "markdown",
   "metadata": {},
   "source": [
    "# Tests of `deeplenstronomy`\n",
    "\n",
    "`deeplenstronomy` has several different operating modes deriving from different arguments passed to the `deeplenstronomy.make_dataset()` function. This notebook runs the same testing script several times, each time with a different set of arguments."
   ]
  },
  {
   "cell_type": "markdown",
   "metadata": {},
   "source": [
    "Remove the status file to start at the first set of arguments."
   ]
  },
  {
   "cell_type": "code",
   "execution_count": 1,
   "metadata": {},
   "outputs": [],
   "source": [
    "! rm status.txt"
   ]
  },
  {
   "cell_type": "code",
   "execution_count": 2,
   "metadata": {},
   "outputs": [
    {
     "name": "stdout",
     "output_type": "stream",
     "text": [
      "\u001b[1m========================================================================= test session starts ==========================================================================\u001b[0m\n",
      "platform darwin -- Python 3.7.8, pytest-6.1.2, py-1.9.0, pluggy-0.13.1\n",
      "rootdir: /Users/rmorgan/Research/Thesis/deeplenstronomy\n",
      "collected 16 items                                                                                                                                                     \u001b[0m\u001b[1m\n",
      "\n",
      "test_all.py \u001b[32m.\u001b[0m\u001b[32m.\u001b[0m\u001b[32m.\u001b[0m\u001b[32m.\u001b[0m\u001b[32m.\u001b[0m\u001b[32m.\u001b[0m\u001b[32m.\u001b[0m\u001b[32m.\u001b[0m\u001b[32m.\u001b[0m\u001b[32m.\u001b[0m\u001b[32m.\u001b[0m\u001b[32m.\u001b[0m\u001b[32m.\u001b[0m\u001b[32m.\u001b[0m\u001b[32m.\u001b[0m\u001b[32m.\u001b[0m\u001b[32m                                                                                                                                     [100%]\u001b[0m\n",
      "\n",
      "\u001b[32m========================================================================= \u001b[32m\u001b[1m16 passed\u001b[0m\u001b[32m in 14.65s\u001b[0m\u001b[32m ==========================================================================\u001b[0m\n",
      "Finished testing argument set \n",
      "0"
     ]
    }
   ],
   "source": [
    "! pytest && echo \"Finished testing argument set \" && cat status.txt "
   ]
  },
  {
   "cell_type": "code",
   "execution_count": 3,
   "metadata": {},
   "outputs": [
    {
     "name": "stdout",
     "output_type": "stream",
     "text": [
      "\u001b[1m========================================================================= test session starts ==========================================================================\u001b[0m\n",
      "platform darwin -- Python 3.7.8, pytest-6.1.2, py-1.9.0, pluggy-0.13.1\n",
      "rootdir: /Users/rmorgan/Research/Thesis/deeplenstronomy\n",
      "collected 16 items                                                                                                                                                     \u001b[0m\u001b[1m\n",
      "\n",
      "test_all.py \u001b[32m.\u001b[0m\u001b[32m.\u001b[0m\u001b[32m.\u001b[0m\u001b[32m.\u001b[0m\u001b[32m.\u001b[0m\u001b[32m.\u001b[0m\u001b[32m.\u001b[0m\u001b[32m.\u001b[0m\u001b[32m.\u001b[0m\u001b[32m.\u001b[0m\u001b[32m.\u001b[0m\u001b[32m.\u001b[0m\u001b[32m.\u001b[0m\u001b[32m.\u001b[0m\u001b[32m.\u001b[0m\u001b[32m.\u001b[0m\u001b[32m                                                                                                                                     [100%]\u001b[0m\n",
      "\n",
      "\u001b[32m========================================================================== \u001b[32m\u001b[1m16 passed\u001b[0m\u001b[32m in 5.14s\u001b[0m\u001b[32m ==========================================================================\u001b[0m\n",
      "Finished testing argument set \n",
      "1"
     ]
    }
   ],
   "source": [
    "! pytest && echo \"Finished testing argument set \" && cat status.txt "
   ]
  },
  {
   "cell_type": "code",
   "execution_count": 4,
   "metadata": {},
   "outputs": [
    {
     "name": "stdout",
     "output_type": "stream",
     "text": [
      "\u001b[1m========================================================================= test session starts ==========================================================================\u001b[0m\n",
      "platform darwin -- Python 3.7.8, pytest-6.1.2, py-1.9.0, pluggy-0.13.1\n",
      "rootdir: /Users/rmorgan/Research/Thesis/deeplenstronomy\n",
      "collected 16 items                                                                                                                                                     \u001b[0m\u001b[1m\n",
      "\n",
      "test_all.py \u001b[32m.\u001b[0m\u001b[32m.\u001b[0m\u001b[32m.\u001b[0m\u001b[32m.\u001b[0m\u001b[32m.\u001b[0m\u001b[32m.\u001b[0m\u001b[32m.\u001b[0m\u001b[32m.\u001b[0m\u001b[32m.\u001b[0m\u001b[32m.\u001b[0m\u001b[32m.\u001b[0m\u001b[32m.\u001b[0m\u001b[32m.\u001b[0m\u001b[32m.\u001b[0m\u001b[32m.\u001b[0m\u001b[32m.\u001b[0m\u001b[32m                                                                                                                                     [100%]\u001b[0m\n",
      "\n",
      "\u001b[32m========================================================================== \u001b[32m\u001b[1m16 passed\u001b[0m\u001b[32m in 4.72s\u001b[0m\u001b[32m ==========================================================================\u001b[0m\n",
      "Finished testing argument set \n",
      "2"
     ]
    }
   ],
   "source": [
    "! pytest && echo \"Finished testing argument set \" && cat status.txt "
   ]
  },
  {
   "cell_type": "code",
   "execution_count": 5,
   "metadata": {},
   "outputs": [
    {
     "name": "stdout",
     "output_type": "stream",
     "text": [
      "\u001b[1m========================================================================= test session starts ==========================================================================\u001b[0m\n",
      "platform darwin -- Python 3.7.8, pytest-6.1.2, py-1.9.0, pluggy-0.13.1\n",
      "rootdir: /Users/rmorgan/Research/Thesis/deeplenstronomy\n",
      "collected 16 items                                                                                                                                                     \u001b[0m\u001b[1m\n",
      "\n",
      "test_all.py \u001b[32m.\u001b[0m\u001b[32m.\u001b[0m\u001b[32m.\u001b[0m\u001b[32m.\u001b[0m\u001b[32m.\u001b[0m\u001b[32m.\u001b[0m\u001b[32m.\u001b[0m\u001b[32m.\u001b[0m\u001b[32m.\u001b[0m\u001b[32m.\u001b[0m\u001b[32m.\u001b[0m\u001b[32m.\u001b[0m\u001b[32m.\u001b[0m\u001b[32m.\u001b[0m\u001b[32m.\u001b[0m\u001b[32m.\u001b[0m\u001b[32m                                                                                                                                     [100%]\u001b[0m\n",
      "\n",
      "\u001b[32m========================================================================== \u001b[32m\u001b[1m16 passed\u001b[0m\u001b[32m in 1.52s\u001b[0m\u001b[32m ==========================================================================\u001b[0m\n",
      "Finished testing argument set \n",
      "3"
     ]
    }
   ],
   "source": [
    "! pytest && echo \"Finished testing argument set \" && cat status.txt "
   ]
  },
  {
   "cell_type": "code",
   "execution_count": 6,
   "metadata": {},
   "outputs": [
    {
     "name": "stdout",
     "output_type": "stream",
     "text": [
      "\u001b[1m========================================================================= test session starts ==========================================================================\u001b[0m\n",
      "platform darwin -- Python 3.7.8, pytest-6.1.2, py-1.9.0, pluggy-0.13.1\n",
      "rootdir: /Users/rmorgan/Research/Thesis/deeplenstronomy\n",
      "collected 16 items                                                                                                                                                     \u001b[0m\u001b[1m\n",
      "\n",
      "test_all.py \u001b[32m.\u001b[0m\u001b[32m.\u001b[0m\u001b[32m.\u001b[0m\u001b[32m.\u001b[0m\u001b[32m.\u001b[0m\u001b[32m.\u001b[0m\u001b[32m.\u001b[0m\u001b[32m.\u001b[0m\u001b[32m.\u001b[0m\u001b[32m.\u001b[0m\u001b[32m.\u001b[0m\u001b[32m.\u001b[0m\u001b[32m.\u001b[0m\u001b[32m.\u001b[0m\u001b[32m.\u001b[0m\u001b[32m.\u001b[0m\u001b[32m                                                                                                                                     [100%]\u001b[0m\n",
      "\n",
      "\u001b[32m========================================================================== \u001b[32m\u001b[1m16 passed\u001b[0m\u001b[32m in 5.00s\u001b[0m\u001b[32m ==========================================================================\u001b[0m\n",
      "Finished testing argument set \n",
      "4"
     ]
    }
   ],
   "source": [
    "! pytest && echo \"Finished testing argument set \" && cat status.txt "
   ]
  },
  {
   "cell_type": "code",
   "execution_count": 7,
   "metadata": {},
   "outputs": [
    {
     "name": "stdout",
     "output_type": "stream",
     "text": [
      "\u001b[1m========================================================================= test session starts ==========================================================================\u001b[0m\n",
      "platform darwin -- Python 3.7.8, pytest-6.1.2, py-1.9.0, pluggy-0.13.1\n",
      "rootdir: /Users/rmorgan/Research/Thesis/deeplenstronomy\n",
      "collected 16 items                                                                                                                                                     \u001b[0m\u001b[1m\n",
      "\n",
      "test_all.py \u001b[32m.\u001b[0m\u001b[32m.\u001b[0m\u001b[32m.\u001b[0m\u001b[32m.\u001b[0m\u001b[32m.\u001b[0m\u001b[32m.\u001b[0m\u001b[32m.\u001b[0m\u001b[32m.\u001b[0m\u001b[32m.\u001b[0m\u001b[32m.\u001b[0m\u001b[32m.\u001b[0m\u001b[32m.\u001b[0m\u001b[32m.\u001b[0m\u001b[32m.\u001b[0m\u001b[32m.\u001b[0m\u001b[32m.\u001b[0m\u001b[32m                                                                                                                                     [100%]\u001b[0m\n",
      "\n",
      "\u001b[32m========================================================================== \u001b[32m\u001b[1m16 passed\u001b[0m\u001b[32m in 4.73s\u001b[0m\u001b[32m ==========================================================================\u001b[0m\n",
      "Finished testing argument set \n",
      "5"
     ]
    }
   ],
   "source": [
    "! pytest && echo \"Finished testing argument set \" && cat status.txt "
   ]
  },
  {
   "cell_type": "code",
   "execution_count": 8,
   "metadata": {},
   "outputs": [
    {
     "name": "stdout",
     "output_type": "stream",
     "text": [
      "\u001b[1m========================================================================= test session starts ==========================================================================\u001b[0m\n",
      "platform darwin -- Python 3.7.8, pytest-6.1.2, py-1.9.0, pluggy-0.13.1\n",
      "rootdir: /Users/rmorgan/Research/Thesis/deeplenstronomy\n",
      "collected 16 items                                                                                                                                                     \u001b[0m\u001b[1m\n",
      "\n",
      "test_all.py \u001b[32m.\u001b[0m\u001b[32m.\u001b[0m\u001b[32m.\u001b[0m\u001b[32m.\u001b[0m\u001b[32m.\u001b[0m\u001b[32m.\u001b[0m\u001b[32m.\u001b[0m\u001b[32m.\u001b[0m\u001b[32m.\u001b[0m\u001b[32m.\u001b[0m\u001b[32m.\u001b[0m\u001b[32m.\u001b[0m\u001b[32m.\u001b[0m\u001b[32m.\u001b[0m\u001b[32m.\u001b[0m\u001b[32m.\u001b[0m\u001b[32m                                                                                                                                     [100%]\u001b[0m\n",
      "\n",
      "\u001b[32m========================================================================== \u001b[32m\u001b[1m16 passed\u001b[0m\u001b[32m in 1.44s\u001b[0m\u001b[32m ==========================================================================\u001b[0m\n",
      "Finished testing argument set \n",
      "6"
     ]
    }
   ],
   "source": [
    "! pytest && echo \"Finished testing argument set \" && cat status.txt "
   ]
  },
  {
   "cell_type": "code",
   "execution_count": 9,
   "metadata": {},
   "outputs": [
    {
     "name": "stdout",
     "output_type": "stream",
     "text": [
      "\u001b[1m========================================================================= test session starts ==========================================================================\u001b[0m\n",
      "platform darwin -- Python 3.7.8, pytest-6.1.2, py-1.9.0, pluggy-0.13.1\n",
      "rootdir: /Users/rmorgan/Research/Thesis/deeplenstronomy\n",
      "collected 16 items                                                                                                                                                     \u001b[0m\u001b[1m\n",
      "\n",
      "test_all.py \u001b[32m.\u001b[0m\u001b[32m.\u001b[0m\u001b[32m.\u001b[0m\u001b[32m.\u001b[0m\u001b[32m.\u001b[0m\u001b[32m.\u001b[0m\u001b[32m.\u001b[0m\u001b[32m.\u001b[0m\u001b[32m.\u001b[0m\u001b[32m.\u001b[0m\u001b[32m.\u001b[0m\u001b[32m.\u001b[0m\u001b[32m.\u001b[0m\u001b[32m.\u001b[0m\u001b[32m.\u001b[0m\u001b[32m.\u001b[0m\u001b[32m                                                                                                                                     [100%]\u001b[0m\n",
      "\n",
      "\u001b[32m========================================================================== \u001b[32m\u001b[1m16 passed\u001b[0m\u001b[32m in 5.88s\u001b[0m\u001b[32m ==========================================================================\u001b[0m\n",
      "Finished testing argument set \n",
      "7"
     ]
    }
   ],
   "source": [
    "! pytest && echo \"Finished testing argument set \" && cat status.txt "
   ]
  },
  {
   "cell_type": "code",
   "execution_count": 10,
   "metadata": {},
   "outputs": [
    {
     "name": "stdout",
     "output_type": "stream",
     "text": [
      "\u001b[1m========================================================================= test session starts ==========================================================================\u001b[0m\n",
      "platform darwin -- Python 3.7.8, pytest-6.1.2, py-1.9.0, pluggy-0.13.1\n",
      "rootdir: /Users/rmorgan/Research/Thesis/deeplenstronomy\n",
      "collected 16 items                                                                                                                                                     \u001b[0m\u001b[1m\n",
      "\n",
      "test_all.py \u001b[32m.\u001b[0m\u001b[32m.\u001b[0m\u001b[32m.\u001b[0m\u001b[32m.\u001b[0m\u001b[32m.\u001b[0m\u001b[32m.\u001b[0m\u001b[32m.\u001b[0m\u001b[32m.\u001b[0m\u001b[32m.\u001b[0m\u001b[32m.\u001b[0m\u001b[32m.\u001b[0m\u001b[32m.\u001b[0m\u001b[32m.\u001b[0m\u001b[32m.\u001b[0m\u001b[32m.\u001b[0m\u001b[32m.\u001b[0m\u001b[32m                                                                                                                                     [100%]\u001b[0m\n",
      "\n",
      "\u001b[32m========================================================================== \u001b[32m\u001b[1m16 passed\u001b[0m\u001b[32m in 7.53s\u001b[0m\u001b[32m ==========================================================================\u001b[0m\n",
      "Finished testing argument set \n",
      "8"
     ]
    }
   ],
   "source": [
    "! pytest && echo \"Finished testing argument set \" && cat status.txt "
   ]
  },
  {
   "cell_type": "code",
   "execution_count": 11,
   "metadata": {},
   "outputs": [
    {
     "name": "stdout",
     "output_type": "stream",
     "text": [
      "\u001b[1m========================================================================= test session starts ==========================================================================\u001b[0m\n",
      "platform darwin -- Python 3.7.8, pytest-6.1.2, py-1.9.0, pluggy-0.13.1\n",
      "rootdir: /Users/rmorgan/Research/Thesis/deeplenstronomy\n",
      "collected 16 items                                                                                                                                                     \u001b[0m\u001b[1m\n",
      "\n",
      "test_all.py \u001b[32m.\u001b[0m\u001b[32m.\u001b[0m\u001b[32m.\u001b[0m\u001b[32m.\u001b[0m\u001b[32m.\u001b[0m\u001b[32m.\u001b[0m\u001b[32m.\u001b[0m\u001b[32m.\u001b[0m\u001b[32m.\u001b[0m\u001b[32m.\u001b[0m\u001b[32m.\u001b[0m\u001b[32m.\u001b[0m\u001b[32m.\u001b[0m\u001b[32m.\u001b[0m\u001b[32m.\u001b[0m\u001b[32m.\u001b[0m\u001b[32m                                                                                                                                     [100%]\u001b[0m\n",
      "\n",
      "\u001b[32m========================================================================== \u001b[32m\u001b[1m16 passed\u001b[0m\u001b[32m in 4.60s\u001b[0m\u001b[32m ==========================================================================\u001b[0m\n",
      "Finished testing argument set \n",
      "0"
     ]
    }
   ],
   "source": [
    "! pytest && echo \"Finished testing argument set \" && cat status.txt "
   ]
  },
  {
   "cell_type": "markdown",
   "metadata": {},
   "source": [
    "Now that we've cycled back to argument set 0, all argument sets have been tested."
   ]
  },
  {
   "cell_type": "code",
   "execution_count": null,
   "metadata": {},
   "outputs": [],
   "source": []
  }
 ],
 "metadata": {
  "kernelspec": {
   "display_name": "Python 3",
   "language": "python",
   "name": "python3"
  },
  "language_info": {
   "codemirror_mode": {
    "name": "ipython",
    "version": 3
   },
   "file_extension": ".py",
   "mimetype": "text/x-python",
   "name": "python",
   "nbconvert_exporter": "python",
   "pygments_lexer": "ipython3",
   "version": "3.7.8"
  }
 },
 "nbformat": 4,
 "nbformat_minor": 4
}
