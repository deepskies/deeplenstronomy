{
 "cells": [
  {
   "cell_type": "code",
   "execution_count": 2,
   "metadata": {},
   "outputs": [],
   "source": [
    "import deeplenstronomy.deeplenstronomy as dl"
   ]
  },
  {
   "cell_type": "code",
   "execution_count": 3,
   "metadata": {},
   "outputs": [
    {
     "name": "stdout",
     "output_type": "stream",
     "text": [
      "Help on module deeplenstronomy.deeplenstronomy in deeplenstronomy:\n",
      "\n",
      "NAME\n",
      "    deeplenstronomy.deeplenstronomy - # Outer shell to do everything for you\n",
      "\n",
      "CLASSES\n",
      "    builtins.object\n",
      "        Dataset\n",
      "    \n",
      "    class Dataset(builtins.object)\n",
      "     |  Dataset(config_file=None, save=False, store=True)\n",
      "     |  \n",
      "     |  Methods defined here:\n",
      "     |  \n",
      "     |  __init__(self, config_file=None, save=False, store=True)\n",
      "     |      Initialize self.  See help(type(self)) for accurate signature.\n",
      "     |  \n",
      "     |  ----------------------------------------------------------------------\n",
      "     |  Data descriptors defined here:\n",
      "     |  \n",
      "     |  __dict__\n",
      "     |      dictionary for instance variables (if defined)\n",
      "     |  \n",
      "     |  __weakref__\n",
      "     |      list of weak references to the object (if defined)\n",
      "\n",
      "FUNCTIONS\n",
      "    flatten_image_info(sim_dict)\n",
      "        Sim dict will have structure \n",
      "            {'g': {'param1': value1}, 'r': {'param1': value2} ...}\n",
      "        This function will change the structure to\n",
      "            {'param1_g': value1, 'param1_r': value2, ...}\n",
      "        \n",
      "        :param sim_dict: input sim_dict for ImageGenerator class\n",
      "        :returns out_dict: flattened sim_dict\n",
      "    \n",
      "    make_dataset(config_file, dataset=None, save=False, store=True)\n",
      "        Generate a dataset from a config file\n",
      "        \n",
      "        :param config_file: yaml file specifying dataset characteristics\n",
      "        :return: dataset: instance of dataset class\n",
      "    \n",
      "    view_image(image)\n",
      "    \n",
      "    view_image_rgb(image, Q=2.0, stretch=4.0)\n",
      "\n",
      "FILE\n",
      "    /Users/rmorgan/Research/Thesis/deeplenstronomy/deeplenstronomy/deeplenstronomy.py\n",
      "\n",
      "\n"
     ]
    }
   ],
   "source": [
    "help(dl)"
   ]
  },
  {
   "cell_type": "code",
   "execution_count": null,
   "metadata": {},
   "outputs": [],
   "source": []
  }
 ],
 "metadata": {
  "kernelspec": {
   "display_name": "Python 3",
   "language": "python",
   "name": "python3"
  },
  "language_info": {
   "codemirror_mode": {
    "name": "ipython",
    "version": 3
   },
   "file_extension": ".py",
   "mimetype": "text/x-python",
   "name": "python",
   "nbconvert_exporter": "python",
   "pygments_lexer": "ipython3",
   "version": "3.7.1"
  }
 },
 "nbformat": 4,
 "nbformat_minor": 2
}
