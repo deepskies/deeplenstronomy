{
 "cells": [
  {
   "cell_type": "code",
   "execution_count": 6,
   "metadata": {},
   "outputs": [],
   "source": [
    "from deeplenstronomy.ImSim.lenstronomy_wrapper import LenstronomyAPI\n",
    "from deeplenstronomy.SkySurveyModel import sky_survey"
   ]
  },
  {
   "cell_type": "code",
   "execution_count": 9,
   "metadata": {},
   "outputs": [],
   "source": [
    "survey = sky_survey.survey_constructor(\"LSST\", \"g\")\n",
    "lenssystem= LenstronomyAPI(survey)"
   ]
  },
  {
   "cell_type": "code",
   "execution_count": 10,
   "metadata": {},
   "outputs": [
    {
     "ename": "TypeError",
     "evalue": "sim_image() missing 23 required positional arguments: 'numpix', 'z_lens', 'z_source', 'mass', 'velocity_dispersion', 'axis_ratio_lens', 'inclination_angle_lens', 'lens_center_ra', 'lens_center_dec', 'magnitude_lens_light', 'halflight_radius_lens_light', 'n_sersic_lens_light', 'axis_ratio_lens_light', 'inclination_angle_lens_light', 'lens_light_center_ra', 'lens_light_center_dec', 'magnitude_source', 'halflight_radius_source', 'n_sersic_source', 'axis_ratio_source', 'inclination_angle_source', 'source_center_ra', and 'source_center_dec'",
     "output_type": "error",
     "traceback": [
      "\u001b[0;31m---------------------------------------------------------------------------\u001b[0m",
      "\u001b[0;31mTypeError\u001b[0m                                 Traceback (most recent call last)",
      "\u001b[0;32m<ipython-input-10-f654ec60811e>\u001b[0m in \u001b[0;36m<module>\u001b[0;34m\u001b[0m\n\u001b[0;32m----> 1\u001b[0;31m \u001b[0mlensmodel\u001b[0m\u001b[0;34m,\u001b[0m \u001b[0mkwargs_lens\u001b[0m \u001b[0;34m=\u001b[0m \u001b[0mlenssystem\u001b[0m\u001b[0;34m.\u001b[0m\u001b[0msim_image\u001b[0m\u001b[0;34m(\u001b[0m\u001b[0;34m)\u001b[0m\u001b[0;34m\u001b[0m\u001b[0;34m\u001b[0m\u001b[0m\n\u001b[0m",
      "\u001b[0;31mTypeError\u001b[0m: sim_image() missing 23 required positional arguments: 'numpix', 'z_lens', 'z_source', 'mass', 'velocity_dispersion', 'axis_ratio_lens', 'inclination_angle_lens', 'lens_center_ra', 'lens_center_dec', 'magnitude_lens_light', 'halflight_radius_lens_light', 'n_sersic_lens_light', 'axis_ratio_lens_light', 'inclination_angle_lens_light', 'lens_light_center_ra', 'lens_light_center_dec', 'magnitude_source', 'halflight_radius_source', 'n_sersic_source', 'axis_ratio_source', 'inclination_angle_source', 'source_center_ra', and 'source_center_dec'"
     ]
    }
   ],
   "source": [
    "lensmodel, kwargs_lens = lenssystem.sim_image()"
   ]
  },
  {
   "cell_type": "code",
   "execution_count": null,
   "metadata": {},
   "outputs": [],
   "source": []
  }
 ],
 "metadata": {
  "kernelspec": {
   "display_name": "Python 3",
   "language": "python",
   "name": "python3"
  },
  "language_info": {
   "codemirror_mode": {
    "name": "ipython",
    "version": 3
   },
   "file_extension": ".py",
   "mimetype": "text/x-python",
   "name": "python",
   "nbconvert_exporter": "python",
   "pygments_lexer": "ipython3",
   "version": "3.7.2"
  }
 },
 "nbformat": 4,
 "nbformat_minor": 2
}
