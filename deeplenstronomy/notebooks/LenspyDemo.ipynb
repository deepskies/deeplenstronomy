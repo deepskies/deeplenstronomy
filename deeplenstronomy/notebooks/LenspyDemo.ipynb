{
 "cells": [
  {
   "cell_type": "markdown",
   "metadata": {},
   "source": [
    "# Lenspy Demo\n",
    "\n",
    "Written by Robert Morgan\n",
    "\n",
    "`lenspy` is a software package that let's you interact with the strong gravitational lensing simulation software `lenstronomy` in a streamlined framework. Let's take a look at how it works!"
   ]
  },
  {
   "cell_type": "code",
   "execution_count": null,
   "metadata": {},
   "outputs": [],
   "source": [
    "import lenspy"
   ]
  },
  {
   "cell_type": "markdown",
   "metadata": {},
   "source": [
    "`lenspy` works by reading user-prepared configuration files. start by specifying the configuration file you will use to make the dataset."
   ]
  },
  {
   "cell_type": "code",
   "execution_count": null,
   "metadata": {},
   "outputs": [],
   "source": [
    "config_file = 'configs/des_gal_gal.yaml'"
   ]
  },
  {
   "cell_type": "markdown",
   "metadata": {},
   "source": [
    "The configuration file is a yaml-style file for specifying all the properties of your dataset. Here is what this file contains:"
   ]
  },
  {
   "cell_type": "code",
   "execution_count": null,
   "metadata": {},
   "outputs": [],
   "source": [
    "! cat configs/des_gal_gal.yaml"
   ]
  },
  {
   "cell_type": "markdown",
   "metadata": {},
   "source": [
    "Let's break down what the different sections mean:\n",
    "\n",
    "<add lot's of details here>"
   ]
  },
  {
   "cell_type": "markdown",
   "metadata": {},
   "source": [
    "## Simulating a Dataset\n",
    "\n",
    "Let's put `lenspy` to work!\n",
    "\n",
    "Start by deciding whether you want to save the dataset to files or operate in an interactive mode. \n",
    "- Set `store=True` to store the dataset in a varaible\n",
    "- Set `save=True` to output the dataset as files\n",
    "\n",
    "The default is the interactive mode with `store=True` and `save=False`. Let's work with that first."
   ]
  },
  {
   "cell_type": "code",
   "execution_count": null,
   "metadata": {},
   "outputs": [],
   "source": [
    "dataset = lenspy.make_dataset(config_file)"
   ]
  },
  {
   "cell_type": "markdown",
   "metadata": {},
   "source": [
    "That's it. You now have your dataset."
   ]
  },
  {
   "cell_type": "markdown",
   "metadata": {},
   "source": [
    "## Interacting with the Dataset\n",
    "\n",
    "Now that we have a dataset, let's look at what was stored in the `dataset` variable.\n",
    "\n",
    "The configuration labels you specified in the configuration file are stored here. The reasoning here is if you plan to do some sort of supervised classification, you will probably want to have the images labeled."
   ]
  },
  {
   "cell_type": "code",
   "execution_count": null,
   "metadata": {},
   "outputs": [],
   "source": [
    "print(dataset.configurations)"
   ]
  },
  {
   "cell_type": "markdown",
   "metadata": {},
   "source": [
    "The dataset name, size, and output directory are also stored as attributes of the dataset object."
   ]
  },
  {
   "cell_type": "code",
   "execution_count": null,
   "metadata": {},
   "outputs": [],
   "source": [
    "print(dataset.name)\n",
    "print(dataset.size)\n",
    "print(dataset.outdir)"
   ]
  },
  {
   "cell_type": "markdown",
   "metadata": {},
   "source": [
    "There are a few other things that get stored automatically (that you can explore via `dir(dataset)`), but we'll shift our focus to the things we simulated.\n",
    "\n",
    "The most interesting information is stored here in these attributes:"
   ]
  },
  {
   "cell_type": "code",
   "execution_count": null,
   "metadata": {},
   "outputs": [],
   "source": [
    "for item in [x for x in dir(dataset) if x[0:13] == 'CONFIGURATION']:\n",
    "    print(item)"
   ]
  },
  {
   "cell_type": "markdown",
   "metadata": {},
   "source": [
    "The `_images` attribute is a `numpy.ndarray` object and the `_metadata` attribute is a `pandas.DataFrame` object."
   ]
  },
  {
   "cell_type": "code",
   "execution_count": null,
   "metadata": {},
   "outputs": [],
   "source": [
    "print(type(dataset.CONFIGURATION_1_images))\n",
    "print(type(dataset.CONFIGURATION_1_metadata))"
   ]
  },
  {
   "cell_type": "markdown",
   "metadata": {},
   "source": [
    "### Images\n",
    "\n",
    "Let's checkout some of the images in the `dataset.CONFIGURATION_1_images` attribute.\n",
    "\n",
    "What's in this array?"
   ]
  },
  {
   "cell_type": "code",
   "execution_count": null,
   "metadata": {},
   "outputs": [],
   "source": [
    "print(dataset.CONFIGURATION_1_images.shape)"
   ]
  },
  {
   "cell_type": "markdown",
   "metadata": {},
   "source": [
    "The array dimensions are (image index, band, x_pixels, y_pixels). \n",
    "\n",
    "The number of images is the size of the dataset multiplied by the fraction of the dataset in CONFIGURATION_1, both of which you specify in the configuration file. The bands used is also specified in the configuration file. Finally, yup you guessed it, the image dimensions are also specified in the configuration file."
   ]
  },
  {
   "cell_type": "markdown",
   "metadata": {},
   "source": [
    "`lenspy` also has built-in vizualization functions.\n",
    "\n",
    "Let's look at the r-band of image index 2 in CONFIGURATION_1:"
   ]
  },
  {
   "cell_type": "code",
   "execution_count": null,
   "metadata": {},
   "outputs": [],
   "source": [
    "lenspy.view_image(dataset.CONFIGURATION_1_images[2][1])"
   ]
  },
  {
   "cell_type": "markdown",
   "metadata": {},
   "source": [
    "You can also look at all the bands for this image at once."
   ]
  },
  {
   "cell_type": "code",
   "execution_count": null,
   "metadata": {},
   "outputs": [],
   "source": [
    "lenspy.view_image(dataset.CONFIGURATION_1_images[2])"
   ]
  },
  {
   "cell_type": "markdown",
   "metadata": {},
   "source": [
    "Finally, you can convert the single band images into a single RGB image:"
   ]
  },
  {
   "cell_type": "code",
   "execution_count": null,
   "metadata": {},
   "outputs": [],
   "source": [
    "lenspy.view_image_rgb(dataset.CONFIGURATION_1_images[2])"
   ]
  },
  {
   "cell_type": "markdown",
   "metadata": {},
   "source": [
    "### Metadata\n",
    "\n",
    "Once you have an image, you may want to consider the parameters that went into its generation to better understand what you made. To check that out, you can view the metadata saved by `lenspy`.\n",
    "\n",
    "Let's look at the properties of the metadata."
   ]
  },
  {
   "cell_type": "code",
   "execution_count": null,
   "metadata": {},
   "outputs": [],
   "source": [
    "dataset.CONFIGURATION_1_metadata.shape"
   ]
  },
  {
   "cell_type": "markdown",
   "metadata": {},
   "source": [
    "Wow. That's a lot of columns. The number of columns increases with the complexity of your configurations, since there is more information for `lenspy` to keep track of. The columns are also broken up my band, so doubling the number of bands will double the number of columns in the metadata.\n",
    "\n",
    "Let's look at the column names to see what information we have."
   ]
  },
  {
   "cell_type": "code",
   "execution_count": null,
   "metadata": {},
   "outputs": [],
   "source": [
    "for col in dataset.CONFIGURATION_1_metadata.columns:\n",
    "    print(col)"
   ]
  },
  {
   "cell_type": "markdown",
   "metadata": {},
   "source": [
    "Every individual number used in the `lenstronomy` simulation is tracked."
   ]
  },
  {
   "cell_type": "markdown",
   "metadata": {},
   "source": [
    "As well, the row index in the metadata dataframe corresponds to the image index in the image array, so you can track which image has which properties. The dataframe contents can be accessed like this:"
   ]
  },
  {
   "cell_type": "code",
   "execution_count": null,
   "metadata": {},
   "outputs": [],
   "source": [
    "dataset.CONFIGURATION_1_metadata.iloc[0:5]"
   ]
  },
  {
   "cell_type": "markdown",
   "metadata": {},
   "source": [
    "## Saving Datasets\n",
    "\n",
    "If you are working in interactive mode, you can straightforwardly save the images array and metadata dataframe in any file format you are comfortable with.\n",
    "\n",
    "If you instead choose to set the `save=True` option when making your dataset, let's look at what gets saved where."
   ]
  },
  {
   "cell_type": "code",
   "execution_count": null,
   "metadata": {},
   "outputs": [],
   "source": [
    "saved_dataset = lenspy.make_dataset(config_file, save=True)"
   ]
  },
  {
   "cell_type": "markdown",
   "metadata": {},
   "source": [
    "Recall that the dataset object has the user-specified out directory as an attribute."
   ]
  },
  {
   "cell_type": "code",
   "execution_count": null,
   "metadata": {},
   "outputs": [],
   "source": [
    "print(saved_dataset.outdir)"
   ]
  },
  {
   "cell_type": "markdown",
   "metadata": {},
   "source": [
    "Let's look in that directory."
   ]
  },
  {
   "cell_type": "code",
   "execution_count": null,
   "metadata": {},
   "outputs": [],
   "source": [
    "! ls DES_GalGal"
   ]
  },
  {
   "cell_type": "markdown",
   "metadata": {},
   "source": [
    "The image arrays have been stored as numpy files. They can be loaded by doing\n",
    "```python\n",
    "images = numpy.load('DES_GalGal/CONFIGURATION_1_images.npy').item()\n",
    "```\n",
    "\n",
    "The metadata dataframes have been written to csv files. They can be loaded by doing\n",
    "```python\n",
    "metadata = pandas.read_csv('DES_GalGal/CONFIGURATION_1_metadata.csv')\n",
    "```\n",
    "\n",
    "Future versions of `lenspy` will include file format flexibility and built in dataset loading funcitons."
   ]
  },
  {
   "cell_type": "markdown",
   "metadata": {},
   "source": [
    "## The End\n",
    "\n",
    "That's pretty much it to `lenspy`! Feel free to contact me with any suggestions or bugs."
   ]
  },
  {
   "cell_type": "markdown",
   "metadata": {},
   "source": [
    "Have fun `lenspy`-ing!"
   ]
  }
 ],
 "metadata": {
  "kernelspec": {
   "display_name": "Python 3",
   "language": "python",
   "name": "python3"
  },
  "language_info": {
   "codemirror_mode": {
    "name": "ipython",
    "version": 3
   },
   "file_extension": ".py",
   "mimetype": "text/x-python",
   "name": "python",
   "nbconvert_exporter": "python",
   "pygments_lexer": "ipython3",
   "version": "3.7.1"
  }
 },
 "nbformat": 4,
 "nbformat_minor": 2
}
