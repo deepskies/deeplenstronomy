{
 "cells": [
  {
   "cell_type": "markdown",
   "metadata": {},
   "source": [
    "# Active Update Demo\n",
    "\n",
    "Written by Robert Morgan\n",
    "\n",
    "Demonstrates using `deeplenstronomy` in an active learning framework"
   ]
  },
  {
   "cell_type": "code",
   "execution_count": 1,
   "metadata": {},
   "outputs": [],
   "source": [
    "import deeplenstronomy.deeplenstronomy as dl"
   ]
  },
  {
   "cell_type": "markdown",
   "metadata": {},
   "source": [
    "## Introduction\n",
    "\n",
    "First we'll simulate a dataset for which we may want to update some of the parameters.\n",
    "\n",
    "We'll use a very basic configuration file for this example:"
   ]
  },
  {
   "cell_type": "code",
   "execution_count": 2,
   "metadata": {},
   "outputs": [
    {
     "name": "stdout",
     "output_type": "stream",
     "text": [
      "DATASET:\r\n",
      "    NAME: Tester\r\n",
      "    PARAMETERS:\r\n",
      "        SIZE: 1\r\n",
      "        OUTDIR: Tester\r\n",
      "\r\n",
      "IMAGE:\r\n",
      "    PARAMETERS:\r\n",
      "        exposure_time: 90\r\n",
      "        numPix: 64\r\n",
      "        pixel_scale: 0.263\r\n",
      "        psf_type: 'GAUSSIAN'\r\n",
      "        read_noise: 7\r\n",
      "        ccd_gain: 4\r\n",
      "\r\n",
      "SURVEY:\r\n",
      "    PARAMETERS:\r\n",
      "        BANDS: 'g,r,i,z'\r\n",
      "        seeing: 1.0\r\n",
      "        magnitude_zero_point: 30.0\r\n",
      "        sky_brightness: 29.0\r\n",
      "        num_exposures: 1\r\n",
      "\r\n",
      "COSMOLOGY:\r\n",
      "    PARAMETERS:\r\n",
      "        H0: 70\r\n",
      "        Om0: 0.3\r\n",
      "\r\n",
      "SPECIES:\r\n",
      "    GALAXY_1:\r\n",
      "        NAME: LENS\r\n",
      "        LIGHT_PROFILE_1:\r\n",
      "            NAME: SERSIC_ELLIPSE\r\n",
      "            PARAMETERS:\r\n",
      "                center_x: 0.0\r\n",
      "                center_y: 0.0\r\n",
      "                R_sersic: 6\r\n",
      "                n_sersic: 5\r\n",
      "                e1: 0.2\r\n",
      "                e2: -0.1\r\n",
      "                magnitude: 17.0\r\n",
      "        MASS_PROFILE_1:\r\n",
      "            NAME: SIE\r\n",
      "            PARAMETERS:\r\n",
      "                theta_E: 3.0\r\n",
      "                e1: 0.1\r\n",
      "                e2: -0.1\r\n",
      "                center_x: 0.0\r\n",
      "                center_y: 0.0\r\n",
      "    GALAXY_2:\r\n",
      "        NAME: SOURCE\r\n",
      "        LIGHT_PROFILE_1:\r\n",
      "            NAME: SERSIC_ELLIPSE\r\n",
      "            PARAMETERS:\r\n",
      "                center_x: 0.0\r\n",
      "                center_y: 0.0\r\n",
      "                R_sersic: 6\r\n",
      "                n_sersic: 5\r\n",
      "                e1: 0.2\r\n",
      "                e2: -0.1\r\n",
      "                magnitude: 18.0\r\n",
      "    NOISE_1:\r\n",
      "        NAME: POISSON_NOISE\r\n",
      "        PARAMETERS:\r\n",
      "            mean: 2.0\r\n",
      "\r\n",
      "GEOMETRY:\r\n",
      "    CONFIGURATION_1:\r\n",
      "        NAME: TEST\r\n",
      "        FRACTION: 1.0\r\n",
      "        PLANE_1:\r\n",
      "            OBJECT_1: LENS\r\n",
      "            PARAMETERS:\r\n",
      "                REDSHIFT: 0.2\r\n",
      "        PLANE_2:\r\n",
      "            OBJECT_1: SOURCE\r\n",
      "            PARAMETERS:\r\n",
      "                REDSHIFT: 0.6\r\n",
      "        NOISE_SOURCE_1: POISSON_NOISE\r\n"
     ]
    }
   ],
   "source": [
    "config_file = '../Configs/test.yaml'\n",
    "! cat ../Configs/test.yaml"
   ]
  },
  {
   "cell_type": "markdown",
   "metadata": {},
   "source": [
    "Great, now make the dataset."
   ]
  },
  {
   "cell_type": "code",
   "execution_count": 3,
   "metadata": {},
   "outputs": [],
   "source": [
    "dataset = dl.make_dataset(config_file)"
   ]
  },
  {
   "cell_type": "markdown",
   "metadata": {},
   "source": [
    "As a reminder of what the `make_dataset()` function does, let's look at the attributes of teh `dataset` object."
   ]
  },
  {
   "cell_type": "code",
   "execution_count": 4,
   "metadata": {},
   "outputs": [
    {
     "name": "stdout",
     "output_type": "stream",
     "text": [
      "CONFIGURATION_1_images\n",
      "CONFIGURATION_1_metadata\n",
      "_locate\n",
      "config_dict\n",
      "config_file\n",
      "configurations\n",
      "name\n",
      "outdir\n",
      "regenerate\n",
      "size\n",
      "species_map\n",
      "update_param\n",
      "update_param_dist\n"
     ]
    }
   ],
   "source": [
    "for x in dir(dataset):\n",
    "    if x[0:2] != '__': print(x)"
   ]
  },
  {
   "cell_type": "markdown",
   "metadata": {},
   "source": [
    "We'll be spending a lot of time looking at `update_param`, `update_param_dist`, and `regenerate`, but for now let's check out the actual image and it's metadata. The dataset size was 1 in the config file, so there will only be one image to look at."
   ]
  },
  {
   "cell_type": "code",
   "execution_count": 5,
   "metadata": {
    "scrolled": true
   },
   "outputs": [
    {
     "data": {
      "image/png": "[encoded data removed]",
      "text/plain": [
       "<Figure size 432x288 with 1 Axes>"
      ]
     },
     "metadata": {},
     "output_type": "display_data"
    }
   ],
   "source": [
    "dl.view_image_rgb(dataset.CONFIGURATION_1_images[0])"
   ]
  },
  {
   "cell_type": "code",
   "execution_count": 6,
   "metadata": {},
   "outputs": [
    {
     "name": "stdout",
     "output_type": "stream",
     "text": [
      "OBJID : 0\n",
      "H0 : 70\n",
      "Om0 : 0.3\n",
      "exposure_time : 90\n",
      "numPix : 64\n",
      "pixel_scale : 0.263\n",
      "psf_type : GAUSSIAN\n",
      "read_noise : 7\n",
      "ccd_gain : 4\n",
      "seeing : 1.0\n",
      "magnitude_zero_point : 30.0\n",
      "sky_brightness : 29.0\n",
      "num_exposures : 1\n",
      "NUMBER_OF_NOISE_SOURCES : 1\n",
      "NOISE_SOURCE_1-NAME : POISSON_NOISE\n",
      "NOISE_SOURCE_1-mean : 2.0\n",
      "CONFIGURATION_LABEL : CONFIGURATION_1\n",
      "CONFIGURATION_NAME : TEST\n",
      "NUMBER_OF_PLANES : 2\n",
      "PLANE_1-NUMBER_OF_OBJECTS : 1\n",
      "PLANE_1-OBJECT_1-NAME : LENS\n",
      "PLANE_2-NUMBER_OF_OBJECTS : 1\n",
      "PLANE_2-OBJECT_1-NAME : SOURCE\n",
      "PLANE_1-OBJECT_1-REDSHIFT : 0.2\n",
      "PLANE_1-OBJECT_1-NUMBER_OF_LIGHT_PROFILES : 1\n",
      "PLANE_1-OBJECT_1-NUMBER_OF_SHEAR_PROFILES : 0\n",
      "PLANE_1-OBJECT_1-NUMBER_OF_MASS_PROFILES : 1\n",
      "PLANE_1-OBJECT_1-HOST : None\n",
      "PLANE_1-OBJECT_1-LIGHT_PROFILE_1-NAME : SERSIC_ELLIPSE\n",
      "PLANE_1-OBJECT_1-LIGHT_PROFILE_1-center_x : 0.0\n",
      "PLANE_1-OBJECT_1-LIGHT_PROFILE_1-center_y : 0.0\n",
      "PLANE_1-OBJECT_1-LIGHT_PROFILE_1-R_sersic : 6\n",
      "PLANE_1-OBJECT_1-LIGHT_PROFILE_1-n_sersic : 5\n",
      "PLANE_1-OBJECT_1-LIGHT_PROFILE_1-e1 : 0.2\n",
      "PLANE_1-OBJECT_1-LIGHT_PROFILE_1-e2 : -0.1\n",
      "PLANE_1-OBJECT_1-LIGHT_PROFILE_1-magnitude : 17.0\n",
      "PLANE_1-OBJECT_1-MASS_PROFILE_1-NAME : SIE\n",
      "PLANE_1-OBJECT_1-MASS_PROFILE_1-theta_E : 3.0\n",
      "PLANE_1-OBJECT_1-MASS_PROFILE_1-e1 : 0.1\n",
      "PLANE_1-OBJECT_1-MASS_PROFILE_1-e2 : -0.1\n",
      "PLANE_1-OBJECT_1-MASS_PROFILE_1-center_x : 0.0\n",
      "PLANE_1-OBJECT_1-MASS_PROFILE_1-center_y : 0.0\n",
      "PLANE_2-OBJECT_1-REDSHIFT : 0.6\n",
      "PLANE_2-OBJECT_1-NUMBER_OF_LIGHT_PROFILES : 1\n",
      "PLANE_2-OBJECT_1-NUMBER_OF_SHEAR_PROFILES : 0\n",
      "PLANE_2-OBJECT_1-NUMBER_OF_MASS_PROFILES : 0\n",
      "PLANE_2-OBJECT_1-HOST : None\n",
      "PLANE_2-OBJECT_1-LIGHT_PROFILE_1-NAME : SERSIC_ELLIPSE\n",
      "PLANE_2-OBJECT_1-LIGHT_PROFILE_1-center_x : 0.0\n",
      "PLANE_2-OBJECT_1-LIGHT_PROFILE_1-center_y : 0.0\n",
      "PLANE_2-OBJECT_1-LIGHT_PROFILE_1-R_sersic : 6\n",
      "PLANE_2-OBJECT_1-LIGHT_PROFILE_1-n_sersic : 5\n",
      "PLANE_2-OBJECT_1-LIGHT_PROFILE_1-e1 : 0.2\n",
      "PLANE_2-OBJECT_1-LIGHT_PROFILE_1-e2 : -0.1\n",
      "PLANE_2-OBJECT_1-LIGHT_PROFILE_1-magnitude : 18.0\n"
     ]
    }
   ],
   "source": [
    "for col in dataset.CONFIGURATION_1_metadata.columns:\n",
    "    if col[-1] == 'g':\n",
    "        print(col[0:-2], ':', dataset.CONFIGURATION_1_metadata[col].values[0])"
   ]
  },
  {
   "cell_type": "markdown",
   "metadata": {},
   "source": [
    "## Updating Parameters\n",
    "\n",
    "Let's take a look at the `update_param()` function to see how it works."
   ]
  },
  {
   "cell_type": "code",
   "execution_count": 7,
   "metadata": {},
   "outputs": [
    {
     "name": "stdout",
     "output_type": "stream",
     "text": [
      "Help on method update_param in module deeplenstronomy.deeplenstronomy:\n",
      "\n",
      "update_param(new_param_dict, configuration) method of deeplenstronomy.deeplenstronomy.Dataset instance\n",
      "    Update single parameters to new values\n",
      "    \n",
      "    :param new_param_dict: {'param_1_name': new_value_1, 'param_2_name': new_value_2, ...}\n",
      "    :param configuration: like 'CONFIGURATION_1', 'CONFIGURATION_2', etc...\n",
      "\n",
      "None\n"
     ]
    }
   ],
   "source": [
    "print(help(dataset.update_param))"
   ]
  },
  {
   "cell_type": "markdown",
   "metadata": {},
   "source": [
    "So let's suppose we want to change `num_exposures` to 3 and force the source galaxy to be 3 arc sec to the right. From the metadata columns in the above list, create a dictionary with the parameter and new value."
   ]
  },
  {
   "cell_type": "code",
   "execution_count": 8,
   "metadata": {},
   "outputs": [],
   "source": [
    "new_param_dict = {'num_exposures': 3, 'PLANE_2-OBJECT_1-LIGHT_PROFILE_1-center_x': 3.0}"
   ]
  },
  {
   "cell_type": "markdown",
   "metadata": {},
   "source": [
    "And now just call the update function. You will always need to specify the configuration, so if you want to make the change for all configuration, just run the update function in a loop."
   ]
  },
  {
   "cell_type": "code",
   "execution_count": 9,
   "metadata": {},
   "outputs": [],
   "source": [
    "dataset.update_param(new_param_dict, 'CONFIGURATION_1')"
   ]
  },
  {
   "cell_type": "markdown",
   "metadata": {},
   "source": [
    "To see if that worked, let's print out the dataset's `config_dict`, which stores all the info about the dataset."
   ]
  },
  {
   "cell_type": "code",
   "execution_count": 10,
   "metadata": {},
   "outputs": [
    {
     "data": {
      "text/plain": [
       "{'DATASET': {'NAME': 'Tester', 'PARAMETERS': {'SIZE': 1, 'OUTDIR': 'Tester'}},\n",
       " 'IMAGE': {'PARAMETERS': {'exposure_time': 90,\n",
       "   'numPix': 64,\n",
       "   'pixel_scale': 0.263,\n",
       "   'psf_type': 'GAUSSIAN',\n",
       "   'read_noise': 7,\n",
       "   'ccd_gain': 4}},\n",
       " 'SURVEY': {'PARAMETERS': {'BANDS': 'g,r,i,z',\n",
       "   'seeing': 1.0,\n",
       "   'magnitude_zero_point': 30.0,\n",
       "   'sky_brightness': 29.0,\n",
       "   'num_exposures': 3}},\n",
       " 'COSMOLOGY': {'PARAMETERS': {'H0': 70, 'Om0': 0.3}},\n",
       " 'SPECIES': {'GALAXY_1': {'NAME': 'LENS',\n",
       "   'LIGHT_PROFILE_1': {'NAME': 'SERSIC_ELLIPSE',\n",
       "    'PARAMETERS': {'center_x': 0.0,\n",
       "     'center_y': 0.0,\n",
       "     'R_sersic': 6,\n",
       "     'n_sersic': 5,\n",
       "     'e1': 0.2,\n",
       "     'e2': -0.1,\n",
       "     'magnitude': 17.0}},\n",
       "   'MASS_PROFILE_1': {'NAME': 'SIE',\n",
       "    'PARAMETERS': {'theta_E': 3.0,\n",
       "     'e1': 0.1,\n",
       "     'e2': -0.1,\n",
       "     'center_x': 0.0,\n",
       "     'center_y': 0.0}}},\n",
       "  'GALAXY_2': {'NAME': 'SOURCE',\n",
       "   'LIGHT_PROFILE_1': {'NAME': 'SERSIC_ELLIPSE',\n",
       "    'PARAMETERS': {'center_x': 3.0,\n",
       "     'center_y': 0.0,\n",
       "     'R_sersic': 6,\n",
       "     'n_sersic': 5,\n",
       "     'e1': 0.2,\n",
       "     'e2': -0.1,\n",
       "     'magnitude': 18.0}}},\n",
       "  'NOISE_1': {'NAME': 'POISSON_NOISE', 'PARAMETERS': {'mean': 2.0}}},\n",
       " 'GEOMETRY': {'CONFIGURATION_1': {'NAME': 'TEST',\n",
       "   'FRACTION': 1.0,\n",
       "   'PLANE_1': {'OBJECT_1': 'LENS', 'PARAMETERS': {'REDSHIFT': 0.2}},\n",
       "   'PLANE_2': {'OBJECT_1': 'SOURCE', 'PARAMETERS': {'REDSHIFT': 0.6}},\n",
       "   'NOISE_SOURCE_1': 'POISSON_NOISE',\n",
       "   'SIZE': 1,\n",
       "   'SIM_DICT': {'CONFIGURATION_LABEL': 'CONFIGURATION_1',\n",
       "    'CONFIGURATION_NAME': 'TEST',\n",
       "    'NUMBER_OF_PLANES': 2,\n",
       "    'PLANE_1-NUMBER_OF_OBJECTS': 1,\n",
       "    'PLANE_1-OBJECT_1-NAME': 'LENS',\n",
       "    'PLANE_2-NUMBER_OF_OBJECTS': 1,\n",
       "    'PLANE_2-OBJECT_1-NAME': 'SOURCE'}}}}"
      ]
     },
     "execution_count": 10,
     "metadata": {},
     "output_type": "execute_result"
    }
   ],
   "source": [
    "dataset.config_dict"
   ]
  },
  {
   "cell_type": "markdown",
   "metadata": {},
   "source": [
    "As you can see the parameters have been updated. Now to regenerate the dataset, let's check out the `regenerate()` function."
   ]
  },
  {
   "cell_type": "code",
   "execution_count": 11,
   "metadata": {},
   "outputs": [
    {
     "name": "stdout",
     "output_type": "stream",
     "text": [
      "Help on method regenerate in module deeplenstronomy.deeplenstronomy:\n",
      "\n",
      "regenerate(save=False, store=True) method of deeplenstronomy.deeplenstronomy.Dataset instance\n",
      "    Using the dictionary stored in self.config_dict, make a new dataset\n",
      "    \n",
      "    :param store: If true, the generated data is stored as attributes of this object\n",
      "    :param save: If true, the generated data is written to disk\n",
      "\n",
      "None\n"
     ]
    }
   ],
   "source": [
    "print(help(dataset.regenerate))"
   ]
  },
  {
   "cell_type": "code",
   "execution_count": 12,
   "metadata": {},
   "outputs": [],
   "source": [
    "dataset.regenerate()"
   ]
  },
  {
   "cell_type": "markdown",
   "metadata": {},
   "source": [
    "To really convince ourselves that this worked, let's look at the image again."
   ]
  },
  {
   "cell_type": "code",
   "execution_count": 13,
   "metadata": {},
   "outputs": [
    {
     "data": {
      "image/png": "[encoded data removed]",
      "text/plain": [
       "<Figure size 432x288 with 1 Axes>"
      ]
     },
     "metadata": {},
     "output_type": "display_data"
    }
   ],
   "source": [
    "dl.view_image_rgb(dataset.CONFIGURATION_1_images[0])"
   ]
  },
  {
   "cell_type": "markdown",
   "metadata": {},
   "source": [
    "While it's tough to tell by eye that the `num_exposures` was updated, we can see the source galaxy has been moved 3 arcseconds to the right. Woohoo! \n",
    "\n",
    "Next, let's say we want a parameter to be drawn from a distribution, and we want to update the characteristics of that distribution. In this case, we'll use the `update_param_dist()` function."
   ]
  },
  {
   "cell_type": "code",
   "execution_count": 14,
   "metadata": {},
   "outputs": [
    {
     "name": "stdout",
     "output_type": "stream",
     "text": [
      "Help on method update_param_dist in module deeplenstronomy.deeplenstronomy:\n",
      "\n",
      "update_param_dist(new_param_dist_dict, configuration) method of deeplenstronomy.deeplenstronomy.Dataset instance\n",
      "    Update the distribution from which a parameter is drawn\n",
      "    \n",
      "    :param new_param_dist_dict: should look like this:\n",
      "        {'param_1_name': {'name': 'uniform', \n",
      "                          'parameters': {'minimum': new_value_1, \n",
      "                                         'maximum': new_value_2}},\n",
      "         'param_2_name': {'name': 'uniform', \n",
      "                          'parameters': {'minimum': new_value_3, \n",
      "                                         'maximum': new_value_4}}, ...}\n",
      "    :param configuration: like 'CONFIGURATION_1', 'CONFIGURATION_2', etc...\n",
      "\n",
      "None\n"
     ]
    }
   ],
   "source": [
    "print(help(dataset.update_param_dist))"
   ]
  },
  {
   "cell_type": "markdown",
   "metadata": {},
   "source": [
    "So let's suppose that after some analysis we've decided the source galaxy's center_y parameter should be drawn from a uniform distribution on the interval [4, -2]."
   ]
  },
  {
   "cell_type": "code",
   "execution_count": 15,
   "metadata": {},
   "outputs": [],
   "source": [
    "new_param_dist_dict = {'PLANE_2-OBJECT_1-LIGHT_PROFILE_1-center_y': {'name': 'uniform',\n",
    "                                                                     'parameters': {'minimum': -4, \n",
    "                                                                                    'maximum': -2}}}\n",
    "dataset.update_param_dist(new_param_dist_dict, 'CONFIGURATION_1')"
   ]
  },
  {
   "cell_type": "markdown",
   "metadata": {},
   "source": [
    "Again, we can verify that the change was implemented by looking at the configuration dictionary:"
   ]
  },
  {
   "cell_type": "code",
   "execution_count": 16,
   "metadata": {},
   "outputs": [
    {
     "data": {
      "text/plain": [
       "{'DATASET': {'NAME': 'Tester', 'PARAMETERS': {'SIZE': 1, 'OUTDIR': 'Tester'}},\n",
       " 'IMAGE': {'PARAMETERS': {'exposure_time': 90,\n",
       "   'numPix': 64,\n",
       "   'pixel_scale': 0.263,\n",
       "   'psf_type': 'GAUSSIAN',\n",
       "   'read_noise': 7,\n",
       "   'ccd_gain': 4}},\n",
       " 'SURVEY': {'PARAMETERS': {'BANDS': 'g,r,i,z',\n",
       "   'seeing': 1.0,\n",
       "   'magnitude_zero_point': 30.0,\n",
       "   'sky_brightness': 29.0,\n",
       "   'num_exposures': 3}},\n",
       " 'COSMOLOGY': {'PARAMETERS': {'H0': 70, 'Om0': 0.3}},\n",
       " 'SPECIES': {'GALAXY_1': {'NAME': 'LENS',\n",
       "   'LIGHT_PROFILE_1': {'NAME': 'SERSIC_ELLIPSE',\n",
       "    'PARAMETERS': {'center_x': 0.0,\n",
       "     'center_y': 0.0,\n",
       "     'R_sersic': 6,\n",
       "     'n_sersic': 5,\n",
       "     'e1': 0.2,\n",
       "     'e2': -0.1,\n",
       "     'magnitude': 17.0}},\n",
       "   'MASS_PROFILE_1': {'NAME': 'SIE',\n",
       "    'PARAMETERS': {'theta_E': 3.0,\n",
       "     'e1': 0.1,\n",
       "     'e2': -0.1,\n",
       "     'center_x': 0.0,\n",
       "     'center_y': 0.0}}},\n",
       "  'GALAXY_2': {'NAME': 'SOURCE',\n",
       "   'LIGHT_PROFILE_1': {'NAME': 'SERSIC_ELLIPSE',\n",
       "    'PARAMETERS': {'center_x': 3.0,\n",
       "     'center_y': {'DISTRIBUTION': {'NAME': 'uniform',\n",
       "       'PARAMETERS': {'minimum': -4, 'maximum': -2}}},\n",
       "     'R_sersic': 6,\n",
       "     'n_sersic': 5,\n",
       "     'e1': 0.2,\n",
       "     'e2': -0.1,\n",
       "     'magnitude': 18.0}}},\n",
       "  'NOISE_1': {'NAME': 'POISSON_NOISE', 'PARAMETERS': {'mean': 2.0}}},\n",
       " 'GEOMETRY': {'CONFIGURATION_1': {'NAME': 'TEST',\n",
       "   'FRACTION': 1.0,\n",
       "   'PLANE_1': {'OBJECT_1': 'LENS', 'PARAMETERS': {'REDSHIFT': 0.2}},\n",
       "   'PLANE_2': {'OBJECT_1': 'SOURCE', 'PARAMETERS': {'REDSHIFT': 0.6}},\n",
       "   'NOISE_SOURCE_1': 'POISSON_NOISE',\n",
       "   'SIZE': 1,\n",
       "   'SIM_DICT': {'CONFIGURATION_LABEL': 'CONFIGURATION_1',\n",
       "    'CONFIGURATION_NAME': 'TEST',\n",
       "    'NUMBER_OF_PLANES': 2,\n",
       "    'PLANE_1-NUMBER_OF_OBJECTS': 1,\n",
       "    'PLANE_1-OBJECT_1-NAME': 'LENS',\n",
       "    'PLANE_2-NUMBER_OF_OBJECTS': 1,\n",
       "    'PLANE_2-OBJECT_1-NAME': 'SOURCE'}}}}"
      ]
     },
     "execution_count": 16,
     "metadata": {},
     "output_type": "execute_result"
    }
   ],
   "source": [
    "dataset.config_dict"
   ]
  },
  {
   "cell_type": "markdown",
   "metadata": {},
   "source": [
    "Now all that's left to do is regenerate the dataset and check out the results."
   ]
  },
  {
   "cell_type": "code",
   "execution_count": 17,
   "metadata": {},
   "outputs": [],
   "source": [
    "dataset.regenerate()"
   ]
  },
  {
   "cell_type": "code",
   "execution_count": 18,
   "metadata": {},
   "outputs": [
    {
     "data": {
      "image/png": "[encoded data removed]",
      "text/plain": [
       "<Figure size 432x288 with 1 Axes>"
      ]
     },
     "metadata": {},
     "output_type": "display_data"
    }
   ],
   "source": [
    "dl.view_image_rgb(dataset.CONFIGURATION_1_images[0])"
   ]
  },
  {
   "cell_type": "code",
   "execution_count": null,
   "metadata": {},
   "outputs": [],
   "source": []
  }
 ],
 "metadata": {
  "kernelspec": {
   "display_name": "Python 3",
   "language": "python",
   "name": "python3"
  },
  "language_info": {
   "codemirror_mode": {
    "name": "ipython",
    "version": 3
   },
   "file_extension": ".py",
   "mimetype": "text/x-python",
   "name": "python",
   "nbconvert_exporter": "python",
   "pygments_lexer": "ipython3",
   "version": "3.7.1"
  }
 },
 "nbformat": 4,
 "nbformat_minor": 2
}
